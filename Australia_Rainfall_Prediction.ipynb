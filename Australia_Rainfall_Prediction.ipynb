{
 "cells": [
  {
   "cell_type": "markdown",
   "metadata": {
    "id": "hURatPwOdESX"
   },
   "source": [
    "\n",
    "<a id='0'></a>\n",
    "\n",
    "# Rainfall prediction problem \n"
   ]
  },
  {
   "cell_type": "markdown",
   "metadata": {
    "id": "bfl3tA2CdESe"
   },
   "source": [
    "## 1. The problem statement <a class=\"anchor\" id=\"1\"></a>\n",
    "\n",
    "In this kernel, we try to answer the question that whether or not it will rain tomorrow in Australia. We implement different models and analyse which would suit best.\n",
    "\n",
    "Data Sources: http://www.bom.gov.au/climate/data/\n",
    "\n",
    "Definitions of the Features: http://www.bom.gov.au/climate/dwo/IDCJDW0000.shtml\n",
    "\n",
    "\n"
   ]
  },
  {
   "cell_type": "markdown",
   "metadata": {
    "id": "DLv5QC4JdESe"
   },
   "source": [
    "## 2. Import libraries <a class=\"anchor\" id=\"2\"></a>\n"
   ]
  },
  {
   "cell_type": "code",
   "execution_count": 338,
   "metadata": {
    "id": "EjtyAcvwdESf"
   },
   "outputs": [],
   "source": [
    "import numpy as np # linear algebra\n",
    "import pandas as pd # data processing, CSV file I/O (e.g. pd.read_csv)\n",
    "\n",
    "# import libraries for plotting\n",
    "import matplotlib.pyplot as plt\n",
    "import seaborn as sns\n",
    "%matplotlib inline\n",
    "from sklearn.preprocessing import LabelEncoder\n",
    "import tensorflow as tf\n",
    "from tensorflow import keras\n",
    "from tensorflow.keras import layers\n",
    "\n",
    "from keras.layers import Dense, BatchNormalization, Dropout, LSTM\n",
    "from keras.models import Sequential\n",
    "from keras.utils import to_categorical\n",
    "from sklearn.metrics import precision_score, recall_score, confusion_matrix, classification_report, accuracy_score, f1_score\n",
    "from keras import callbacks"
   ]
  },
  {
   "cell_type": "code",
   "execution_count": 339,
   "metadata": {
    "id": "mze9rS6XdESf"
   },
   "outputs": [],
   "source": [
    "import warnings\n",
    "\n",
    "warnings.filterwarnings('ignore')"
   ]
  },
  {
   "cell_type": "markdown",
   "metadata": {
    "id": "_y7xzJPRdESg"
   },
   "source": [
    "## 3. Import dataset <a class=\"anchor\" id=\"3\"></a>\n"
   ]
  },
  {
   "cell_type": "code",
   "execution_count": 340,
   "metadata": {
    "id": "hhjhEd2TZqRB"
   },
   "outputs": [],
   "source": [
    "df = pd.read_csv(\"weatherAUS_untill_feb.csv\")"
   ]
  },
  {
   "cell_type": "markdown",
   "metadata": {
    "id": "CfO1LSXDdESg"
   },
   "source": [
    "## 4. Exploratory data analysis <a class=\"anchor\" id=\"4\"></a>\n"
   ]
  },
  {
   "cell_type": "markdown",
   "metadata": {
    "id": "n_33iWSRdESh"
   },
   "source": [
    "### View dimensions of dataset <a class=\"anchor\" id=\"4.1\"></a>"
   ]
  },
  {
   "cell_type": "code",
   "execution_count": 341,
   "metadata": {
    "colab": {
     "base_uri": "https://localhost:8080/"
    },
    "id": "7VSq37_SdESh",
    "outputId": "a7731a69-87ff-46f3-c9b7-3791c7647ad8"
   },
   "outputs": [
    {
     "data": {
      "text/plain": [
       "(191431, 24)"
      ]
     },
     "execution_count": 341,
     "metadata": {},
     "output_type": "execute_result"
    }
   ],
   "source": [
    "df.shape"
   ]
  },
  {
   "cell_type": "markdown",
   "metadata": {
    "id": "bi_5K27NdESj"
   },
   "source": [
    "We can see that there are 191431 instances and 24 variables in the data set."
   ]
  },
  {
   "cell_type": "markdown",
   "metadata": {
    "id": "N98zI3tldESj"
   },
   "source": [
    "### Preview the dataset <a class=\"anchor\" id=\"4.2\"></a>"
   ]
  },
  {
   "cell_type": "code",
   "execution_count": 342,
   "metadata": {
    "colab": {
     "base_uri": "https://localhost:8080/",
     "height": 309
    },
    "id": "4lnRs5rIdESj",
    "outputId": "5a01c1c3-ca7c-4c76-d7dd-5da5530a2c6e"
   },
   "outputs": [
    {
     "data": {
      "text/html": [
       "<div>\n",
       "<style scoped>\n",
       "    .dataframe tbody tr th:only-of-type {\n",
       "        vertical-align: middle;\n",
       "    }\n",
       "\n",
       "    .dataframe tbody tr th {\n",
       "        vertical-align: top;\n",
       "    }\n",
       "\n",
       "    .dataframe thead th {\n",
       "        text-align: right;\n",
       "    }\n",
       "</style>\n",
       "<table border=\"1\" class=\"dataframe\">\n",
       "  <thead>\n",
       "    <tr style=\"text-align: right;\">\n",
       "      <th></th>\n",
       "      <th>Date</th>\n",
       "      <th>Location</th>\n",
       "      <th>MinTemp</th>\n",
       "      <th>MaxTemp</th>\n",
       "      <th>Rainfall</th>\n",
       "      <th>Evaporation</th>\n",
       "      <th>Sunshine</th>\n",
       "      <th>WindGustDir</th>\n",
       "      <th>WindGustSpeed</th>\n",
       "      <th>WindDir9am</th>\n",
       "      <th>...</th>\n",
       "      <th>Humidity3pm</th>\n",
       "      <th>Pressure9am</th>\n",
       "      <th>Pressure3pm</th>\n",
       "      <th>Cloud9am</th>\n",
       "      <th>Cloud3pm</th>\n",
       "      <th>Temp9am</th>\n",
       "      <th>Temp3pm</th>\n",
       "      <th>RainToday</th>\n",
       "      <th>RISK_MM</th>\n",
       "      <th>RainTomorrow</th>\n",
       "    </tr>\n",
       "  </thead>\n",
       "  <tbody>\n",
       "    <tr>\n",
       "      <th>0</th>\n",
       "      <td>2008-12-01</td>\n",
       "      <td>Albury</td>\n",
       "      <td>13.4</td>\n",
       "      <td>22.9</td>\n",
       "      <td>0.6</td>\n",
       "      <td>NaN</td>\n",
       "      <td>NaN</td>\n",
       "      <td>W</td>\n",
       "      <td>44.0</td>\n",
       "      <td>W</td>\n",
       "      <td>...</td>\n",
       "      <td>22.0</td>\n",
       "      <td>1007.7</td>\n",
       "      <td>1007.1</td>\n",
       "      <td>8.0</td>\n",
       "      <td>NaN</td>\n",
       "      <td>16.9</td>\n",
       "      <td>21.8</td>\n",
       "      <td>No</td>\n",
       "      <td>0.0</td>\n",
       "      <td>No</td>\n",
       "    </tr>\n",
       "    <tr>\n",
       "      <th>1</th>\n",
       "      <td>2008-12-02</td>\n",
       "      <td>Albury</td>\n",
       "      <td>7.4</td>\n",
       "      <td>25.1</td>\n",
       "      <td>0.0</td>\n",
       "      <td>NaN</td>\n",
       "      <td>NaN</td>\n",
       "      <td>WNW</td>\n",
       "      <td>44.0</td>\n",
       "      <td>NNW</td>\n",
       "      <td>...</td>\n",
       "      <td>25.0</td>\n",
       "      <td>1010.6</td>\n",
       "      <td>1007.8</td>\n",
       "      <td>NaN</td>\n",
       "      <td>NaN</td>\n",
       "      <td>17.2</td>\n",
       "      <td>24.3</td>\n",
       "      <td>No</td>\n",
       "      <td>0.0</td>\n",
       "      <td>No</td>\n",
       "    </tr>\n",
       "    <tr>\n",
       "      <th>2</th>\n",
       "      <td>2008-12-03</td>\n",
       "      <td>Albury</td>\n",
       "      <td>12.9</td>\n",
       "      <td>25.7</td>\n",
       "      <td>0.0</td>\n",
       "      <td>NaN</td>\n",
       "      <td>NaN</td>\n",
       "      <td>WSW</td>\n",
       "      <td>46.0</td>\n",
       "      <td>W</td>\n",
       "      <td>...</td>\n",
       "      <td>30.0</td>\n",
       "      <td>1007.6</td>\n",
       "      <td>1008.7</td>\n",
       "      <td>NaN</td>\n",
       "      <td>2.0</td>\n",
       "      <td>21.0</td>\n",
       "      <td>23.2</td>\n",
       "      <td>No</td>\n",
       "      <td>0.0</td>\n",
       "      <td>No</td>\n",
       "    </tr>\n",
       "    <tr>\n",
       "      <th>3</th>\n",
       "      <td>2008-12-04</td>\n",
       "      <td>Albury</td>\n",
       "      <td>9.2</td>\n",
       "      <td>28.0</td>\n",
       "      <td>0.0</td>\n",
       "      <td>NaN</td>\n",
       "      <td>NaN</td>\n",
       "      <td>NE</td>\n",
       "      <td>24.0</td>\n",
       "      <td>SE</td>\n",
       "      <td>...</td>\n",
       "      <td>16.0</td>\n",
       "      <td>1017.6</td>\n",
       "      <td>1012.8</td>\n",
       "      <td>NaN</td>\n",
       "      <td>NaN</td>\n",
       "      <td>18.1</td>\n",
       "      <td>26.5</td>\n",
       "      <td>No</td>\n",
       "      <td>1.0</td>\n",
       "      <td>No</td>\n",
       "    </tr>\n",
       "    <tr>\n",
       "      <th>4</th>\n",
       "      <td>2008-12-05</td>\n",
       "      <td>Albury</td>\n",
       "      <td>17.5</td>\n",
       "      <td>32.3</td>\n",
       "      <td>1.0</td>\n",
       "      <td>NaN</td>\n",
       "      <td>NaN</td>\n",
       "      <td>W</td>\n",
       "      <td>41.0</td>\n",
       "      <td>ENE</td>\n",
       "      <td>...</td>\n",
       "      <td>33.0</td>\n",
       "      <td>1010.8</td>\n",
       "      <td>1006.0</td>\n",
       "      <td>7.0</td>\n",
       "      <td>8.0</td>\n",
       "      <td>17.8</td>\n",
       "      <td>29.7</td>\n",
       "      <td>No</td>\n",
       "      <td>0.2</td>\n",
       "      <td>No</td>\n",
       "    </tr>\n",
       "  </tbody>\n",
       "</table>\n",
       "<p>5 rows × 24 columns</p>\n",
       "</div>"
      ],
      "text/plain": [
       "         Date Location  MinTemp  MaxTemp  Rainfall  Evaporation  Sunshine  \\\n",
       "0  2008-12-01   Albury     13.4     22.9       0.6          NaN       NaN   \n",
       "1  2008-12-02   Albury      7.4     25.1       0.0          NaN       NaN   \n",
       "2  2008-12-03   Albury     12.9     25.7       0.0          NaN       NaN   \n",
       "3  2008-12-04   Albury      9.2     28.0       0.0          NaN       NaN   \n",
       "4  2008-12-05   Albury     17.5     32.3       1.0          NaN       NaN   \n",
       "\n",
       "  WindGustDir  WindGustSpeed WindDir9am  ... Humidity3pm  Pressure9am  \\\n",
       "0           W           44.0          W  ...        22.0       1007.7   \n",
       "1         WNW           44.0        NNW  ...        25.0       1010.6   \n",
       "2         WSW           46.0          W  ...        30.0       1007.6   \n",
       "3          NE           24.0         SE  ...        16.0       1017.6   \n",
       "4           W           41.0        ENE  ...        33.0       1010.8   \n",
       "\n",
       "   Pressure3pm  Cloud9am  Cloud3pm  Temp9am  Temp3pm  RainToday  RISK_MM  \\\n",
       "0       1007.1       8.0       NaN     16.9     21.8         No      0.0   \n",
       "1       1007.8       NaN       NaN     17.2     24.3         No      0.0   \n",
       "2       1008.7       NaN       2.0     21.0     23.2         No      0.0   \n",
       "3       1012.8       NaN       NaN     18.1     26.5         No      1.0   \n",
       "4       1006.0       7.0       8.0     17.8     29.7         No      0.2   \n",
       "\n",
       "   RainTomorrow  \n",
       "0            No  \n",
       "1            No  \n",
       "2            No  \n",
       "3            No  \n",
       "4            No  \n",
       "\n",
       "[5 rows x 24 columns]"
      ]
     },
     "execution_count": 342,
     "metadata": {},
     "output_type": "execute_result"
    }
   ],
   "source": [
    "df.head()"
   ]
  },
  {
   "cell_type": "markdown",
   "metadata": {
    "id": "f5HJUMB_dESk"
   },
   "source": [
    "### View column names <a class=\"anchor\" id=\"4.3\"></a>"
   ]
  },
  {
   "cell_type": "code",
   "execution_count": 343,
   "metadata": {
    "colab": {
     "base_uri": "https://localhost:8080/"
    },
    "id": "pdWmmeRAdESk",
    "outputId": "dae52adf-1199-4d05-f4c9-aebc930fd09b"
   },
   "outputs": [
    {
     "data": {
      "text/plain": [
       "Index(['Date', 'Location', 'MinTemp', 'MaxTemp', 'Rainfall', 'Evaporation',\n",
       "       'Sunshine', 'WindGustDir', 'WindGustSpeed', 'WindDir9am', 'WindDir3pm',\n",
       "       'WindSpeed9am', 'WindSpeed3pm', 'Humidity9am', 'Humidity3pm',\n",
       "       'Pressure9am', 'Pressure3pm', 'Cloud9am', 'Cloud3pm', 'Temp9am',\n",
       "       'Temp3pm', 'RainToday', 'RISK_MM', 'RainTomorrow'],\n",
       "      dtype='object')"
      ]
     },
     "execution_count": 343,
     "metadata": {},
     "output_type": "execute_result"
    }
   ],
   "source": [
    "col_names = df.columns\n",
    "\n",
    "col_names"
   ]
  },
  {
   "cell_type": "code",
   "execution_count": 344,
   "metadata": {
    "id": "Qz92Doq_dESl"
   },
   "outputs": [],
   "source": [
    "df.drop(['RISK_MM'], axis=1, inplace=True)"
   ]
  },
  {
   "cell_type": "markdown",
   "metadata": {
    "id": "FECOVaHudESl"
   },
   "source": [
    "### View summary of dataset <a class=\"anchor\" id=\"4.5\"></a>"
   ]
  },
  {
   "cell_type": "code",
   "execution_count": 345,
   "metadata": {
    "colab": {
     "base_uri": "https://localhost:8080/"
    },
    "id": "JMrrOkpndESl",
    "outputId": "161cc854-dcdd-4ed4-c4e3-a71ef0fa9c76"
   },
   "outputs": [
    {
     "name": "stdout",
     "output_type": "stream",
     "text": [
      "<class 'pandas.core.frame.DataFrame'>\n",
      "RangeIndex: 191431 entries, 0 to 191430\n",
      "Data columns (total 23 columns):\n",
      " #   Column         Non-Null Count   Dtype  \n",
      "---  ------         --------------   -----  \n",
      " 0   Date           191431 non-null  object \n",
      " 1   Location       191431 non-null  object \n",
      " 2   MinTemp        188671 non-null  float64\n",
      " 3   MaxTemp        188876 non-null  float64\n",
      " 4   Rainfall       186394 non-null  float64\n",
      " 5   Evaporation    94845 non-null   float64\n",
      " 6   Sunshine       86442 non-null   float64\n",
      " 7   WindGustDir    176954 non-null  object \n",
      " 8   WindGustSpeed  177055 non-null  float64\n",
      " 9   WindDir9am     176693 non-null  object \n",
      " 10  WindDir3pm     183702 non-null  object \n",
      " 11  WindSpeed9am   188080 non-null  float64\n",
      " 12  WindSpeed3pm   185025 non-null  float64\n",
      " 13  Humidity9am    187603 non-null  float64\n",
      " 14  Humidity3pm    183959 non-null  float64\n",
      " 15  Pressure9am    170333 non-null  float64\n",
      " 16  Pressure3pm    170342 non-null  float64\n",
      " 17  Cloud9am       111072 non-null  float64\n",
      " 18  Cloud3pm       105192 non-null  float64\n",
      " 19  Temp9am        188599 non-null  float64\n",
      " 20  Temp3pm        184959 non-null  float64\n",
      " 21  RainToday      186394 non-null  object \n",
      " 22  RainTomorrow   186393 non-null  object \n",
      "dtypes: float64(16), object(7)\n",
      "memory usage: 33.6+ MB\n"
     ]
    }
   ],
   "source": [
    "df.info()"
   ]
  },
  {
   "cell_type": "markdown",
   "metadata": {
    "id": "q14aQHE_dESm"
   },
   "source": [
    "#### Comment\n",
    "\n",
    "- We can see that the dataset contains mixture of categorical and numerical variables.\n",
    "\n",
    "- Categorical variables have data type `object`.\n",
    "\n",
    "- Numerical variables have data type `float64`.\n",
    "\n",
    "- Also, there are some missing values in the dataset."
   ]
  },
  {
   "cell_type": "markdown",
   "metadata": {
    "id": "WGYS2cYedESm"
   },
   "source": [
    "### View statistical properties of dataset <a class=\"anchor\" id=\"4.6\"></a>"
   ]
  },
  {
   "cell_type": "code",
   "execution_count": 346,
   "metadata": {
    "colab": {
     "base_uri": "https://localhost:8080/",
     "height": 317
    },
    "id": "ADQQ4G0CdESn",
    "outputId": "5ba6e554-ed0a-40f8-fd5d-9fc622742f9b"
   },
   "outputs": [
    {
     "data": {
      "text/html": [
       "<div>\n",
       "<style scoped>\n",
       "    .dataframe tbody tr th:only-of-type {\n",
       "        vertical-align: middle;\n",
       "    }\n",
       "\n",
       "    .dataframe tbody tr th {\n",
       "        vertical-align: top;\n",
       "    }\n",
       "\n",
       "    .dataframe thead th {\n",
       "        text-align: right;\n",
       "    }\n",
       "</style>\n",
       "<table border=\"1\" class=\"dataframe\">\n",
       "  <thead>\n",
       "    <tr style=\"text-align: right;\">\n",
       "      <th></th>\n",
       "      <th>MinTemp</th>\n",
       "      <th>MaxTemp</th>\n",
       "      <th>Rainfall</th>\n",
       "      <th>Evaporation</th>\n",
       "      <th>Sunshine</th>\n",
       "      <th>WindGustSpeed</th>\n",
       "      <th>WindSpeed9am</th>\n",
       "      <th>WindSpeed3pm</th>\n",
       "      <th>Humidity9am</th>\n",
       "      <th>Humidity3pm</th>\n",
       "      <th>Pressure9am</th>\n",
       "      <th>Pressure3pm</th>\n",
       "      <th>Cloud9am</th>\n",
       "      <th>Cloud3pm</th>\n",
       "      <th>Temp9am</th>\n",
       "      <th>Temp3pm</th>\n",
       "    </tr>\n",
       "  </thead>\n",
       "  <tbody>\n",
       "    <tr>\n",
       "      <th>count</th>\n",
       "      <td>188671.000000</td>\n",
       "      <td>188876.000000</td>\n",
       "      <td>186394.000000</td>\n",
       "      <td>94845.000000</td>\n",
       "      <td>86442.000000</td>\n",
       "      <td>177055.000000</td>\n",
       "      <td>188080.000000</td>\n",
       "      <td>185025.000000</td>\n",
       "      <td>187603.000000</td>\n",
       "      <td>183959.000000</td>\n",
       "      <td>170333.000000</td>\n",
       "      <td>170342.000000</td>\n",
       "      <td>111072.000000</td>\n",
       "      <td>105192.000000</td>\n",
       "      <td>188599.000000</td>\n",
       "      <td>184959.000000</td>\n",
       "    </tr>\n",
       "    <tr>\n",
       "      <th>mean</th>\n",
       "      <td>12.098929</td>\n",
       "      <td>23.288598</td>\n",
       "      <td>2.254155</td>\n",
       "      <td>5.541163</td>\n",
       "      <td>7.653487</td>\n",
       "      <td>40.181221</td>\n",
       "      <td>14.070794</td>\n",
       "      <td>18.695814</td>\n",
       "      <td>68.404482</td>\n",
       "      <td>50.890503</td>\n",
       "      <td>1017.760529</td>\n",
       "      <td>1015.335709</td>\n",
       "      <td>4.568406</td>\n",
       "      <td>4.575823</td>\n",
       "      <td>16.966511</td>\n",
       "      <td>21.753657</td>\n",
       "    </tr>\n",
       "    <tr>\n",
       "      <th>std</th>\n",
       "      <td>6.445547</td>\n",
       "      <td>7.168154</td>\n",
       "      <td>8.346685</td>\n",
       "      <td>4.265022</td>\n",
       "      <td>3.768229</td>\n",
       "      <td>13.601082</td>\n",
       "      <td>8.912684</td>\n",
       "      <td>8.769461</td>\n",
       "      <td>19.523763</td>\n",
       "      <td>21.066253</td>\n",
       "      <td>7.066138</td>\n",
       "      <td>7.017521</td>\n",
       "      <td>2.896050</td>\n",
       "      <td>2.748794</td>\n",
       "      <td>6.549200</td>\n",
       "      <td>7.011711</td>\n",
       "    </tr>\n",
       "    <tr>\n",
       "      <th>min</th>\n",
       "      <td>-8.700000</td>\n",
       "      <td>-4.100000</td>\n",
       "      <td>0.000000</td>\n",
       "      <td>0.000000</td>\n",
       "      <td>0.000000</td>\n",
       "      <td>2.000000</td>\n",
       "      <td>0.000000</td>\n",
       "      <td>0.000000</td>\n",
       "      <td>0.000000</td>\n",
       "      <td>0.000000</td>\n",
       "      <td>979.100000</td>\n",
       "      <td>978.900000</td>\n",
       "      <td>0.000000</td>\n",
       "      <td>0.000000</td>\n",
       "      <td>-6.200000</td>\n",
       "      <td>-5.100000</td>\n",
       "    </tr>\n",
       "    <tr>\n",
       "      <th>25%</th>\n",
       "      <td>7.500000</td>\n",
       "      <td>18.000000</td>\n",
       "      <td>0.000000</td>\n",
       "      <td>2.600000</td>\n",
       "      <td>4.900000</td>\n",
       "      <td>31.000000</td>\n",
       "      <td>7.000000</td>\n",
       "      <td>13.000000</td>\n",
       "      <td>56.000000</td>\n",
       "      <td>35.000000</td>\n",
       "      <td>1013.000000</td>\n",
       "      <td>1010.500000</td>\n",
       "      <td>1.000000</td>\n",
       "      <td>2.000000</td>\n",
       "      <td>12.200000</td>\n",
       "      <td>16.600000</td>\n",
       "    </tr>\n",
       "    <tr>\n",
       "      <th>50%</th>\n",
       "      <td>11.900000</td>\n",
       "      <td>22.700000</td>\n",
       "      <td>0.000000</td>\n",
       "      <td>4.800000</td>\n",
       "      <td>8.500000</td>\n",
       "      <td>39.000000</td>\n",
       "      <td>13.000000</td>\n",
       "      <td>19.000000</td>\n",
       "      <td>69.000000</td>\n",
       "      <td>51.000000</td>\n",
       "      <td>1017.700000</td>\n",
       "      <td>1015.300000</td>\n",
       "      <td>5.000000</td>\n",
       "      <td>5.000000</td>\n",
       "      <td>16.700000</td>\n",
       "      <td>21.200000</td>\n",
       "    </tr>\n",
       "    <tr>\n",
       "      <th>75%</th>\n",
       "      <td>16.800000</td>\n",
       "      <td>28.300000</td>\n",
       "      <td>0.600000</td>\n",
       "      <td>7.400000</td>\n",
       "      <td>10.700000</td>\n",
       "      <td>48.000000</td>\n",
       "      <td>19.000000</td>\n",
       "      <td>24.000000</td>\n",
       "      <td>83.000000</td>\n",
       "      <td>65.000000</td>\n",
       "      <td>1022.600000</td>\n",
       "      <td>1020.200000</td>\n",
       "      <td>7.000000</td>\n",
       "      <td>7.000000</td>\n",
       "      <td>21.600000</td>\n",
       "      <td>26.500000</td>\n",
       "    </tr>\n",
       "    <tr>\n",
       "      <th>max</th>\n",
       "      <td>33.900000</td>\n",
       "      <td>48.900000</td>\n",
       "      <td>474.000000</td>\n",
       "      <td>138.700000</td>\n",
       "      <td>14.500000</td>\n",
       "      <td>135.000000</td>\n",
       "      <td>87.000000</td>\n",
       "      <td>87.000000</td>\n",
       "      <td>100.000000</td>\n",
       "      <td>100.000000</td>\n",
       "      <td>1041.100000</td>\n",
       "      <td>1040.100000</td>\n",
       "      <td>9.000000</td>\n",
       "      <td>9.000000</td>\n",
       "      <td>40.200000</td>\n",
       "      <td>48.200000</td>\n",
       "    </tr>\n",
       "  </tbody>\n",
       "</table>\n",
       "</div>"
      ],
      "text/plain": [
       "             MinTemp        MaxTemp       Rainfall   Evaporation  \\\n",
       "count  188671.000000  188876.000000  186394.000000  94845.000000   \n",
       "mean       12.098929      23.288598       2.254155      5.541163   \n",
       "std         6.445547       7.168154       8.346685      4.265022   \n",
       "min        -8.700000      -4.100000       0.000000      0.000000   \n",
       "25%         7.500000      18.000000       0.000000      2.600000   \n",
       "50%        11.900000      22.700000       0.000000      4.800000   \n",
       "75%        16.800000      28.300000       0.600000      7.400000   \n",
       "max        33.900000      48.900000     474.000000    138.700000   \n",
       "\n",
       "           Sunshine  WindGustSpeed   WindSpeed9am   WindSpeed3pm  \\\n",
       "count  86442.000000  177055.000000  188080.000000  185025.000000   \n",
       "mean       7.653487      40.181221      14.070794      18.695814   \n",
       "std        3.768229      13.601082       8.912684       8.769461   \n",
       "min        0.000000       2.000000       0.000000       0.000000   \n",
       "25%        4.900000      31.000000       7.000000      13.000000   \n",
       "50%        8.500000      39.000000      13.000000      19.000000   \n",
       "75%       10.700000      48.000000      19.000000      24.000000   \n",
       "max       14.500000     135.000000      87.000000      87.000000   \n",
       "\n",
       "         Humidity9am    Humidity3pm    Pressure9am    Pressure3pm  \\\n",
       "count  187603.000000  183959.000000  170333.000000  170342.000000   \n",
       "mean       68.404482      50.890503    1017.760529    1015.335709   \n",
       "std        19.523763      21.066253       7.066138       7.017521   \n",
       "min         0.000000       0.000000     979.100000     978.900000   \n",
       "25%        56.000000      35.000000    1013.000000    1010.500000   \n",
       "50%        69.000000      51.000000    1017.700000    1015.300000   \n",
       "75%        83.000000      65.000000    1022.600000    1020.200000   \n",
       "max       100.000000     100.000000    1041.100000    1040.100000   \n",
       "\n",
       "            Cloud9am       Cloud3pm        Temp9am        Temp3pm  \n",
       "count  111072.000000  105192.000000  188599.000000  184959.000000  \n",
       "mean        4.568406       4.575823      16.966511      21.753657  \n",
       "std         2.896050       2.748794       6.549200       7.011711  \n",
       "min         0.000000       0.000000      -6.200000      -5.100000  \n",
       "25%         1.000000       2.000000      12.200000      16.600000  \n",
       "50%         5.000000       5.000000      16.700000      21.200000  \n",
       "75%         7.000000       7.000000      21.600000      26.500000  \n",
       "max         9.000000       9.000000      40.200000      48.200000  "
      ]
     },
     "execution_count": 346,
     "metadata": {},
     "output_type": "execute_result"
    }
   ],
   "source": [
    "df.describe()"
   ]
  },
  {
   "cell_type": "markdown",
   "metadata": {
    "id": "bEMrwwzydESo"
   },
   "source": [
    "### Explore `RainTomorrow` target variable <a class=\"anchor\" id=\"5.1\"></a>"
   ]
  },
  {
   "cell_type": "markdown",
   "metadata": {
    "id": "IisHfjqQdESp"
   },
   "source": [
    "#### Check for missing values"
   ]
  },
  {
   "cell_type": "code",
   "execution_count": 347,
   "metadata": {
    "colab": {
     "base_uri": "https://localhost:8080/"
    },
    "id": "gO_jSIVOmX-9",
    "outputId": "e12b4093-edc2-40ce-cb17-7fa32412c40f"
   },
   "outputs": [
    {
     "data": {
      "text/plain": [
       "5038"
      ]
     },
     "execution_count": 347,
     "metadata": {},
     "output_type": "execute_result"
    }
   ],
   "source": [
    "df['RainTomorrow'].isnull().sum()"
   ]
  },
  {
   "cell_type": "code",
   "execution_count": 348,
   "metadata": {
    "colab": {
     "base_uri": "https://localhost:8080/"
    },
    "id": "YzcC6g_xdESp",
    "outputId": "ddcc0824-941a-4eb6-dffd-acf139cb298c"
   },
   "outputs": [
    {
     "data": {
      "text/plain": [
       "5037"
      ]
     },
     "execution_count": 348,
     "metadata": {},
     "output_type": "execute_result"
    }
   ],
   "source": [
    "df['RainToday'].isnull().sum()"
   ]
  },
  {
   "cell_type": "markdown",
   "metadata": {
    "id": "vUYo67eXdESp"
   },
   "source": [
    "There are missing values in the `RainTomorrow` target variable and feature: RainToday. Both these are extremely crucial information for the model. Since they constitute very little of the total set, they can be eliminated instead of risking a statistically approximate imputation."
   ]
  },
  {
   "cell_type": "code",
   "execution_count": 349,
   "metadata": {
    "id": "FsQBe3JHpBs-"
   },
   "outputs": [],
   "source": [
    "df = df.dropna(subset= ['RainTomorrow','RainToday'])"
   ]
  },
  {
   "cell_type": "markdown",
   "metadata": {
    "id": "zsdznYf4dESq"
   },
   "source": [
    "#### View number of unique values"
   ]
  },
  {
   "cell_type": "code",
   "execution_count": 350,
   "metadata": {
    "colab": {
     "base_uri": "https://localhost:8080/"
    },
    "id": "VWjsrcQSdESq",
    "outputId": "7305d947-0626-4cfb-ac84-fa7dcd86ae71"
   },
   "outputs": [
    {
     "data": {
      "text/plain": [
       "2"
      ]
     },
     "execution_count": 350,
     "metadata": {},
     "output_type": "execute_result"
    }
   ],
   "source": [
    "df['RainTomorrow'].nunique()"
   ]
  },
  {
   "cell_type": "markdown",
   "metadata": {
    "id": "j6spI0GTdESq"
   },
   "source": [
    "The number of unique values in `RainTomorrow` variable is 2."
   ]
  },
  {
   "cell_type": "markdown",
   "metadata": {
    "id": "VwvjGIvBdESr"
   },
   "source": [
    "#### View the unique values"
   ]
  },
  {
   "cell_type": "code",
   "execution_count": 351,
   "metadata": {
    "colab": {
     "base_uri": "https://localhost:8080/"
    },
    "id": "BfwdqHd0dESr",
    "outputId": "c169299b-d723-4cc7-c089-d61162b07fc1"
   },
   "outputs": [
    {
     "data": {
      "text/plain": [
       "array(['No', 'Yes'], dtype=object)"
      ]
     },
     "execution_count": 351,
     "metadata": {},
     "output_type": "execute_result"
    }
   ],
   "source": [
    "df['RainTomorrow'].unique()"
   ]
  },
  {
   "cell_type": "markdown",
   "metadata": {
    "id": "-kEogL5KdESr"
   },
   "source": [
    "The two unique values are `No` and `Yes`."
   ]
  },
  {
   "cell_type": "markdown",
   "metadata": {
    "id": "wDs4Ur6OdESr"
   },
   "source": [
    "#### View the frequency distribution of values"
   ]
  },
  {
   "cell_type": "code",
   "execution_count": 352,
   "metadata": {
    "colab": {
     "base_uri": "https://localhost:8080/"
    },
    "id": "MEuMO861dESs",
    "outputId": "cc94c2c0-3848-426d-c551-43bd4998d13f"
   },
   "outputs": [
    {
     "data": {
      "text/plain": [
       "No     145106\n",
       "Yes     39467\n",
       "Name: RainTomorrow, dtype: int64"
      ]
     },
     "execution_count": 352,
     "metadata": {},
     "output_type": "execute_result"
    }
   ],
   "source": [
    "df['RainTomorrow'].value_counts()"
   ]
  },
  {
   "cell_type": "markdown",
   "metadata": {
    "id": "eAK7TbK2dESs"
   },
   "source": [
    "#### View percentage of frequency distribution of values"
   ]
  },
  {
   "cell_type": "code",
   "execution_count": 353,
   "metadata": {
    "colab": {
     "base_uri": "https://localhost:8080/"
    },
    "id": "HPhVK7zUdESs",
    "outputId": "b561ef3e-21e1-4c34-eec4-6a9ce66e1d63"
   },
   "outputs": [
    {
     "data": {
      "text/plain": [
       "No     0.786171\n",
       "Yes    0.213829\n",
       "Name: RainTomorrow, dtype: float64"
      ]
     },
     "execution_count": 353,
     "metadata": {},
     "output_type": "execute_result"
    }
   ],
   "source": [
    "df['RainTomorrow'].value_counts()/len(df)"
   ]
  },
  {
   "cell_type": "markdown",
   "metadata": {
    "id": "McFs4WbqdESs"
   },
   "source": [
    "#### Comment\n",
    "\n",
    "The total number of `RainTomorrow` values, `No` appears 78.61% times and `Yes` appears 21.13% times."
   ]
  },
  {
   "cell_type": "markdown",
   "metadata": {
    "id": "GQcz2iV8dESt"
   },
   "source": [
    "#### Visualize frequency distribution of `RainTomorrow` variable"
   ]
  },
  {
   "cell_type": "code",
   "execution_count": 354,
   "metadata": {
    "colab": {
     "base_uri": "https://localhost:8080/",
     "height": 497
    },
    "id": "vfsKwatidESt",
    "outputId": "4b8914d9-bb8f-4709-a734-4e626e7f4714"
   },
   "outputs": [
    {
     "data": {
      "image/png": "[encoded data removed]",
      "text/plain": [
       "<Figure size 432x576 with 1 Axes>"
      ]
     },
     "metadata": {
      "needs_background": "light"
     },
     "output_type": "display_data"
    }
   ],
   "source": [
    "f, ax = plt.subplots(figsize=(6, 8))\n",
    "ax = sns.countplot(x=\"RainTomorrow\", data=df, palette=\"Set1\")\n",
    "plt.show()"
   ]
  },
  {
   "cell_type": "markdown",
   "metadata": {
    "id": "WWqwzPSqdESt"
   },
   "source": [
    "#### Interpretation\n",
    "\n",
    "- The above plot confirms our findings that -\n",
    "\n",
    "   - The `No` variable have 145106 entries, and\n",
    "   \n",
    "   - The `Yes` variable have 39467 entries.\n",
    "\n"
   ]
  },
  {
   "cell_type": "markdown",
   "metadata": {
    "id": "oYGdBjc9dES4"
   },
   "source": [
    "### Types of variables <a class=\"anchor\" id=\"6.1\"></a>\n",
    "\n",
    "\n",
    "Segregating the dataset into categorical and numerical variables. There are a mixture of categorical and numerical variables in the dataset. Categorical variables have data type object. Numerical variables have data type float64."
   ]
  },
  {
   "cell_type": "markdown",
   "metadata": {
    "id": "R5jxkcOYdES4"
   },
   "source": [
    "### Explore Categorical Variables <a class=\"anchor\" id=\"6.2\"></a>"
   ]
  },
  {
   "cell_type": "code",
   "execution_count": 355,
   "metadata": {
    "colab": {
     "base_uri": "https://localhost:8080/"
    },
    "id": "_esFUErwdES4",
    "outputId": "56b4fb7d-ad8f-42c1-914d-f83e939b2bc7"
   },
   "outputs": [
    {
     "name": "stdout",
     "output_type": "stream",
     "text": [
      "There are 7 categorical variables\n",
      "\n",
      "The categorical variables are : ['Date', 'Location', 'WindGustDir', 'WindDir9am', 'WindDir3pm', 'RainToday', 'RainTomorrow']\n"
     ]
    }
   ],
   "source": [
    "# find categorical variables\n",
    "\n",
    "categorical = [var for var in df.columns if df[var].dtype=='O']\n",
    "\n",
    "print('There are {} categorical variables\\n'.format(len(categorical)))\n",
    "\n",
    "print('The categorical variables are :', categorical)"
   ]
  },
  {
   "cell_type": "code",
   "execution_count": 356,
   "metadata": {
    "colab": {
     "base_uri": "https://localhost:8080/",
     "height": 204
    },
    "id": "g3a236tIdES4",
    "outputId": "a5058e71-ede9-4858-88f0-f554d6c72268"
   },
   "outputs": [
    {
     "data": {
      "text/html": [
       "<div>\n",
       "<style scoped>\n",
       "    .dataframe tbody tr th:only-of-type {\n",
       "        vertical-align: middle;\n",
       "    }\n",
       "\n",
       "    .dataframe tbody tr th {\n",
       "        vertical-align: top;\n",
       "    }\n",
       "\n",
       "    .dataframe thead th {\n",
       "        text-align: right;\n",
       "    }\n",
       "</style>\n",
       "<table border=\"1\" class=\"dataframe\">\n",
       "  <thead>\n",
       "    <tr style=\"text-align: right;\">\n",
       "      <th></th>\n",
       "      <th>Date</th>\n",
       "      <th>Location</th>\n",
       "      <th>WindGustDir</th>\n",
       "      <th>WindDir9am</th>\n",
       "      <th>WindDir3pm</th>\n",
       "      <th>RainToday</th>\n",
       "      <th>RainTomorrow</th>\n",
       "    </tr>\n",
       "  </thead>\n",
       "  <tbody>\n",
       "    <tr>\n",
       "      <th>0</th>\n",
       "      <td>2008-12-01</td>\n",
       "      <td>Albury</td>\n",
       "      <td>W</td>\n",
       "      <td>W</td>\n",
       "      <td>WNW</td>\n",
       "      <td>No</td>\n",
       "      <td>No</td>\n",
       "    </tr>\n",
       "    <tr>\n",
       "      <th>1</th>\n",
       "      <td>2008-12-02</td>\n",
       "      <td>Albury</td>\n",
       "      <td>WNW</td>\n",
       "      <td>NNW</td>\n",
       "      <td>WSW</td>\n",
       "      <td>No</td>\n",
       "      <td>No</td>\n",
       "    </tr>\n",
       "    <tr>\n",
       "      <th>2</th>\n",
       "      <td>2008-12-03</td>\n",
       "      <td>Albury</td>\n",
       "      <td>WSW</td>\n",
       "      <td>W</td>\n",
       "      <td>WSW</td>\n",
       "      <td>No</td>\n",
       "      <td>No</td>\n",
       "    </tr>\n",
       "    <tr>\n",
       "      <th>3</th>\n",
       "      <td>2008-12-04</td>\n",
       "      <td>Albury</td>\n",
       "      <td>NE</td>\n",
       "      <td>SE</td>\n",
       "      <td>E</td>\n",
       "      <td>No</td>\n",
       "      <td>No</td>\n",
       "    </tr>\n",
       "    <tr>\n",
       "      <th>4</th>\n",
       "      <td>2008-12-05</td>\n",
       "      <td>Albury</td>\n",
       "      <td>W</td>\n",
       "      <td>ENE</td>\n",
       "      <td>NW</td>\n",
       "      <td>No</td>\n",
       "      <td>No</td>\n",
       "    </tr>\n",
       "  </tbody>\n",
       "</table>\n",
       "</div>"
      ],
      "text/plain": [
       "         Date Location WindGustDir WindDir9am WindDir3pm RainToday  \\\n",
       "0  2008-12-01   Albury           W          W        WNW        No   \n",
       "1  2008-12-02   Albury         WNW        NNW        WSW        No   \n",
       "2  2008-12-03   Albury         WSW          W        WSW        No   \n",
       "3  2008-12-04   Albury          NE         SE          E        No   \n",
       "4  2008-12-05   Albury           W        ENE         NW        No   \n",
       "\n",
       "  RainTomorrow  \n",
       "0           No  \n",
       "1           No  \n",
       "2           No  \n",
       "3           No  \n",
       "4           No  "
      ]
     },
     "execution_count": 356,
     "metadata": {},
     "output_type": "execute_result"
    }
   ],
   "source": [
    "# view the categorical variables\n",
    "\n",
    "df[categorical].head()"
   ]
  },
  {
   "cell_type": "markdown",
   "metadata": {
    "id": "HKDDvnZedES5"
   },
   "source": [
    "### Summary of categorical variables <a class=\"anchor\" id=\"6.3\"></a>\n",
    "\n",
    "\n",
    "- There is a date variable. It is denoted by `Date` column.\n",
    "\n",
    "\n",
    "- There are 6 categorical variables. These are given by `Location`, `WindGustDir`, `WindDir9am`, `WindDir3pm`, `RainToday` and  `RainTomorrow`.\n",
    "\n",
    "\n",
    "- There are two binary categorical variables - `RainToday` and  `RainTomorrow`.\n",
    "\n",
    "\n",
    "- `RainTomorrow` is the target variable."
   ]
  },
  {
   "cell_type": "markdown",
   "metadata": {
    "id": "9_Rm7vlRdES5"
   },
   "source": [
    "### Explore problems within categorical variables <a class=\"anchor\" id=\"6.4\"></a>\n",
    "\n",
    "\n",
    "\n",
    "\n",
    "#### Missing values in categorical variables"
   ]
  },
  {
   "cell_type": "code",
   "execution_count": 357,
   "metadata": {
    "colab": {
     "base_uri": "https://localhost:8080/"
    },
    "id": "OX8xSF8KdES5",
    "outputId": "3b7717d7-858f-46e3-f9cb-84edfe4f6803"
   },
   "outputs": [
    {
     "data": {
      "text/plain": [
       "Date                0\n",
       "Location            0\n",
       "WindGustDir     12662\n",
       "WindDir9am      13549\n",
       "WindDir3pm       6941\n",
       "RainToday           0\n",
       "RainTomorrow        0\n",
       "dtype: int64"
      ]
     },
     "execution_count": 357,
     "metadata": {},
     "output_type": "execute_result"
    }
   ],
   "source": [
    "# check missing values in categorical variables\n",
    "\n",
    "df[categorical].isnull().sum()"
   ]
  },
  {
   "cell_type": "code",
   "execution_count": 358,
   "metadata": {
    "colab": {
     "base_uri": "https://localhost:8080/"
    },
    "id": "xU8urxwsdES5",
    "outputId": "ca056004-b60c-46ff-8b16-368459a107ad"
   },
   "outputs": [
    {
     "name": "stdout",
     "output_type": "stream",
     "text": [
      "WindGustDir    12662\n",
      "WindDir9am     13549\n",
      "WindDir3pm      6941\n",
      "dtype: int64\n"
     ]
    }
   ],
   "source": [
    "# print categorical variables containing missing values\n",
    "\n",
    "cat1 = [var for var in categorical if df[var].isnull().sum()!=0]\n",
    "\n",
    "print(df[cat1].isnull().sum())"
   ]
  },
  {
   "cell_type": "markdown",
   "metadata": {
    "id": "qWnrTJSKdES6"
   },
   "source": [
    "We can see that there are only 3 categorical variables in the dataset which contains missing values. These are `WindGustDir`, `WindDir9am`, `WindDir3pm`."
   ]
  },
  {
   "cell_type": "markdown",
   "metadata": {
    "id": "cPuQS0VudES6"
   },
   "source": [
    "#### Frequency count of categorical variables"
   ]
  },
  {
   "cell_type": "code",
   "execution_count": 359,
   "metadata": {
    "colab": {
     "base_uri": "https://localhost:8080/"
    },
    "id": "tp4H1w6JdES6",
    "outputId": "f59ebeba-c259-4b7e-9d28-08947bafacea"
   },
   "outputs": [
    {
     "name": "stdout",
     "output_type": "stream",
     "text": [
      "2013-03-07    49\n",
      "2014-06-23    49\n",
      "2017-06-10    49\n",
      "2019-02-21    49\n",
      "2013-10-17    49\n",
      "              ..\n",
      "2007-12-14     1\n",
      "2008-01-08     1\n",
      "2008-01-09     1\n",
      "2007-12-11     1\n",
      "2007-11-23     1\n",
      "Name: Date, Length: 4380, dtype: int64\n",
      "Canberra            4344\n",
      "Sydney              4261\n",
      "Darwin              4135\n",
      "Perth               4126\n",
      "Hobart              4107\n",
      "Brisbane            4016\n",
      "Townsville          3965\n",
      "Launceston          3958\n",
      "Bendigo             3954\n",
      "MelbourneAirport    3953\n",
      "PerthAirport        3952\n",
      "SydneyAirport       3945\n",
      "Ballarat            3942\n",
      "Mildura             3942\n",
      "Nuriootpa           3936\n",
      "MountGambier        3932\n",
      "Albury              3931\n",
      "Sale                3931\n",
      "AliceSprings        3928\n",
      "Cobar               3926\n",
      "Watsonia            3923\n",
      "Portland            3913\n",
      "Woomera             3904\n",
      "Tuggeranong         3903\n",
      "CoffsHarbour        3883\n",
      "Albany              3883\n",
      "Wollongong          3856\n",
      "Dartmoor            3855\n",
      "Penrith             3850\n",
      "Richmond            3848\n",
      "NorfolkIsland       3839\n",
      "GoldCoast           3839\n",
      "NorahHead           3813\n",
      "SalmonGums          3812\n",
      "Newcastle           3796\n",
      "BadgerysCreek       3795\n",
      "MountGinini         3758\n",
      "Cairns              3741\n",
      "Witchcliffe         3740\n",
      "Moree               3735\n",
      "Adelaide            3728\n",
      "Walpole             3650\n",
      "WaggaWagga          3580\n",
      "PearceRAAF          3495\n",
      "Williamtown         3362\n",
      "Melbourne           3334\n",
      "Nhil                2509\n",
      "Uluru               2434\n",
      "Katherine           1611\n",
      "Name: Location, dtype: int64\n",
      "W      12729\n",
      "SE     11875\n",
      "WSW    11630\n",
      "S      11608\n",
      "E      11555\n",
      "SSW    11505\n",
      "N      11483\n",
      "SSE    11462\n",
      "SW     11297\n",
      "WNW    10424\n",
      "ENE    10417\n",
      "NW     10244\n",
      "ESE     9500\n",
      "NE      9219\n",
      "NNW     8491\n",
      "NNE     8472\n",
      "Name: WindGustDir, dtype: int64\n",
      "N      14462\n",
      "SE     11932\n",
      "E      11769\n",
      "SSE    11591\n",
      "S      11035\n",
      "NW     10880\n",
      "SW     10660\n",
      "W      10574\n",
      "NNE    10386\n",
      "ENE    10063\n",
      "ESE    10046\n",
      "NNW     9921\n",
      "SSW     9835\n",
      "NE      9789\n",
      "WNW     9352\n",
      "WSW     8729\n",
      "Name: WindDir9am, dtype: int64\n",
      "SE     13451\n",
      "W      12845\n",
      "S      12228\n",
      "WSW    12160\n",
      "SW     11666\n",
      "SSE    11549\n",
      "WNW    11260\n",
      "N      10989\n",
      "NW     10781\n",
      "ESE    10708\n",
      "NE     10668\n",
      "E      10488\n",
      "SSW    10448\n",
      "ENE    10015\n",
      "NNW     9910\n",
      "NNE     8466\n",
      "Name: WindDir3pm, dtype: int64\n",
      "No     144779\n",
      "Yes     39794\n",
      "Name: RainToday, dtype: int64\n",
      "No     145106\n",
      "Yes     39467\n",
      "Name: RainTomorrow, dtype: int64\n"
     ]
    }
   ],
   "source": [
    "# view frequency of categorical variables\n",
    "\n",
    "for var in categorical: \n",
    "    \n",
    "    print(df[var].value_counts())"
   ]
  },
  {
   "cell_type": "code",
   "execution_count": 360,
   "metadata": {
    "colab": {
     "base_uri": "https://localhost:8080/"
    },
    "id": "E-7zpB9vdES6",
    "outputId": "e381b098-3763-4460-fad6-f4460177aefd"
   },
   "outputs": [
    {
     "name": "stdout",
     "output_type": "stream",
     "text": [
      "2013-03-07    0.000265\n",
      "2014-06-23    0.000265\n",
      "2017-06-10    0.000265\n",
      "2019-02-21    0.000265\n",
      "2013-10-17    0.000265\n",
      "                ...   \n",
      "2007-12-14    0.000005\n",
      "2008-01-08    0.000005\n",
      "2008-01-09    0.000005\n",
      "2007-12-11    0.000005\n",
      "2007-11-23    0.000005\n",
      "Name: Date, Length: 4380, dtype: float64\n",
      "Canberra            0.023535\n",
      "Sydney              0.023086\n",
      "Darwin              0.022403\n",
      "Perth               0.022354\n",
      "Hobart              0.022251\n",
      "Brisbane            0.021758\n",
      "Townsville          0.021482\n",
      "Launceston          0.021444\n",
      "Bendigo             0.021422\n",
      "MelbourneAirport    0.021417\n",
      "PerthAirport        0.021412\n",
      "SydneyAirport       0.021374\n",
      "Ballarat            0.021357\n",
      "Mildura             0.021357\n",
      "Nuriootpa           0.021325\n",
      "MountGambier        0.021303\n",
      "Albury              0.021298\n",
      "Sale                0.021298\n",
      "AliceSprings        0.021282\n",
      "Cobar               0.021271\n",
      "Watsonia            0.021254\n",
      "Portland            0.021200\n",
      "Woomera             0.021152\n",
      "Tuggeranong         0.021146\n",
      "CoffsHarbour        0.021038\n",
      "Albany              0.021038\n",
      "Wollongong          0.020891\n",
      "Dartmoor            0.020886\n",
      "Penrith             0.020859\n",
      "Richmond            0.020848\n",
      "NorfolkIsland       0.020799\n",
      "GoldCoast           0.020799\n",
      "NorahHead           0.020658\n",
      "SalmonGums          0.020653\n",
      "Newcastle           0.020566\n",
      "BadgerysCreek       0.020561\n",
      "MountGinini         0.020361\n",
      "Cairns              0.020268\n",
      "Witchcliffe         0.020263\n",
      "Moree               0.020236\n",
      "Adelaide            0.020198\n",
      "Walpole             0.019775\n",
      "WaggaWagga          0.019396\n",
      "PearceRAAF          0.018936\n",
      "Williamtown         0.018215\n",
      "Melbourne           0.018063\n",
      "Nhil                0.013594\n",
      "Uluru               0.013187\n",
      "Katherine           0.008728\n",
      "Name: Location, dtype: float64\n",
      "W      0.068965\n",
      "SE     0.064338\n",
      "WSW    0.063010\n",
      "S      0.062891\n",
      "E      0.062604\n",
      "SSW    0.062333\n",
      "N      0.062214\n",
      "SSE    0.062100\n",
      "SW     0.061206\n",
      "WNW    0.056476\n",
      "ENE    0.056438\n",
      "NW     0.055501\n",
      "ESE    0.051470\n",
      "NE     0.049948\n",
      "NNW    0.046003\n",
      "NNE    0.045901\n",
      "Name: WindGustDir, dtype: float64\n",
      "N      0.078354\n",
      "SE     0.064647\n",
      "E      0.063763\n",
      "SSE    0.062799\n",
      "S      0.059787\n",
      "NW     0.058947\n",
      "SW     0.057755\n",
      "W      0.057289\n",
      "NNE    0.056270\n",
      "ENE    0.054520\n",
      "ESE    0.054428\n",
      "NNW    0.053751\n",
      "SSW    0.053285\n",
      "NE     0.053036\n",
      "WNW    0.050668\n",
      "WSW    0.047293\n",
      "Name: WindDir9am, dtype: float64\n",
      "SE     0.072876\n",
      "W      0.069593\n",
      "S      0.066250\n",
      "WSW    0.065882\n",
      "SW     0.063205\n",
      "SSE    0.062571\n",
      "WNW    0.061006\n",
      "N      0.059537\n",
      "NW     0.058410\n",
      "ESE    0.058015\n",
      "NE     0.057798\n",
      "E      0.056823\n",
      "SSW    0.056606\n",
      "ENE    0.054260\n",
      "NNW    0.053691\n",
      "NNE    0.045868\n",
      "Name: WindDir3pm, dtype: float64\n",
      "No     0.7844\n",
      "Yes    0.2156\n",
      "Name: RainToday, dtype: float64\n",
      "No     0.786171\n",
      "Yes    0.213829\n",
      "Name: RainTomorrow, dtype: float64\n"
     ]
    }
   ],
   "source": [
    "# view frequency distribution of categorical variables\n",
    "\n",
    "for var in categorical: \n",
    "    \n",
    "    print(df[var].value_counts()/np.float(len(df)))"
   ]
  },
  {
   "cell_type": "markdown",
   "metadata": {
    "id": "BZOwWZYNdES7"
   },
   "source": [
    "#### Number of labels: cardinality\n",
    "\n",
    "\n",
    "The number of labels within a categorical variable is known as **cardinality**. A high number of labels within a variable is known as **high cardinality**. High cardinality may pose some serious problems in the machine learning model."
   ]
  },
  {
   "cell_type": "code",
   "execution_count": 361,
   "metadata": {
    "colab": {
     "base_uri": "https://localhost:8080/"
    },
    "id": "f-Fe2j2wdES7",
    "outputId": "09538e06-c6fa-4a66-c671-b7da5aad0b76"
   },
   "outputs": [
    {
     "name": "stdout",
     "output_type": "stream",
     "text": [
      "Date  contains  4380  labels\n",
      "Location  contains  49  labels\n",
      "WindGustDir  contains  17  labels\n",
      "WindDir9am  contains  17  labels\n",
      "WindDir3pm  contains  17  labels\n",
      "RainToday  contains  2  labels\n",
      "RainTomorrow  contains  2  labels\n"
     ]
    }
   ],
   "source": [
    "# check for cardinality in categorical variables\n",
    "\n",
    "for var in categorical:\n",
    "    \n",
    "    print(var, ' contains ', len(df[var].unique()), ' labels')"
   ]
  },
  {
   "cell_type": "markdown",
   "metadata": {
    "id": "tR3bzh4IdES7"
   },
   "source": [
    "Date Variable needs preprocessing"
   ]
  },
  {
   "cell_type": "markdown",
   "metadata": {
    "id": "yo4-M5j3dES7"
   },
   "source": [
    "#### Feature Engineering of Date Variable"
   ]
  },
  {
   "cell_type": "code",
   "execution_count": 362,
   "metadata": {
    "colab": {
     "base_uri": "https://localhost:8080/"
    },
    "id": "PQUBkz8NdES8",
    "outputId": "745e13b1-c63c-4e63-8a35-a82a184f6edf"
   },
   "outputs": [
    {
     "data": {
      "text/plain": [
       "dtype('O')"
      ]
     },
     "execution_count": 362,
     "metadata": {},
     "output_type": "execute_result"
    }
   ],
   "source": [
    "df['Date'].dtypes"
   ]
  },
  {
   "cell_type": "markdown",
   "metadata": {
    "id": "uJua4vpidES8"
   },
   "source": [
    "Parsing the date into datetime format."
   ]
  },
  {
   "cell_type": "code",
   "execution_count": 363,
   "metadata": {
    "id": "RuBD4L__dES8"
   },
   "outputs": [],
   "source": [
    "# parse the dates, currently coded as strings, into datetime format\n",
    "\n",
    "df['Date'] = pd.to_datetime(df['Date'])"
   ]
  },
  {
   "cell_type": "code",
   "execution_count": 364,
   "metadata": {
    "colab": {
     "base_uri": "https://localhost:8080/"
    },
    "id": "FJJCOBFGdES8",
    "outputId": "dab31597-d8da-48f5-b1d2-e4f5c365add4"
   },
   "outputs": [
    {
     "data": {
      "text/plain": [
       "0    2008\n",
       "1    2008\n",
       "2    2008\n",
       "3    2008\n",
       "4    2008\n",
       "Name: Year, dtype: int64"
      ]
     },
     "execution_count": 364,
     "metadata": {},
     "output_type": "execute_result"
    }
   ],
   "source": [
    "# extract year from date\n",
    "\n",
    "df['Year'] = df['Date'].dt.year\n",
    "\n",
    "df['Year'].head()"
   ]
  },
  {
   "cell_type": "code",
   "execution_count": 365,
   "metadata": {
    "colab": {
     "base_uri": "https://localhost:8080/"
    },
    "id": "_6UzIdRGdES9",
    "outputId": "ed1296b8-b565-4d24-c687-9fd9881fbc0c"
   },
   "outputs": [
    {
     "data": {
      "text/plain": [
       "0    12\n",
       "1    12\n",
       "2    12\n",
       "3    12\n",
       "4    12\n",
       "Name: Month, dtype: int64"
      ]
     },
     "execution_count": 365,
     "metadata": {},
     "output_type": "execute_result"
    }
   ],
   "source": [
    "# extract month from date\n",
    "\n",
    "df['Month'] = df['Date'].dt.month\n",
    "\n",
    "df['Month'].head()"
   ]
  },
  {
   "cell_type": "code",
   "execution_count": 366,
   "metadata": {
    "colab": {
     "base_uri": "https://localhost:8080/"
    },
    "id": "oFfdBENMdES9",
    "outputId": "36bef4f5-6851-438e-afc5-b39df0bc4395"
   },
   "outputs": [
    {
     "data": {
      "text/plain": [
       "0    1\n",
       "1    2\n",
       "2    3\n",
       "3    4\n",
       "4    5\n",
       "Name: Day, dtype: int64"
      ]
     },
     "execution_count": 366,
     "metadata": {},
     "output_type": "execute_result"
    }
   ],
   "source": [
    "# extract day from date\n",
    "\n",
    "df['Day'] = df['Date'].dt.day\n",
    "\n",
    "df['Day'].head()"
   ]
  },
  {
   "cell_type": "code",
   "execution_count": 367,
   "metadata": {
    "colab": {
     "base_uri": "https://localhost:8080/"
    },
    "id": "T01MVEQjdES9",
    "outputId": "be42c8ed-9bb1-4abc-8680-6a308e6119fe"
   },
   "outputs": [
    {
     "name": "stdout",
     "output_type": "stream",
     "text": [
      "<class 'pandas.core.frame.DataFrame'>\n",
      "Int64Index: 184573 entries, 0 to 191430\n",
      "Data columns (total 26 columns):\n",
      " #   Column         Non-Null Count   Dtype         \n",
      "---  ------         --------------   -----         \n",
      " 0   Date           184573 non-null  datetime64[ns]\n",
      " 1   Location       184573 non-null  object        \n",
      " 2   MinTemp        183854 non-null  float64       \n",
      " 3   MaxTemp        183976 non-null  float64       \n",
      " 4   Rainfall       184573 non-null  float64       \n",
      " 5   Evaporation    93114 non-null   float64       \n",
      " 6   Sunshine       84679 non-null   float64       \n",
      " 7   WindGustDir    171911 non-null  object        \n",
      " 8   WindGustSpeed  172003 non-null  float64       \n",
      " 9   WindDir9am     171024 non-null  object        \n",
      " 10  WindDir3pm     177632 non-null  object        \n",
      " 11  WindSpeed9am   182112 non-null  float64       \n",
      " 12  WindSpeed3pm   178916 non-null  float64       \n",
      " 13  Humidity9am    182800 non-null  float64       \n",
      " 14  Humidity3pm    179080 non-null  float64       \n",
      " 15  Pressure9am    164885 non-null  float64       \n",
      " 16  Pressure3pm    164824 non-null  float64       \n",
      " 17  Cloud9am       109075 non-null  float64       \n",
      " 18  Cloud3pm       103243 non-null  float64       \n",
      " 19  Temp9am        183773 non-null  float64       \n",
      " 20  Temp3pm        180064 non-null  float64       \n",
      " 21  RainToday      184573 non-null  object        \n",
      " 22  RainTomorrow   184573 non-null  object        \n",
      " 23  Year           184573 non-null  int64         \n",
      " 24  Month          184573 non-null  int64         \n",
      " 25  Day            184573 non-null  int64         \n",
      "dtypes: datetime64[ns](1), float64(16), int64(3), object(6)\n",
      "memory usage: 43.0+ MB\n"
     ]
    }
   ],
   "source": [
    "# again view the summary of dataset\n",
    "\n",
    "df.info()"
   ]
  },
  {
   "cell_type": "markdown",
   "metadata": {
    "id": "zfibUD0cdES9"
   },
   "source": [
    "Three additional columns created are from `Date` variable. Date can be dropped"
   ]
  },
  {
   "cell_type": "code",
   "execution_count": 368,
   "metadata": {
    "id": "iKmioQzqdES-"
   },
   "outputs": [],
   "source": [
    "# drop the original Date variable\n",
    "\n",
    "df.drop('Date', axis=1, inplace = True)"
   ]
  },
  {
   "cell_type": "markdown",
   "metadata": {
    "id": "H97fulbJdES-"
   },
   "source": [
    "#### Explore Categorical Variables one by one\n"
   ]
  },
  {
   "cell_type": "code",
   "execution_count": 369,
   "metadata": {
    "colab": {
     "base_uri": "https://localhost:8080/"
    },
    "id": "nju0dtkmdES-",
    "outputId": "3b8239ee-2456-4692-892f-43526e56f112"
   },
   "outputs": [
    {
     "name": "stdout",
     "output_type": "stream",
     "text": [
      "There are 6 categorical variables\n",
      "\n",
      "The categorical variables are : ['Location', 'WindGustDir', 'WindDir9am', 'WindDir3pm', 'RainToday', 'RainTomorrow']\n"
     ]
    }
   ],
   "source": [
    "# find categorical variables\n",
    "\n",
    "categorical = [var for var in df.columns if df[var].dtype=='O']\n",
    "\n",
    "print('There are {} categorical variables\\n'.format(len(categorical)))\n",
    "\n",
    "print('The categorical variables are :', categorical)"
   ]
  },
  {
   "cell_type": "code",
   "execution_count": 370,
   "metadata": {
    "colab": {
     "base_uri": "https://localhost:8080/"
    },
    "id": "gx_asrD3dES_",
    "outputId": "84f6a386-25d4-4d9c-aba8-eddd6b6723d4"
   },
   "outputs": [
    {
     "data": {
      "text/plain": [
       "Location            0\n",
       "WindGustDir     12662\n",
       "WindDir9am      13549\n",
       "WindDir3pm       6941\n",
       "RainToday           0\n",
       "RainTomorrow        0\n",
       "dtype: int64"
      ]
     },
     "execution_count": 370,
     "metadata": {},
     "output_type": "execute_result"
    }
   ],
   "source": [
    "# check for missing values in categorical variables \n",
    "\n",
    "df[categorical].isnull().sum()"
   ]
  },
  {
   "cell_type": "markdown",
   "metadata": {
    "id": "TEcpzAF8dES_"
   },
   "source": [
    "We can see that `WindGustDir`, `WindDir9am`, `WindDir3pm`, `RainToday` variables contain missing values. These variables need to be explored one by one."
   ]
  },
  {
   "cell_type": "markdown",
   "metadata": {
    "id": "1viTkWC-dES_"
   },
   "source": [
    "### Explore `Location` variable"
   ]
  },
  {
   "cell_type": "code",
   "execution_count": 371,
   "metadata": {
    "colab": {
     "base_uri": "https://localhost:8080/"
    },
    "id": "PzLQMScYdETA",
    "outputId": "0f7e3ab4-f308-4289-c044-96293b596912"
   },
   "outputs": [
    {
     "name": "stdout",
     "output_type": "stream",
     "text": [
      "Location contains 49 labels\n"
     ]
    }
   ],
   "source": [
    "# print number of labels in Location variable\n",
    "\n",
    "print('Location contains', len(df.Location.unique()), 'labels')"
   ]
  },
  {
   "cell_type": "code",
   "execution_count": 372,
   "metadata": {
    "colab": {
     "base_uri": "https://localhost:8080/"
    },
    "id": "tx9-WNEDdETA",
    "outputId": "d4c0ce68-8025-476e-caa1-a1b35bf6b79d"
   },
   "outputs": [
    {
     "data": {
      "text/plain": [
       "array(['Albury', 'BadgerysCreek', 'Cobar', 'CoffsHarbour', 'Moree',\n",
       "       'Newcastle', 'NorahHead', 'NorfolkIsland', 'Penrith', 'Richmond',\n",
       "       'Sydney', 'SydneyAirport', 'WaggaWagga', 'Williamtown',\n",
       "       'Wollongong', 'Canberra', 'Tuggeranong', 'MountGinini', 'Ballarat',\n",
       "       'Bendigo', 'Sale', 'MelbourneAirport', 'Melbourne', 'Mildura',\n",
       "       'Nhil', 'Portland', 'Watsonia', 'Dartmoor', 'Brisbane', 'Cairns',\n",
       "       'GoldCoast', 'Townsville', 'Adelaide', 'MountGambier', 'Nuriootpa',\n",
       "       'Woomera', 'Albany', 'Witchcliffe', 'PearceRAAF', 'PerthAirport',\n",
       "       'Perth', 'SalmonGums', 'Walpole', 'Hobart', 'Launceston',\n",
       "       'AliceSprings', 'Darwin', 'Katherine', 'Uluru'], dtype=object)"
      ]
     },
     "execution_count": 372,
     "metadata": {},
     "output_type": "execute_result"
    }
   ],
   "source": [
    "# check labels in location variable\n",
    "\n",
    "df.Location.unique()"
   ]
  },
  {
   "cell_type": "code",
   "execution_count": 373,
   "metadata": {
    "colab": {
     "base_uri": "https://localhost:8080/"
    },
    "id": "PsKqPJfedETA",
    "outputId": "16ca87a9-e3a7-4a82-c43e-e9e4ccc5aba5"
   },
   "outputs": [
    {
     "data": {
      "text/plain": [
       "Canberra            4344\n",
       "Sydney              4261\n",
       "Darwin              4135\n",
       "Perth               4126\n",
       "Hobart              4107\n",
       "Brisbane            4016\n",
       "Townsville          3965\n",
       "Launceston          3958\n",
       "Bendigo             3954\n",
       "MelbourneAirport    3953\n",
       "PerthAirport        3952\n",
       "SydneyAirport       3945\n",
       "Ballarat            3942\n",
       "Mildura             3942\n",
       "Nuriootpa           3936\n",
       "MountGambier        3932\n",
       "Albury              3931\n",
       "Sale                3931\n",
       "AliceSprings        3928\n",
       "Cobar               3926\n",
       "Watsonia            3923\n",
       "Portland            3913\n",
       "Woomera             3904\n",
       "Tuggeranong         3903\n",
       "CoffsHarbour        3883\n",
       "Albany              3883\n",
       "Wollongong          3856\n",
       "Dartmoor            3855\n",
       "Penrith             3850\n",
       "Richmond            3848\n",
       "NorfolkIsland       3839\n",
       "GoldCoast           3839\n",
       "NorahHead           3813\n",
       "SalmonGums          3812\n",
       "Newcastle           3796\n",
       "BadgerysCreek       3795\n",
       "MountGinini         3758\n",
       "Cairns              3741\n",
       "Witchcliffe         3740\n",
       "Moree               3735\n",
       "Adelaide            3728\n",
       "Walpole             3650\n",
       "WaggaWagga          3580\n",
       "PearceRAAF          3495\n",
       "Williamtown         3362\n",
       "Melbourne           3334\n",
       "Nhil                2509\n",
       "Uluru               2434\n",
       "Katherine           1611\n",
       "Name: Location, dtype: int64"
      ]
     },
     "execution_count": 373,
     "metadata": {},
     "output_type": "execute_result"
    }
   ],
   "source": [
    "# check frequency distribution of values in Location variable\n",
    "\n",
    "df.Location.value_counts()"
   ]
  },
  {
   "cell_type": "markdown",
   "metadata": {
    "id": "9LHfrMaZdETB"
   },
   "source": [
    "### Explore `WindGustDir` variable"
   ]
  },
  {
   "cell_type": "code",
   "execution_count": 374,
   "metadata": {
    "colab": {
     "base_uri": "https://localhost:8080/"
    },
    "id": "Sn1ONt5WdETB",
    "outputId": "d2587918-08ad-4e32-fb1b-ed0ba12af289"
   },
   "outputs": [
    {
     "name": "stdout",
     "output_type": "stream",
     "text": [
      "WindGustDir contains 17 labels\n"
     ]
    }
   ],
   "source": [
    "# print number of labels in WindGustDir variable\n",
    "\n",
    "print('WindGustDir contains', len(df['WindGustDir'].unique()), 'labels')"
   ]
  },
  {
   "cell_type": "code",
   "execution_count": 375,
   "metadata": {
    "colab": {
     "base_uri": "https://localhost:8080/"
    },
    "id": "Ir0YhfwEdETB",
    "outputId": "be12fcee-0841-4532-edd9-4912cacdbc4f"
   },
   "outputs": [
    {
     "data": {
      "text/plain": [
       "array(['W', 'WNW', 'WSW', 'NE', 'NNW', 'N', 'NNE', 'SW', 'ENE', 'SSE',\n",
       "       'S', 'NW', 'SE', 'ESE', nan, 'E', 'SSW'], dtype=object)"
      ]
     },
     "execution_count": 375,
     "metadata": {},
     "output_type": "execute_result"
    }
   ],
   "source": [
    "# check labels in WindGustDir variable\n",
    "\n",
    "df['WindGustDir'].unique()"
   ]
  },
  {
   "cell_type": "code",
   "execution_count": 376,
   "metadata": {
    "colab": {
     "base_uri": "https://localhost:8080/"
    },
    "id": "hhq5q-eHdETB",
    "outputId": "b1106d71-bf87-4a04-e8e7-5ef9295f72b8"
   },
   "outputs": [
    {
     "data": {
      "text/plain": [
       "W      12729\n",
       "SE     11875\n",
       "WSW    11630\n",
       "S      11608\n",
       "E      11555\n",
       "SSW    11505\n",
       "N      11483\n",
       "SSE    11462\n",
       "SW     11297\n",
       "WNW    10424\n",
       "ENE    10417\n",
       "NW     10244\n",
       "ESE     9500\n",
       "NE      9219\n",
       "NNW     8491\n",
       "NNE     8472\n",
       "Name: WindGustDir, dtype: int64"
      ]
     },
     "execution_count": 376,
     "metadata": {},
     "output_type": "execute_result"
    }
   ],
   "source": [
    "# check frequency distribution of values in WindGustDir variable\n",
    "df.WindGustDir.value_counts()"
   ]
  },
  {
   "cell_type": "code",
   "execution_count": 377,
   "metadata": {
    "colab": {
     "base_uri": "https://localhost:8080/"
    },
    "id": "4IzSDpAvrDDB",
    "outputId": "5bff2cf9-2dee-498f-8c20-d543cd41c217"
   },
   "outputs": [
    {
     "data": {
      "text/plain": [
       "12662"
      ]
     },
     "execution_count": 377,
     "metadata": {},
     "output_type": "execute_result"
    }
   ],
   "source": [
    "df.WindGustDir.isna().sum()"
   ]
  },
  {
   "cell_type": "markdown",
   "metadata": {
    "id": "pfp5ng3TdETD"
   },
   "source": [
    " 12662 missing values in WindGustDir variable."
   ]
  },
  {
   "cell_type": "markdown",
   "metadata": {
    "id": "O7MUADYndETD"
   },
   "source": [
    "### Explore `WindDir9am` variable"
   ]
  },
  {
   "cell_type": "code",
   "execution_count": 378,
   "metadata": {
    "colab": {
     "base_uri": "https://localhost:8080/"
    },
    "id": "8EZpxQQTdETD",
    "outputId": "91c5b190-6834-4d1e-b208-4d478176bdce"
   },
   "outputs": [
    {
     "name": "stdout",
     "output_type": "stream",
     "text": [
      "WindDir9am contains 17 labels\n"
     ]
    }
   ],
   "source": [
    "# print number of labels in WindDir9am variable\n",
    "\n",
    "print('WindDir9am contains', len(df['WindDir9am'].unique()), 'labels')"
   ]
  },
  {
   "cell_type": "code",
   "execution_count": 379,
   "metadata": {
    "colab": {
     "base_uri": "https://localhost:8080/"
    },
    "id": "KGAIRVzJdETD",
    "outputId": "87917b9c-cff4-4114-edc6-d30f3e9baef5"
   },
   "outputs": [
    {
     "data": {
      "text/plain": [
       "array(['W', 'NNW', 'SE', 'ENE', 'SW', 'SSE', 'S', 'NE', 'SSW', 'N', 'WSW',\n",
       "       'ESE', 'E', nan, 'NW', 'WNW', 'NNE'], dtype=object)"
      ]
     },
     "execution_count": 379,
     "metadata": {},
     "output_type": "execute_result"
    }
   ],
   "source": [
    "# check labels in WindDir9am variable\n",
    "\n",
    "df['WindDir9am'].unique()"
   ]
  },
  {
   "cell_type": "code",
   "execution_count": 380,
   "metadata": {
    "colab": {
     "base_uri": "https://localhost:8080/"
    },
    "id": "yTy_lwBddETE",
    "outputId": "09a9d25a-a635-4093-c2f9-bc445795dffc"
   },
   "outputs": [
    {
     "data": {
      "text/plain": [
       "N      14462\n",
       "SE     11932\n",
       "E      11769\n",
       "SSE    11591\n",
       "S      11035\n",
       "NW     10880\n",
       "SW     10660\n",
       "W      10574\n",
       "NNE    10386\n",
       "ENE    10063\n",
       "ESE    10046\n",
       "NNW     9921\n",
       "SSW     9835\n",
       "NE      9789\n",
       "WNW     9352\n",
       "WSW     8729\n",
       "Name: WindDir9am, dtype: int64"
      ]
     },
     "execution_count": 380,
     "metadata": {},
     "output_type": "execute_result"
    }
   ],
   "source": [
    "# check frequency distribution of values in WindDir9am variable\n",
    "\n",
    "df['WindDir9am'].value_counts()"
   ]
  },
  {
   "cell_type": "code",
   "execution_count": 381,
   "metadata": {
    "colab": {
     "base_uri": "https://localhost:8080/"
    },
    "id": "DqBvMKB5dETE",
    "outputId": "f789e12f-78fd-4550-b90c-05b257dacc0d"
   },
   "outputs": [
    {
     "data": {
      "text/plain": [
       "13549"
      ]
     },
     "execution_count": 381,
     "metadata": {},
     "output_type": "execute_result"
    }
   ],
   "source": [
    "df.WindDir9am.isna().sum()"
   ]
  },
  {
   "cell_type": "markdown",
   "metadata": {
    "id": "7cJ2ezEzdETF"
   },
   "source": [
    "We can see that there are 13549 missing values in the `WindDir9am` variable."
   ]
  },
  {
   "cell_type": "markdown",
   "metadata": {
    "id": "YIS9EZYGdETF"
   },
   "source": [
    "### Explore `WindDir3pm` variable"
   ]
  },
  {
   "cell_type": "code",
   "execution_count": 382,
   "metadata": {
    "colab": {
     "base_uri": "https://localhost:8080/"
    },
    "id": "bHD0DP0ldETF",
    "outputId": "4b574087-07b5-40f4-b629-90ba26c67f32"
   },
   "outputs": [
    {
     "name": "stdout",
     "output_type": "stream",
     "text": [
      "WindDir3pm contains 17 labels\n"
     ]
    }
   ],
   "source": [
    "# print number of labels in WindDir3pm variable\n",
    "\n",
    "print('WindDir3pm contains', len(df['WindDir3pm'].unique()), 'labels')"
   ]
  },
  {
   "cell_type": "code",
   "execution_count": 383,
   "metadata": {
    "colab": {
     "base_uri": "https://localhost:8080/"
    },
    "id": "-Mzjzt89dETF",
    "outputId": "3d0ced2d-84a4-4614-9ab8-3881be2c1046"
   },
   "outputs": [
    {
     "data": {
      "text/plain": [
       "array(['WNW', 'WSW', 'E', 'NW', 'W', 'SSE', 'ESE', 'ENE', 'NNW', 'SSW',\n",
       "       'SW', 'SE', 'N', 'S', 'NNE', nan, 'NE'], dtype=object)"
      ]
     },
     "execution_count": 383,
     "metadata": {},
     "output_type": "execute_result"
    }
   ],
   "source": [
    "# check labels in WindDir3pm variable\n",
    "\n",
    "df['WindDir3pm'].unique()"
   ]
  },
  {
   "cell_type": "code",
   "execution_count": 384,
   "metadata": {
    "colab": {
     "base_uri": "https://localhost:8080/"
    },
    "id": "V3gXGc-adETG",
    "outputId": "cf436c0f-0b5f-47f1-b47a-ef5e1d377c8c"
   },
   "outputs": [
    {
     "data": {
      "text/plain": [
       "SE     13451\n",
       "W      12845\n",
       "S      12228\n",
       "WSW    12160\n",
       "SW     11666\n",
       "SSE    11549\n",
       "WNW    11260\n",
       "N      10989\n",
       "NW     10781\n",
       "ESE    10708\n",
       "NE     10668\n",
       "E      10488\n",
       "SSW    10448\n",
       "ENE    10015\n",
       "NNW     9910\n",
       "NNE     8466\n",
       "Name: WindDir3pm, dtype: int64"
      ]
     },
     "execution_count": 384,
     "metadata": {},
     "output_type": "execute_result"
    }
   ],
   "source": [
    "# check frequency distribution of values in WindDir3pm variable\n",
    "\n",
    "df['WindDir3pm'].value_counts()"
   ]
  },
  {
   "cell_type": "code",
   "execution_count": 385,
   "metadata": {
    "colab": {
     "base_uri": "https://localhost:8080/"
    },
    "id": "pE4wWG1tdETG",
    "outputId": "231a773e-fae7-49c5-8545-c30de5ddc392"
   },
   "outputs": [
    {
     "data": {
      "text/plain": [
       "6941"
      ]
     },
     "execution_count": 385,
     "metadata": {},
     "output_type": "execute_result"
    }
   ],
   "source": [
    "df.WindDir3pm.isna().sum()"
   ]
  },
  {
   "cell_type": "markdown",
   "metadata": {
    "id": "kDXuq1c0dETG"
   },
   "source": [
    "There are 6941 missing values in the `WindDir3pm` variable."
   ]
  },
  {
   "cell_type": "markdown",
   "metadata": {
    "id": "ntro5cMAdETH"
   },
   "source": [
    "### Explore `RainToday` variable"
   ]
  },
  {
   "cell_type": "code",
   "execution_count": 386,
   "metadata": {
    "colab": {
     "base_uri": "https://localhost:8080/"
    },
    "id": "hDKVSu82dETH",
    "outputId": "0ba2810f-5fb9-42b0-987c-65836ceb0d94"
   },
   "outputs": [
    {
     "name": "stdout",
     "output_type": "stream",
     "text": [
      "RainToday contains 2 labels\n"
     ]
    }
   ],
   "source": [
    "# print number of labels in RainToday variable\n",
    "\n",
    "print('RainToday contains', len(df['RainToday'].unique()), 'labels')"
   ]
  },
  {
   "cell_type": "code",
   "execution_count": 387,
   "metadata": {
    "colab": {
     "base_uri": "https://localhost:8080/"
    },
    "id": "UOyr1GnNdETH",
    "outputId": "7b04c2bd-ec88-4bee-dbc5-f1ae1cd0b867"
   },
   "outputs": [
    {
     "data": {
      "text/plain": [
       "array(['No', 'Yes'], dtype=object)"
      ]
     },
     "execution_count": 387,
     "metadata": {},
     "output_type": "execute_result"
    }
   ],
   "source": [
    "# check labels in WindGustDir variable\n",
    "\n",
    "df['RainToday'].unique()"
   ]
  },
  {
   "cell_type": "code",
   "execution_count": 388,
   "metadata": {
    "colab": {
     "base_uri": "https://localhost:8080/"
    },
    "id": "SBdn2UardETH",
    "outputId": "e85518f0-e1ca-4b59-f3a7-d49a1d3f97b8"
   },
   "outputs": [
    {
     "data": {
      "text/plain": [
       "No     144779\n",
       "Yes     39794\n",
       "Name: RainToday, dtype: int64"
      ]
     },
     "execution_count": 388,
     "metadata": {},
     "output_type": "execute_result"
    }
   ],
   "source": [
    "# check frequency distribution of values in WindGustDir variable\n",
    "\n",
    "df.RainToday.value_counts()"
   ]
  },
  {
   "cell_type": "markdown",
   "metadata": {
    "id": "tLQL2zkLdETI"
   },
   "source": [
    "There are no missing values in the `RainToday` variable."
   ]
  },
  {
   "cell_type": "markdown",
   "metadata": {
    "id": "wSRM2d9MdETI"
   },
   "source": [
    "### Explore Numerical Variables <a class=\"anchor\" id=\"6.5\"></a>"
   ]
  },
  {
   "cell_type": "code",
   "execution_count": 389,
   "metadata": {
    "colab": {
     "base_uri": "https://localhost:8080/"
    },
    "id": "fX0dnwHgdETJ",
    "outputId": "3db02e0d-f78b-440f-e8e5-ee77ac9a74cf"
   },
   "outputs": [
    {
     "name": "stdout",
     "output_type": "stream",
     "text": [
      "There are 19 numerical variables\n",
      "\n",
      "The numerical variables are : ['MinTemp', 'MaxTemp', 'Rainfall', 'Evaporation', 'Sunshine', 'WindGustSpeed', 'WindSpeed9am', 'WindSpeed3pm', 'Humidity9am', 'Humidity3pm', 'Pressure9am', 'Pressure3pm', 'Cloud9am', 'Cloud3pm', 'Temp9am', 'Temp3pm', 'Year', 'Month', 'Day']\n"
     ]
    }
   ],
   "source": [
    "# find numerical variables\n",
    "\n",
    "numerical = [var for var in df.columns if df[var].dtype!='O']\n",
    "\n",
    "print('There are {} numerical variables\\n'.format(len(numerical)))\n",
    "\n",
    "print('The numerical variables are :', numerical)"
   ]
  },
  {
   "cell_type": "code",
   "execution_count": 390,
   "metadata": {
    "colab": {
     "base_uri": "https://localhost:8080/",
     "height": 224
    },
    "id": "n8g3TkcJdETJ",
    "outputId": "45fad02f-a8a5-4f13-983b-b6b0dd95cb52"
   },
   "outputs": [
    {
     "data": {
      "text/html": [
       "<div>\n",
       "<style scoped>\n",
       "    .dataframe tbody tr th:only-of-type {\n",
       "        vertical-align: middle;\n",
       "    }\n",
       "\n",
       "    .dataframe tbody tr th {\n",
       "        vertical-align: top;\n",
       "    }\n",
       "\n",
       "    .dataframe thead th {\n",
       "        text-align: right;\n",
       "    }\n",
       "</style>\n",
       "<table border=\"1\" class=\"dataframe\">\n",
       "  <thead>\n",
       "    <tr style=\"text-align: right;\">\n",
       "      <th></th>\n",
       "      <th>MinTemp</th>\n",
       "      <th>MaxTemp</th>\n",
       "      <th>Rainfall</th>\n",
       "      <th>Evaporation</th>\n",
       "      <th>Sunshine</th>\n",
       "      <th>WindGustSpeed</th>\n",
       "      <th>WindSpeed9am</th>\n",
       "      <th>WindSpeed3pm</th>\n",
       "      <th>Humidity9am</th>\n",
       "      <th>Humidity3pm</th>\n",
       "      <th>Pressure9am</th>\n",
       "      <th>Pressure3pm</th>\n",
       "      <th>Cloud9am</th>\n",
       "      <th>Cloud3pm</th>\n",
       "      <th>Temp9am</th>\n",
       "      <th>Temp3pm</th>\n",
       "      <th>Year</th>\n",
       "      <th>Month</th>\n",
       "      <th>Day</th>\n",
       "    </tr>\n",
       "  </thead>\n",
       "  <tbody>\n",
       "    <tr>\n",
       "      <th>0</th>\n",
       "      <td>13.4</td>\n",
       "      <td>22.9</td>\n",
       "      <td>0.6</td>\n",
       "      <td>NaN</td>\n",
       "      <td>NaN</td>\n",
       "      <td>44.0</td>\n",
       "      <td>20.0</td>\n",
       "      <td>24.0</td>\n",
       "      <td>71.0</td>\n",
       "      <td>22.0</td>\n",
       "      <td>1007.7</td>\n",
       "      <td>1007.1</td>\n",
       "      <td>8.0</td>\n",
       "      <td>NaN</td>\n",
       "      <td>16.9</td>\n",
       "      <td>21.8</td>\n",
       "      <td>2008</td>\n",
       "      <td>12</td>\n",
       "      <td>1</td>\n",
       "    </tr>\n",
       "    <tr>\n",
       "      <th>1</th>\n",
       "      <td>7.4</td>\n",
       "      <td>25.1</td>\n",
       "      <td>0.0</td>\n",
       "      <td>NaN</td>\n",
       "      <td>NaN</td>\n",
       "      <td>44.0</td>\n",
       "      <td>4.0</td>\n",
       "      <td>22.0</td>\n",
       "      <td>44.0</td>\n",
       "      <td>25.0</td>\n",
       "      <td>1010.6</td>\n",
       "      <td>1007.8</td>\n",
       "      <td>NaN</td>\n",
       "      <td>NaN</td>\n",
       "      <td>17.2</td>\n",
       "      <td>24.3</td>\n",
       "      <td>2008</td>\n",
       "      <td>12</td>\n",
       "      <td>2</td>\n",
       "    </tr>\n",
       "    <tr>\n",
       "      <th>2</th>\n",
       "      <td>12.9</td>\n",
       "      <td>25.7</td>\n",
       "      <td>0.0</td>\n",
       "      <td>NaN</td>\n",
       "      <td>NaN</td>\n",
       "      <td>46.0</td>\n",
       "      <td>19.0</td>\n",
       "      <td>26.0</td>\n",
       "      <td>38.0</td>\n",
       "      <td>30.0</td>\n",
       "      <td>1007.6</td>\n",
       "      <td>1008.7</td>\n",
       "      <td>NaN</td>\n",
       "      <td>2.0</td>\n",
       "      <td>21.0</td>\n",
       "      <td>23.2</td>\n",
       "      <td>2008</td>\n",
       "      <td>12</td>\n",
       "      <td>3</td>\n",
       "    </tr>\n",
       "    <tr>\n",
       "      <th>3</th>\n",
       "      <td>9.2</td>\n",
       "      <td>28.0</td>\n",
       "      <td>0.0</td>\n",
       "      <td>NaN</td>\n",
       "      <td>NaN</td>\n",
       "      <td>24.0</td>\n",
       "      <td>11.0</td>\n",
       "      <td>9.0</td>\n",
       "      <td>45.0</td>\n",
       "      <td>16.0</td>\n",
       "      <td>1017.6</td>\n",
       "      <td>1012.8</td>\n",
       "      <td>NaN</td>\n",
       "      <td>NaN</td>\n",
       "      <td>18.1</td>\n",
       "      <td>26.5</td>\n",
       "      <td>2008</td>\n",
       "      <td>12</td>\n",
       "      <td>4</td>\n",
       "    </tr>\n",
       "    <tr>\n",
       "      <th>4</th>\n",
       "      <td>17.5</td>\n",
       "      <td>32.3</td>\n",
       "      <td>1.0</td>\n",
       "      <td>NaN</td>\n",
       "      <td>NaN</td>\n",
       "      <td>41.0</td>\n",
       "      <td>7.0</td>\n",
       "      <td>20.0</td>\n",
       "      <td>82.0</td>\n",
       "      <td>33.0</td>\n",
       "      <td>1010.8</td>\n",
       "      <td>1006.0</td>\n",
       "      <td>7.0</td>\n",
       "      <td>8.0</td>\n",
       "      <td>17.8</td>\n",
       "      <td>29.7</td>\n",
       "      <td>2008</td>\n",
       "      <td>12</td>\n",
       "      <td>5</td>\n",
       "    </tr>\n",
       "  </tbody>\n",
       "</table>\n",
       "</div>"
      ],
      "text/plain": [
       "   MinTemp  MaxTemp  Rainfall  Evaporation  Sunshine  WindGustSpeed  \\\n",
       "0     13.4     22.9       0.6          NaN       NaN           44.0   \n",
       "1      7.4     25.1       0.0          NaN       NaN           44.0   \n",
       "2     12.9     25.7       0.0          NaN       NaN           46.0   \n",
       "3      9.2     28.0       0.0          NaN       NaN           24.0   \n",
       "4     17.5     32.3       1.0          NaN       NaN           41.0   \n",
       "\n",
       "   WindSpeed9am  WindSpeed3pm  Humidity9am  Humidity3pm  Pressure9am  \\\n",
       "0          20.0          24.0         71.0         22.0       1007.7   \n",
       "1           4.0          22.0         44.0         25.0       1010.6   \n",
       "2          19.0          26.0         38.0         30.0       1007.6   \n",
       "3          11.0           9.0         45.0         16.0       1017.6   \n",
       "4           7.0          20.0         82.0         33.0       1010.8   \n",
       "\n",
       "   Pressure3pm  Cloud9am  Cloud3pm  Temp9am  Temp3pm  Year  Month  Day  \n",
       "0       1007.1       8.0       NaN     16.9     21.8  2008     12    1  \n",
       "1       1007.8       NaN       NaN     17.2     24.3  2008     12    2  \n",
       "2       1008.7       NaN       2.0     21.0     23.2  2008     12    3  \n",
       "3       1012.8       NaN       NaN     18.1     26.5  2008     12    4  \n",
       "4       1006.0       7.0       8.0     17.8     29.7  2008     12    5  "
      ]
     },
     "execution_count": 390,
     "metadata": {},
     "output_type": "execute_result"
    }
   ],
   "source": [
    "# view the numerical variables\n",
    "\n",
    "df[numerical].head()"
   ]
  },
  {
   "cell_type": "markdown",
   "metadata": {
    "id": "hh35x0UmdETJ"
   },
   "source": [
    "### Summary of numerical variables <a class=\"anchor\" id=\"6.6\"></a>\n",
    "\n",
    "\n",
    "- There are 16 numerical variables. \n",
    "\n",
    "\n",
    "- These are given by `MinTemp`, `MaxTemp`, `Rainfall`, `Evaporation`, `Sunshine`, `WindGustSpeed`, `WindSpeed9am`, `WindSpeed3pm`, `Humidity9am`, `Humidity3pm`, `Pressure9am`, `Pressure3pm`, `Cloud9am`, `Cloud3pm`, `Temp9am` and `Temp3pm`.\n",
    "\n",
    "\n",
    "- All of the numerical variables are of continuous type."
   ]
  },
  {
   "cell_type": "markdown",
   "metadata": {
    "id": "FyF1t8eCdETJ"
   },
   "source": [
    "### Explore problems within numerical variables <a class=\"anchor\" id=\"6.7\"></a>\n",
    "\n"
   ]
  },
  {
   "cell_type": "markdown",
   "metadata": {
    "id": "llw4Q_OOdETJ"
   },
   "source": [
    "### Missing values in numerical variables"
   ]
  },
  {
   "cell_type": "code",
   "execution_count": 391,
   "metadata": {
    "colab": {
     "base_uri": "https://localhost:8080/"
    },
    "id": "-51C2vmHdETK",
    "outputId": "71e56b3c-7a3b-4eb6-fa7b-9a21ec421971"
   },
   "outputs": [
    {
     "data": {
      "text/plain": [
       "MinTemp            719\n",
       "MaxTemp            597\n",
       "Rainfall             0\n",
       "Evaporation      91459\n",
       "Sunshine         99894\n",
       "WindGustSpeed    12570\n",
       "WindSpeed9am      2461\n",
       "WindSpeed3pm      5657\n",
       "Humidity9am       1773\n",
       "Humidity3pm       5493\n",
       "Pressure9am      19688\n",
       "Pressure3pm      19749\n",
       "Cloud9am         75498\n",
       "Cloud3pm         81330\n",
       "Temp9am            800\n",
       "Temp3pm           4509\n",
       "Year                 0\n",
       "Month                0\n",
       "Day                  0\n",
       "dtype: int64"
      ]
     },
     "execution_count": 391,
     "metadata": {},
     "output_type": "execute_result"
    }
   ],
   "source": [
    "# check missing values in numerical variables\n",
    "\n",
    "df[numerical].isnull().sum()"
   ]
  },
  {
   "cell_type": "markdown",
   "metadata": {
    "id": "MKuyrSUidETK"
   },
   "source": [
    "16 numerical variables contain missing values."
   ]
  },
  {
   "cell_type": "markdown",
   "metadata": {
    "id": "PNKng3JodETK"
   },
   "source": [
    "### Outliers in numerical variables"
   ]
  },
  {
   "cell_type": "code",
   "execution_count": 392,
   "metadata": {
    "colab": {
     "base_uri": "https://localhost:8080/"
    },
    "id": "xRvIZHs0dETK",
    "outputId": "d48017fb-d756-461b-a0d7-6b3e64ff38b0"
   },
   "outputs": [
    {
     "name": "stdout",
     "output_type": "stream",
     "text": [
      "        MinTemp   MaxTemp  Rainfall  Evaporation  Sunshine  WindGustSpeed  \\\n",
      "count  183854.0  183976.0  184573.0      93114.0   84679.0       172003.0   \n",
      "mean       12.0      23.0       2.0          6.0       8.0           40.0   \n",
      "std         6.0       7.0       8.0          4.0       4.0           14.0   \n",
      "min        -9.0      -4.0       0.0          0.0       0.0            2.0   \n",
      "25%         8.0      18.0       0.0          3.0       5.0           31.0   \n",
      "50%        12.0      23.0       0.0          5.0       8.0           39.0   \n",
      "75%        17.0      28.0       1.0          7.0      11.0           48.0   \n",
      "max        34.0      49.0     474.0        139.0      14.0          135.0   \n",
      "\n",
      "       WindSpeed9am  WindSpeed3pm  Humidity9am  Humidity3pm  Pressure9am  \\\n",
      "count      182112.0      178916.0     182800.0     179080.0     164885.0   \n",
      "mean           14.0          19.0         68.0         51.0       1018.0   \n",
      "std             9.0           9.0         20.0         21.0          7.0   \n",
      "min             0.0           0.0          0.0          0.0        979.0   \n",
      "25%             7.0          13.0         56.0         35.0       1013.0   \n",
      "50%            13.0          19.0         69.0         51.0       1018.0   \n",
      "75%            19.0          24.0         83.0         65.0       1023.0   \n",
      "max            87.0          87.0        100.0        100.0       1041.0   \n",
      "\n",
      "       Pressure3pm  Cloud9am  Cloud3pm   Temp9am   Temp3pm      Year  \\\n",
      "count     164824.0  109075.0  103243.0  183773.0  180064.0  184573.0   \n",
      "mean        1015.0       5.0       5.0      17.0      22.0    2014.0   \n",
      "std            7.0       3.0       3.0       7.0       7.0       4.0   \n",
      "min          979.0       0.0       0.0      -6.0      -5.0    2007.0   \n",
      "25%         1011.0       1.0       2.0      12.0      17.0    2011.0   \n",
      "50%         1015.0       5.0       5.0      17.0      21.0    2014.0   \n",
      "75%         1020.0       7.0       7.0      22.0      26.0    2018.0   \n",
      "max         1040.0       9.0       9.0      40.0      48.0    2021.0   \n",
      "\n",
      "          Month       Day  \n",
      "count  184573.0  184573.0  \n",
      "mean        7.0      16.0  \n",
      "std         3.0       9.0  \n",
      "min         1.0       1.0  \n",
      "25%         4.0       8.0  \n",
      "50%         7.0      16.0  \n",
      "75%        10.0      23.0  \n",
      "max        12.0      31.0   2\n"
     ]
    }
   ],
   "source": [
    "# view summary statistics in numerical variables\n",
    "\n",
    "print(round(df[numerical].describe()),2)"
   ]
  },
  {
   "cell_type": "markdown",
   "metadata": {
    "id": "qEyxcggAdETK"
   },
   "source": [
    "On closer inspection, we can see that the `Rainfall`, `Evaporation`, `WindSpeed9am` and `WindSpeed3pm` columns may contain outliers.\n",
    "\n",
    "\n",
    "Drawing boxplots to visualise outliers in the above variables. "
   ]
  },
  {
   "cell_type": "code",
   "execution_count": 393,
   "metadata": {
    "colab": {
     "base_uri": "https://localhost:8080/",
     "height": 609
    },
    "id": "3KODsfAHdETL",
    "outputId": "c80112ba-e7a9-4b50-b471-8beaf1d7fa96"
   },
   "outputs": [
    {
     "data": {
      "text/plain": [
       "Text(0, 0.5, 'WindSpeed3pm')"
      ]
     },
     "execution_count": 393,
     "metadata": {},
     "output_type": "execute_result"
    },
    {
     "data": {
      "image/png": "[encoded data removed]",
      "text/plain": [
       "<Figure size 1080x720 with 4 Axes>"
      ]
     },
     "metadata": {
      "needs_background": "light"
     },
     "output_type": "display_data"
    }
   ],
   "source": [
    "# draw boxplots to visualize outliers\n",
    "\n",
    "plt.figure(figsize=(15,10))\n",
    "\n",
    "\n",
    "plt.subplot(2, 2, 1)\n",
    "fig = df.boxplot(column='Rainfall')\n",
    "fig.set_title('')\n",
    "fig.set_ylabel('Rainfall')\n",
    "\n",
    "\n",
    "plt.subplot(2, 2, 2)\n",
    "fig = df.boxplot(column='Evaporation')\n",
    "fig.set_title('')\n",
    "fig.set_ylabel('Evaporation')\n",
    "\n",
    "\n",
    "plt.subplot(2, 2, 3)\n",
    "fig = df.boxplot(column='WindSpeed9am')\n",
    "fig.set_title('')\n",
    "fig.set_ylabel('WindSpeed9am')\n",
    "\n",
    "\n",
    "plt.subplot(2, 2, 4)\n",
    "fig = df.boxplot(column='WindSpeed3pm')\n",
    "fig.set_title('')\n",
    "fig.set_ylabel('WindSpeed3pm')"
   ]
  },
  {
   "cell_type": "markdown",
   "metadata": {
    "id": "7FqHZcAAdETL"
   },
   "source": [
    "The above boxplots confirm that there are lot of outliers in these variables."
   ]
  },
  {
   "cell_type": "markdown",
   "metadata": {
    "id": "nOmO_NstdETL"
   },
   "source": [
    "### Check the distribution of variables\n",
    "\n",
    "\n",
    "- Plotting the histograms to check distributions to find out if they are normal or skewed. \n",
    "\n",
    "- If the variable follows normal distribution, Apply `Extreme Value Analysis` otherwise if they are skewed, use IQR (Interquantile range)."
   ]
  },
  {
   "cell_type": "code",
   "execution_count": 394,
   "metadata": {
    "colab": {
     "base_uri": "https://localhost:8080/",
     "height": 623
    },
    "id": "oY_blAnKdETL",
    "outputId": "6e067a2e-9cfa-498b-ea17-8ba428599b70"
   },
   "outputs": [
    {
     "data": {
      "text/plain": [
       "Text(0, 0.5, 'RainTomorrow')"
      ]
     },
     "execution_count": 394,
     "metadata": {},
     "output_type": "execute_result"
    },
    {
     "data": {
      "image/png": "[encoded data removed]",
      "text/plain": [
       "<Figure size 1080x720 with 4 Axes>"
      ]
     },
     "metadata": {
      "needs_background": "light"
     },
     "output_type": "display_data"
    }
   ],
   "source": [
    "# plot histogram to check distribution\n",
    "\n",
    "plt.figure(figsize=(15,10))\n",
    "\n",
    "\n",
    "plt.subplot(2, 2, 1)\n",
    "fig = df.Rainfall.hist(bins=10)\n",
    "fig.set_xlabel('Rainfall')\n",
    "fig.set_ylabel('RainTomorrow')\n",
    "\n",
    "\n",
    "plt.subplot(2, 2, 2)\n",
    "fig = df.Evaporation.hist(bins=10)\n",
    "fig.set_xlabel('Evaporation')\n",
    "fig.set_ylabel('RainTomorrow')\n",
    "\n",
    "\n",
    "plt.subplot(2, 2, 3)\n",
    "fig = df.WindSpeed9am.hist(bins=10)\n",
    "fig.set_xlabel('WindSpeed9am')\n",
    "fig.set_ylabel('RainTomorrow')\n",
    "\n",
    "\n",
    "plt.subplot(2, 2, 4)\n",
    "fig = df.WindSpeed3pm.hist(bins=10)\n",
    "fig.set_xlabel('WindSpeed3pm')\n",
    "fig.set_ylabel('RainTomorrow')"
   ]
  },
  {
   "cell_type": "markdown",
   "metadata": {
    "id": "478JyiwhdETM"
   },
   "source": [
    "All the four variables are skewed. Hence using interquantile range to find outliers."
   ]
  },
  {
   "cell_type": "code",
   "execution_count": 395,
   "metadata": {
    "colab": {
     "base_uri": "https://localhost:8080/"
    },
    "id": "_IXa8W9qdETM",
    "outputId": "5ec5be6b-5370-449e-9902-713be5be21f5"
   },
   "outputs": [
    {
     "name": "stdout",
     "output_type": "stream",
     "text": [
      "Rainfall outliers are values < -1.7999999999999998 or > 2.4\n"
     ]
    }
   ],
   "source": [
    "# find outliers for Rainfall variable\n",
    "\n",
    "IQR = df.Rainfall.quantile(0.75) - df.Rainfall.quantile(0.25)\n",
    "Lower_fence = df.Rainfall.quantile(0.25) - (IQR * 3)\n",
    "Upper_fence = df.Rainfall.quantile(0.75) + (IQR * 3)\n",
    "print('Rainfall outliers are values < {lowerboundary} or > {upperboundary}'.format(lowerboundary=Lower_fence, upperboundary=Upper_fence))\n"
   ]
  },
  {
   "cell_type": "code",
   "execution_count": 396,
   "metadata": {
    "colab": {
     "base_uri": "https://localhost:8080/"
    },
    "id": "9VLgzb9NdETM",
    "outputId": "c45feb19-806c-4ac2-bd21-a98e2eaf9092"
   },
   "outputs": [
    {
     "name": "stdout",
     "output_type": "stream",
     "text": [
      "Evaporation outliers are values < -11.0 or > 21.200000000000003\n"
     ]
    }
   ],
   "source": [
    "# find outliers for Evaporation variable\n",
    "\n",
    "IQR = df.Evaporation.quantile(0.75) - df.Evaporation.quantile(0.25)\n",
    "Lower_fence = df.Evaporation.quantile(0.25) - (IQR * 3)\n",
    "Upper_fence = df.Evaporation.quantile(0.75) + (IQR * 3)\n",
    "print('Evaporation outliers are values < {lowerboundary} or > {upperboundary}'.format(lowerboundary=Lower_fence, upperboundary=Upper_fence))\n"
   ]
  },
  {
   "cell_type": "code",
   "execution_count": 397,
   "metadata": {
    "colab": {
     "base_uri": "https://localhost:8080/"
    },
    "id": "6uc91LTSdETN",
    "outputId": "8c26a341-5a40-4e1a-ac62-d15d52b6ea1b"
   },
   "outputs": [
    {
     "name": "stdout",
     "output_type": "stream",
     "text": [
      "WindSpeed9am outliers are values < -29.0 or > 55.0\n"
     ]
    }
   ],
   "source": [
    "# find outliers for WindSpeed9am variable\n",
    "\n",
    "IQR = df.WindSpeed9am.quantile(0.75) - df.WindSpeed9am.quantile(0.25)\n",
    "Lower_fence = df.WindSpeed9am.quantile(0.25) - (IQR * 3)\n",
    "Upper_fence = df.WindSpeed9am.quantile(0.75) + (IQR * 3)\n",
    "print('WindSpeed9am outliers are values < {lowerboundary} or > {upperboundary}'.format(lowerboundary=Lower_fence, upperboundary=Upper_fence))\n"
   ]
  },
  {
   "cell_type": "code",
   "execution_count": 398,
   "metadata": {
    "colab": {
     "base_uri": "https://localhost:8080/"
    },
    "id": "-E2oNoSYdETN",
    "outputId": "b64b4690-922f-423e-edf5-3bbf37aa4f28"
   },
   "outputs": [
    {
     "name": "stdout",
     "output_type": "stream",
     "text": [
      "WindSpeed3pm outliers are values < -20.0 or > 57.0\n"
     ]
    }
   ],
   "source": [
    "# find outliers for WindSpeed3pm variable\n",
    "\n",
    "IQR = df.WindSpeed3pm.quantile(0.75) - df.WindSpeed3pm.quantile(0.25)\n",
    "Lower_fence = df.WindSpeed3pm.quantile(0.25) - (IQR * 3)\n",
    "Upper_fence = df.WindSpeed3pm.quantile(0.75) + (IQR * 3)\n",
    "print('WindSpeed3pm outliers are values < {lowerboundary} or > {upperboundary}'.format(lowerboundary=Lower_fence, upperboundary=Upper_fence))\n"
   ]
  },
  {
   "cell_type": "markdown",
   "metadata": {
    "id": "x8PzzRwPdETO"
   },
   "source": [
    "## 7. Multivariate Analysis <a class=\"anchor\" id=\"7\"></a>\n",
    "\n",
    "\n",
    "- An important step in EDA is to discover patterns and relationships between variables in the dataset.\n",
    "\n",
    "- Using heat map and pair plot to discover the patterns and relationships in the dataset."
   ]
  },
  {
   "cell_type": "code",
   "execution_count": 399,
   "metadata": {
    "id": "lpJHWlgEdETO"
   },
   "outputs": [],
   "source": [
    "correlation = df.corr()"
   ]
  },
  {
   "cell_type": "markdown",
   "metadata": {
    "id": "diWaYDB9dETO"
   },
   "source": [
    "### Heat Map <a class=\"anchor\" id=\"7.1\"></a>"
   ]
  },
  {
   "cell_type": "code",
   "execution_count": 400,
   "metadata": {
    "colab": {
     "base_uri": "https://localhost:8080/",
     "height": 786
    },
    "id": "Nz4qpjw5dETO",
    "outputId": "02fd8433-aa99-4292-a006-7b23ec48b20f"
   },
   "outputs": [
    {
     "data": {
      "image/png": "[encoded data removed]",
      "text/plain": [
       "<Figure size 1152x864 with 2 Axes>"
      ]
     },
     "metadata": {
      "needs_background": "light"
     },
     "output_type": "display_data"
    }
   ],
   "source": [
    "plt.figure(figsize=(16,12))\n",
    "plt.title('Correlation Heatmap of Rain in Australia Dataset')\n",
    "ax = sns.heatmap(correlation, square=True, annot=True, fmt='.2f', linecolor='white')\n",
    "ax.set_xticklabels(ax.get_xticklabels(), rotation=90)\n",
    "ax.set_yticklabels(ax.get_yticklabels(), rotation=30)           \n",
    "plt.show()"
   ]
  },
  {
   "cell_type": "markdown",
   "metadata": {
    "id": "XzXS9QQ2dETP"
   },
   "source": [
    "#### Interpretation\n",
    "\n",
    "From the above correlation heat map, few variables clearly have strong positive correlation with each other!\n",
    "\n",
    "No strong negative correlations spotted\n"
   ]
  },
  {
   "cell_type": "markdown",
   "metadata": {
    "id": "qxNGKMHzdETP"
   },
   "source": [
    "### Pair Plot <a class=\"anchor\" id=\"7.2\"></a>\n",
    "\n",
    "Extracting the variables which are highly positively correlated. "
   ]
  },
  {
   "cell_type": "code",
   "execution_count": 401,
   "metadata": {
    "id": "DawlIGCodETP"
   },
   "outputs": [],
   "source": [
    "num_var = ['MinTemp', 'MaxTemp', 'Temp9am', 'Temp3pm', 'WindGustSpeed', 'WindSpeed3pm', 'Pressure9am', 'Pressure3pm']"
   ]
  },
  {
   "cell_type": "markdown",
   "metadata": {
    "id": "KxGl1N_8dETP"
   },
   "source": [
    "Pairplot to depict relationship between these variables."
   ]
  },
  {
   "cell_type": "code",
   "execution_count": 402,
   "metadata": {
    "id": "it7cSmShdETP"
   },
   "outputs": [],
   "source": [
    "# sns.pairplot(df[num_var], kind='scatter', diag_kind='hist', palette='Rainbow')\n",
    "# plt.show()"
   ]
  },
  {
   "cell_type": "markdown",
   "metadata": {
    "id": "PCU-ZtxUdETQ"
   },
   "source": [
    "#### Interpretation\n",
    "\n",
    "\n",
    "- It's best to drop one of the features with Corr > 0.8 with each other"
   ]
  },
  {
   "cell_type": "code",
   "execution_count": 403,
   "metadata": {
    "colab": {
     "base_uri": "https://localhost:8080/",
     "height": 439
    },
    "id": "hpsOSq70ds4h",
    "outputId": "7f23c61f-b748-4b20-ad79-27c36d8a5c10"
   },
   "outputs": [
    {
     "data": {
      "text/html": [
       "<div>\n",
       "<style scoped>\n",
       "    .dataframe tbody tr th:only-of-type {\n",
       "        vertical-align: middle;\n",
       "    }\n",
       "\n",
       "    .dataframe tbody tr th {\n",
       "        vertical-align: top;\n",
       "    }\n",
       "\n",
       "    .dataframe thead th {\n",
       "        text-align: right;\n",
       "    }\n",
       "</style>\n",
       "<table border=\"1\" class=\"dataframe\">\n",
       "  <thead>\n",
       "    <tr style=\"text-align: right;\">\n",
       "      <th></th>\n",
       "      <th>Location</th>\n",
       "      <th>MinTemp</th>\n",
       "      <th>MaxTemp</th>\n",
       "      <th>Rainfall</th>\n",
       "      <th>Evaporation</th>\n",
       "      <th>Sunshine</th>\n",
       "      <th>WindGustDir</th>\n",
       "      <th>WindGustSpeed</th>\n",
       "      <th>WindDir9am</th>\n",
       "      <th>WindDir3pm</th>\n",
       "      <th>...</th>\n",
       "      <th>Pressure3pm</th>\n",
       "      <th>Cloud9am</th>\n",
       "      <th>Cloud3pm</th>\n",
       "      <th>Temp9am</th>\n",
       "      <th>Temp3pm</th>\n",
       "      <th>RainToday</th>\n",
       "      <th>RainTomorrow</th>\n",
       "      <th>Year</th>\n",
       "      <th>Month</th>\n",
       "      <th>Day</th>\n",
       "    </tr>\n",
       "  </thead>\n",
       "  <tbody>\n",
       "    <tr>\n",
       "      <th>0</th>\n",
       "      <td>Albury</td>\n",
       "      <td>13.4</td>\n",
       "      <td>22.9</td>\n",
       "      <td>0.6</td>\n",
       "      <td>NaN</td>\n",
       "      <td>NaN</td>\n",
       "      <td>W</td>\n",
       "      <td>44.0</td>\n",
       "      <td>W</td>\n",
       "      <td>WNW</td>\n",
       "      <td>...</td>\n",
       "      <td>1007.1</td>\n",
       "      <td>8.0</td>\n",
       "      <td>NaN</td>\n",
       "      <td>16.9</td>\n",
       "      <td>21.8</td>\n",
       "      <td>No</td>\n",
       "      <td>No</td>\n",
       "      <td>2008</td>\n",
       "      <td>12</td>\n",
       "      <td>1</td>\n",
       "    </tr>\n",
       "    <tr>\n",
       "      <th>1</th>\n",
       "      <td>Albury</td>\n",
       "      <td>7.4</td>\n",
       "      <td>25.1</td>\n",
       "      <td>0.0</td>\n",
       "      <td>NaN</td>\n",
       "      <td>NaN</td>\n",
       "      <td>WNW</td>\n",
       "      <td>44.0</td>\n",
       "      <td>NNW</td>\n",
       "      <td>WSW</td>\n",
       "      <td>...</td>\n",
       "      <td>1007.8</td>\n",
       "      <td>NaN</td>\n",
       "      <td>NaN</td>\n",
       "      <td>17.2</td>\n",
       "      <td>24.3</td>\n",
       "      <td>No</td>\n",
       "      <td>No</td>\n",
       "      <td>2008</td>\n",
       "      <td>12</td>\n",
       "      <td>2</td>\n",
       "    </tr>\n",
       "    <tr>\n",
       "      <th>2</th>\n",
       "      <td>Albury</td>\n",
       "      <td>12.9</td>\n",
       "      <td>25.7</td>\n",
       "      <td>0.0</td>\n",
       "      <td>NaN</td>\n",
       "      <td>NaN</td>\n",
       "      <td>WSW</td>\n",
       "      <td>46.0</td>\n",
       "      <td>W</td>\n",
       "      <td>WSW</td>\n",
       "      <td>...</td>\n",
       "      <td>1008.7</td>\n",
       "      <td>NaN</td>\n",
       "      <td>2.0</td>\n",
       "      <td>21.0</td>\n",
       "      <td>23.2</td>\n",
       "      <td>No</td>\n",
       "      <td>No</td>\n",
       "      <td>2008</td>\n",
       "      <td>12</td>\n",
       "      <td>3</td>\n",
       "    </tr>\n",
       "    <tr>\n",
       "      <th>3</th>\n",
       "      <td>Albury</td>\n",
       "      <td>9.2</td>\n",
       "      <td>28.0</td>\n",
       "      <td>0.0</td>\n",
       "      <td>NaN</td>\n",
       "      <td>NaN</td>\n",
       "      <td>NE</td>\n",
       "      <td>24.0</td>\n",
       "      <td>SE</td>\n",
       "      <td>E</td>\n",
       "      <td>...</td>\n",
       "      <td>1012.8</td>\n",
       "      <td>NaN</td>\n",
       "      <td>NaN</td>\n",
       "      <td>18.1</td>\n",
       "      <td>26.5</td>\n",
       "      <td>No</td>\n",
       "      <td>No</td>\n",
       "      <td>2008</td>\n",
       "      <td>12</td>\n",
       "      <td>4</td>\n",
       "    </tr>\n",
       "    <tr>\n",
       "      <th>4</th>\n",
       "      <td>Albury</td>\n",
       "      <td>17.5</td>\n",
       "      <td>32.3</td>\n",
       "      <td>1.0</td>\n",
       "      <td>NaN</td>\n",
       "      <td>NaN</td>\n",
       "      <td>W</td>\n",
       "      <td>41.0</td>\n",
       "      <td>ENE</td>\n",
       "      <td>NW</td>\n",
       "      <td>...</td>\n",
       "      <td>1006.0</td>\n",
       "      <td>7.0</td>\n",
       "      <td>8.0</td>\n",
       "      <td>17.8</td>\n",
       "      <td>29.7</td>\n",
       "      <td>No</td>\n",
       "      <td>No</td>\n",
       "      <td>2008</td>\n",
       "      <td>12</td>\n",
       "      <td>5</td>\n",
       "    </tr>\n",
       "    <tr>\n",
       "      <th>...</th>\n",
       "      <td>...</td>\n",
       "      <td>...</td>\n",
       "      <td>...</td>\n",
       "      <td>...</td>\n",
       "      <td>...</td>\n",
       "      <td>...</td>\n",
       "      <td>...</td>\n",
       "      <td>...</td>\n",
       "      <td>...</td>\n",
       "      <td>...</td>\n",
       "      <td>...</td>\n",
       "      <td>...</td>\n",
       "      <td>...</td>\n",
       "      <td>...</td>\n",
       "      <td>...</td>\n",
       "      <td>...</td>\n",
       "      <td>...</td>\n",
       "      <td>...</td>\n",
       "      <td>...</td>\n",
       "      <td>...</td>\n",
       "      <td>...</td>\n",
       "    </tr>\n",
       "    <tr>\n",
       "      <th>191426</th>\n",
       "      <td>Uluru</td>\n",
       "      <td>23.0</td>\n",
       "      <td>33.9</td>\n",
       "      <td>0.0</td>\n",
       "      <td>NaN</td>\n",
       "      <td>NaN</td>\n",
       "      <td>ESE</td>\n",
       "      <td>43.0</td>\n",
       "      <td>ESE</td>\n",
       "      <td>SE</td>\n",
       "      <td>...</td>\n",
       "      <td>1010.6</td>\n",
       "      <td>NaN</td>\n",
       "      <td>NaN</td>\n",
       "      <td>25.6</td>\n",
       "      <td>32.3</td>\n",
       "      <td>No</td>\n",
       "      <td>No</td>\n",
       "      <td>2021</td>\n",
       "      <td>2</td>\n",
       "      <td>23</td>\n",
       "    </tr>\n",
       "    <tr>\n",
       "      <th>191427</th>\n",
       "      <td>Uluru</td>\n",
       "      <td>19.7</td>\n",
       "      <td>33.0</td>\n",
       "      <td>0.0</td>\n",
       "      <td>NaN</td>\n",
       "      <td>NaN</td>\n",
       "      <td>ESE</td>\n",
       "      <td>41.0</td>\n",
       "      <td>E</td>\n",
       "      <td>SSE</td>\n",
       "      <td>...</td>\n",
       "      <td>1008.5</td>\n",
       "      <td>NaN</td>\n",
       "      <td>NaN</td>\n",
       "      <td>24.9</td>\n",
       "      <td>31.7</td>\n",
       "      <td>No</td>\n",
       "      <td>No</td>\n",
       "      <td>2021</td>\n",
       "      <td>2</td>\n",
       "      <td>24</td>\n",
       "    </tr>\n",
       "    <tr>\n",
       "      <th>191428</th>\n",
       "      <td>Uluru</td>\n",
       "      <td>16.9</td>\n",
       "      <td>33.4</td>\n",
       "      <td>0.0</td>\n",
       "      <td>NaN</td>\n",
       "      <td>NaN</td>\n",
       "      <td>SSE</td>\n",
       "      <td>46.0</td>\n",
       "      <td>ENE</td>\n",
       "      <td>SSE</td>\n",
       "      <td>...</td>\n",
       "      <td>1007.2</td>\n",
       "      <td>NaN</td>\n",
       "      <td>NaN</td>\n",
       "      <td>25.0</td>\n",
       "      <td>31.8</td>\n",
       "      <td>No</td>\n",
       "      <td>No</td>\n",
       "      <td>2021</td>\n",
       "      <td>2</td>\n",
       "      <td>25</td>\n",
       "    </tr>\n",
       "    <tr>\n",
       "      <th>191429</th>\n",
       "      <td>Uluru</td>\n",
       "      <td>17.4</td>\n",
       "      <td>34.9</td>\n",
       "      <td>0.0</td>\n",
       "      <td>NaN</td>\n",
       "      <td>NaN</td>\n",
       "      <td>NE</td>\n",
       "      <td>41.0</td>\n",
       "      <td>ENE</td>\n",
       "      <td>N</td>\n",
       "      <td>...</td>\n",
       "      <td>1003.9</td>\n",
       "      <td>NaN</td>\n",
       "      <td>NaN</td>\n",
       "      <td>25.6</td>\n",
       "      <td>33.8</td>\n",
       "      <td>No</td>\n",
       "      <td>No</td>\n",
       "      <td>2021</td>\n",
       "      <td>2</td>\n",
       "      <td>26</td>\n",
       "    </tr>\n",
       "    <tr>\n",
       "      <th>191430</th>\n",
       "      <td>Uluru</td>\n",
       "      <td>18.8</td>\n",
       "      <td>37.3</td>\n",
       "      <td>0.0</td>\n",
       "      <td>NaN</td>\n",
       "      <td>NaN</td>\n",
       "      <td>NNW</td>\n",
       "      <td>44.0</td>\n",
       "      <td>ENE</td>\n",
       "      <td>WSW</td>\n",
       "      <td>...</td>\n",
       "      <td>1003.2</td>\n",
       "      <td>NaN</td>\n",
       "      <td>NaN</td>\n",
       "      <td>27.2</td>\n",
       "      <td>37.0</td>\n",
       "      <td>No</td>\n",
       "      <td>No</td>\n",
       "      <td>2021</td>\n",
       "      <td>2</td>\n",
       "      <td>27</td>\n",
       "    </tr>\n",
       "  </tbody>\n",
       "</table>\n",
       "<p>184573 rows × 25 columns</p>\n",
       "</div>"
      ],
      "text/plain": [
       "       Location  MinTemp  MaxTemp  Rainfall  Evaporation  Sunshine  \\\n",
       "0        Albury     13.4     22.9       0.6          NaN       NaN   \n",
       "1        Albury      7.4     25.1       0.0          NaN       NaN   \n",
       "2        Albury     12.9     25.7       0.0          NaN       NaN   \n",
       "3        Albury      9.2     28.0       0.0          NaN       NaN   \n",
       "4        Albury     17.5     32.3       1.0          NaN       NaN   \n",
       "...         ...      ...      ...       ...          ...       ...   \n",
       "191426    Uluru     23.0     33.9       0.0          NaN       NaN   \n",
       "191427    Uluru     19.7     33.0       0.0          NaN       NaN   \n",
       "191428    Uluru     16.9     33.4       0.0          NaN       NaN   \n",
       "191429    Uluru     17.4     34.9       0.0          NaN       NaN   \n",
       "191430    Uluru     18.8     37.3       0.0          NaN       NaN   \n",
       "\n",
       "       WindGustDir  WindGustSpeed WindDir9am WindDir3pm  ...  Pressure3pm  \\\n",
       "0                W           44.0          W        WNW  ...       1007.1   \n",
       "1              WNW           44.0        NNW        WSW  ...       1007.8   \n",
       "2              WSW           46.0          W        WSW  ...       1008.7   \n",
       "3               NE           24.0         SE          E  ...       1012.8   \n",
       "4                W           41.0        ENE         NW  ...       1006.0   \n",
       "...            ...            ...        ...        ...  ...          ...   \n",
       "191426         ESE           43.0        ESE         SE  ...       1010.6   \n",
       "191427         ESE           41.0          E        SSE  ...       1008.5   \n",
       "191428         SSE           46.0        ENE        SSE  ...       1007.2   \n",
       "191429          NE           41.0        ENE          N  ...       1003.9   \n",
       "191430         NNW           44.0        ENE        WSW  ...       1003.2   \n",
       "\n",
       "        Cloud9am  Cloud3pm  Temp9am  Temp3pm  RainToday  RainTomorrow  Year  \\\n",
       "0            8.0       NaN     16.9     21.8         No            No  2008   \n",
       "1            NaN       NaN     17.2     24.3         No            No  2008   \n",
       "2            NaN       2.0     21.0     23.2         No            No  2008   \n",
       "3            NaN       NaN     18.1     26.5         No            No  2008   \n",
       "4            7.0       8.0     17.8     29.7         No            No  2008   \n",
       "...          ...       ...      ...      ...        ...           ...   ...   \n",
       "191426       NaN       NaN     25.6     32.3         No            No  2021   \n",
       "191427       NaN       NaN     24.9     31.7         No            No  2021   \n",
       "191428       NaN       NaN     25.0     31.8         No            No  2021   \n",
       "191429       NaN       NaN     25.6     33.8         No            No  2021   \n",
       "191430       NaN       NaN     27.2     37.0         No            No  2021   \n",
       "\n",
       "        Month  Day  \n",
       "0          12    1  \n",
       "1          12    2  \n",
       "2          12    3  \n",
       "3          12    4  \n",
       "4          12    5  \n",
       "...       ...  ...  \n",
       "191426      2   23  \n",
       "191427      2   24  \n",
       "191428      2   25  \n",
       "191429      2   26  \n",
       "191430      2   27  \n",
       "\n",
       "[184573 rows x 25 columns]"
      ]
     },
     "execution_count": 403,
     "metadata": {},
     "output_type": "execute_result"
    }
   ],
   "source": [
    "df"
   ]
  },
  {
   "cell_type": "code",
   "execution_count": 404,
   "metadata": {
    "id": "Cj_zbvDgxZZ4"
   },
   "outputs": [],
   "source": [
    "df = df.drop(['Temp9am', 'Temp3pm','Pressure9am',], axis=1)"
   ]
  },
  {
   "cell_type": "markdown",
   "metadata": {
    "id": "iXzYwxQidETQ"
   },
   "source": [
    "## 8. Declare feature vector and target variable <a class=\"anchor\" id=\"8\"></a>"
   ]
  },
  {
   "cell_type": "code",
   "execution_count": 405,
   "metadata": {
    "colab": {
     "base_uri": "https://localhost:8080/"
    },
    "id": "fcq8kPORiojQ",
    "outputId": "d24bc72b-2845-4d69-e56c-b825ce71ee9e"
   },
   "outputs": [
    {
     "data": {
      "text/plain": [
       "['Location',\n",
       " 'WindGustDir',\n",
       " 'WindDir9am',\n",
       " 'WindDir3pm',\n",
       " 'RainToday',\n",
       " 'RainTomorrow']"
      ]
     },
     "execution_count": 405,
     "metadata": {},
     "output_type": "execute_result"
    }
   ],
   "source": [
    "categorical"
   ]
  },
  {
   "cell_type": "code",
   "execution_count": 406,
   "metadata": {
    "colab": {
     "base_uri": "https://localhost:8080/"
    },
    "id": "nM_Coo1RkKZg",
    "outputId": "b389eae7-858d-4611-ab99-787d64712119"
   },
   "outputs": [
    {
     "data": {
      "text/plain": [
       "Location          object\n",
       "MinTemp          float64\n",
       "MaxTemp          float64\n",
       "Rainfall         float64\n",
       "Evaporation      float64\n",
       "Sunshine         float64\n",
       "WindGustDir       object\n",
       "WindGustSpeed    float64\n",
       "WindDir9am        object\n",
       "WindDir3pm        object\n",
       "WindSpeed9am     float64\n",
       "WindSpeed3pm     float64\n",
       "Humidity9am      float64\n",
       "Humidity3pm      float64\n",
       "Pressure3pm      float64\n",
       "Cloud9am         float64\n",
       "Cloud3pm         float64\n",
       "RainToday         object\n",
       "RainTomorrow      object\n",
       "Year               int64\n",
       "Month              int64\n",
       "Day                int64\n",
       "dtype: object"
      ]
     },
     "execution_count": 406,
     "metadata": {},
     "output_type": "execute_result"
    }
   ],
   "source": [
    "df.dtypes"
   ]
  },
  {
   "cell_type": "code",
   "execution_count": 407,
   "metadata": {
    "id": "5jd-57qMkmTX"
   },
   "outputs": [],
   "source": [
    "df[['Location',\n",
    " 'WindGustDir',\n",
    " 'WindDir9am',\n",
    " 'WindDir3pm',\n",
    " 'RainToday',\n",
    " 'RainTomorrow']] = df[['Location',\n",
    " 'WindGustDir',\n",
    " 'WindDir9am',\n",
    " 'WindDir3pm',\n",
    " 'RainToday',\n",
    " 'RainTomorrow']].astype(str)"
   ]
  },
  {
   "cell_type": "code",
   "execution_count": 408,
   "metadata": {
    "id": "gZd3EZJLh30B"
   },
   "outputs": [],
   "source": [
    "#encoding\n",
    "#from sklearn import preprocessing\n",
    "\n",
    "label_encoder = LabelEncoder()\n",
    "for i in categorical:\n",
    "  df[i] = label_encoder.fit_transform(df[i])"
   ]
  },
  {
   "cell_type": "code",
   "execution_count": 409,
   "metadata": {
    "colab": {
     "base_uri": "https://localhost:8080/",
     "height": 439
    },
    "id": "BFm3KW6Flh5D",
    "outputId": "8b20a6a4-cd74-461f-897f-7e12b827bf41"
   },
   "outputs": [
    {
     "data": {
      "text/html": [
       "<div>\n",
       "<style scoped>\n",
       "    .dataframe tbody tr th:only-of-type {\n",
       "        vertical-align: middle;\n",
       "    }\n",
       "\n",
       "    .dataframe tbody tr th {\n",
       "        vertical-align: top;\n",
       "    }\n",
       "\n",
       "    .dataframe thead th {\n",
       "        text-align: right;\n",
       "    }\n",
       "</style>\n",
       "<table border=\"1\" class=\"dataframe\">\n",
       "  <thead>\n",
       "    <tr style=\"text-align: right;\">\n",
       "      <th></th>\n",
       "      <th>Location</th>\n",
       "      <th>MinTemp</th>\n",
       "      <th>MaxTemp</th>\n",
       "      <th>Rainfall</th>\n",
       "      <th>Evaporation</th>\n",
       "      <th>Sunshine</th>\n",
       "      <th>WindGustDir</th>\n",
       "      <th>WindGustSpeed</th>\n",
       "      <th>WindDir9am</th>\n",
       "      <th>WindDir3pm</th>\n",
       "      <th>...</th>\n",
       "      <th>Humidity9am</th>\n",
       "      <th>Humidity3pm</th>\n",
       "      <th>Pressure3pm</th>\n",
       "      <th>Cloud9am</th>\n",
       "      <th>Cloud3pm</th>\n",
       "      <th>RainToday</th>\n",
       "      <th>RainTomorrow</th>\n",
       "      <th>Year</th>\n",
       "      <th>Month</th>\n",
       "      <th>Day</th>\n",
       "    </tr>\n",
       "  </thead>\n",
       "  <tbody>\n",
       "    <tr>\n",
       "      <th>0</th>\n",
       "      <td>2</td>\n",
       "      <td>13.4</td>\n",
       "      <td>22.9</td>\n",
       "      <td>0.6</td>\n",
       "      <td>NaN</td>\n",
       "      <td>NaN</td>\n",
       "      <td>13</td>\n",
       "      <td>44.0</td>\n",
       "      <td>13</td>\n",
       "      <td>14</td>\n",
       "      <td>...</td>\n",
       "      <td>71.0</td>\n",
       "      <td>22.0</td>\n",
       "      <td>1007.1</td>\n",
       "      <td>8.0</td>\n",
       "      <td>NaN</td>\n",
       "      <td>0</td>\n",
       "      <td>0</td>\n",
       "      <td>2008</td>\n",
       "      <td>12</td>\n",
       "      <td>1</td>\n",
       "    </tr>\n",
       "    <tr>\n",
       "      <th>1</th>\n",
       "      <td>2</td>\n",
       "      <td>7.4</td>\n",
       "      <td>25.1</td>\n",
       "      <td>0.0</td>\n",
       "      <td>NaN</td>\n",
       "      <td>NaN</td>\n",
       "      <td>14</td>\n",
       "      <td>44.0</td>\n",
       "      <td>6</td>\n",
       "      <td>15</td>\n",
       "      <td>...</td>\n",
       "      <td>44.0</td>\n",
       "      <td>25.0</td>\n",
       "      <td>1007.8</td>\n",
       "      <td>NaN</td>\n",
       "      <td>NaN</td>\n",
       "      <td>0</td>\n",
       "      <td>0</td>\n",
       "      <td>2008</td>\n",
       "      <td>12</td>\n",
       "      <td>2</td>\n",
       "    </tr>\n",
       "    <tr>\n",
       "      <th>2</th>\n",
       "      <td>2</td>\n",
       "      <td>12.9</td>\n",
       "      <td>25.7</td>\n",
       "      <td>0.0</td>\n",
       "      <td>NaN</td>\n",
       "      <td>NaN</td>\n",
       "      <td>15</td>\n",
       "      <td>46.0</td>\n",
       "      <td>13</td>\n",
       "      <td>15</td>\n",
       "      <td>...</td>\n",
       "      <td>38.0</td>\n",
       "      <td>30.0</td>\n",
       "      <td>1008.7</td>\n",
       "      <td>NaN</td>\n",
       "      <td>2.0</td>\n",
       "      <td>0</td>\n",
       "      <td>0</td>\n",
       "      <td>2008</td>\n",
       "      <td>12</td>\n",
       "      <td>3</td>\n",
       "    </tr>\n",
       "    <tr>\n",
       "      <th>3</th>\n",
       "      <td>2</td>\n",
       "      <td>9.2</td>\n",
       "      <td>28.0</td>\n",
       "      <td>0.0</td>\n",
       "      <td>NaN</td>\n",
       "      <td>NaN</td>\n",
       "      <td>4</td>\n",
       "      <td>24.0</td>\n",
       "      <td>9</td>\n",
       "      <td>0</td>\n",
       "      <td>...</td>\n",
       "      <td>45.0</td>\n",
       "      <td>16.0</td>\n",
       "      <td>1012.8</td>\n",
       "      <td>NaN</td>\n",
       "      <td>NaN</td>\n",
       "      <td>0</td>\n",
       "      <td>0</td>\n",
       "      <td>2008</td>\n",
       "      <td>12</td>\n",
       "      <td>4</td>\n",
       "    </tr>\n",
       "    <tr>\n",
       "      <th>4</th>\n",
       "      <td>2</td>\n",
       "      <td>17.5</td>\n",
       "      <td>32.3</td>\n",
       "      <td>1.0</td>\n",
       "      <td>NaN</td>\n",
       "      <td>NaN</td>\n",
       "      <td>13</td>\n",
       "      <td>41.0</td>\n",
       "      <td>1</td>\n",
       "      <td>7</td>\n",
       "      <td>...</td>\n",
       "      <td>82.0</td>\n",
       "      <td>33.0</td>\n",
       "      <td>1006.0</td>\n",
       "      <td>7.0</td>\n",
       "      <td>8.0</td>\n",
       "      <td>0</td>\n",
       "      <td>0</td>\n",
       "      <td>2008</td>\n",
       "      <td>12</td>\n",
       "      <td>5</td>\n",
       "    </tr>\n",
       "    <tr>\n",
       "      <th>...</th>\n",
       "      <td>...</td>\n",
       "      <td>...</td>\n",
       "      <td>...</td>\n",
       "      <td>...</td>\n",
       "      <td>...</td>\n",
       "      <td>...</td>\n",
       "      <td>...</td>\n",
       "      <td>...</td>\n",
       "      <td>...</td>\n",
       "      <td>...</td>\n",
       "      <td>...</td>\n",
       "      <td>...</td>\n",
       "      <td>...</td>\n",
       "      <td>...</td>\n",
       "      <td>...</td>\n",
       "      <td>...</td>\n",
       "      <td>...</td>\n",
       "      <td>...</td>\n",
       "      <td>...</td>\n",
       "      <td>...</td>\n",
       "      <td>...</td>\n",
       "    </tr>\n",
       "    <tr>\n",
       "      <th>191426</th>\n",
       "      <td>41</td>\n",
       "      <td>23.0</td>\n",
       "      <td>33.9</td>\n",
       "      <td>0.0</td>\n",
       "      <td>NaN</td>\n",
       "      <td>NaN</td>\n",
       "      <td>2</td>\n",
       "      <td>43.0</td>\n",
       "      <td>2</td>\n",
       "      <td>9</td>\n",
       "      <td>...</td>\n",
       "      <td>31.0</td>\n",
       "      <td>20.0</td>\n",
       "      <td>1010.6</td>\n",
       "      <td>NaN</td>\n",
       "      <td>NaN</td>\n",
       "      <td>0</td>\n",
       "      <td>0</td>\n",
       "      <td>2021</td>\n",
       "      <td>2</td>\n",
       "      <td>23</td>\n",
       "    </tr>\n",
       "    <tr>\n",
       "      <th>191427</th>\n",
       "      <td>41</td>\n",
       "      <td>19.7</td>\n",
       "      <td>33.0</td>\n",
       "      <td>0.0</td>\n",
       "      <td>NaN</td>\n",
       "      <td>NaN</td>\n",
       "      <td>2</td>\n",
       "      <td>41.0</td>\n",
       "      <td>0</td>\n",
       "      <td>10</td>\n",
       "      <td>...</td>\n",
       "      <td>23.0</td>\n",
       "      <td>13.0</td>\n",
       "      <td>1008.5</td>\n",
       "      <td>NaN</td>\n",
       "      <td>NaN</td>\n",
       "      <td>0</td>\n",
       "      <td>0</td>\n",
       "      <td>2021</td>\n",
       "      <td>2</td>\n",
       "      <td>24</td>\n",
       "    </tr>\n",
       "    <tr>\n",
       "      <th>191428</th>\n",
       "      <td>41</td>\n",
       "      <td>16.9</td>\n",
       "      <td>33.4</td>\n",
       "      <td>0.0</td>\n",
       "      <td>NaN</td>\n",
       "      <td>NaN</td>\n",
       "      <td>10</td>\n",
       "      <td>46.0</td>\n",
       "      <td>1</td>\n",
       "      <td>10</td>\n",
       "      <td>...</td>\n",
       "      <td>17.0</td>\n",
       "      <td>11.0</td>\n",
       "      <td>1007.2</td>\n",
       "      <td>NaN</td>\n",
       "      <td>NaN</td>\n",
       "      <td>0</td>\n",
       "      <td>0</td>\n",
       "      <td>2021</td>\n",
       "      <td>2</td>\n",
       "      <td>25</td>\n",
       "    </tr>\n",
       "    <tr>\n",
       "      <th>191429</th>\n",
       "      <td>41</td>\n",
       "      <td>17.4</td>\n",
       "      <td>34.9</td>\n",
       "      <td>0.0</td>\n",
       "      <td>NaN</td>\n",
       "      <td>NaN</td>\n",
       "      <td>4</td>\n",
       "      <td>41.0</td>\n",
       "      <td>1</td>\n",
       "      <td>3</td>\n",
       "      <td>...</td>\n",
       "      <td>16.0</td>\n",
       "      <td>9.0</td>\n",
       "      <td>1003.9</td>\n",
       "      <td>NaN</td>\n",
       "      <td>NaN</td>\n",
       "      <td>0</td>\n",
       "      <td>0</td>\n",
       "      <td>2021</td>\n",
       "      <td>2</td>\n",
       "      <td>26</td>\n",
       "    </tr>\n",
       "    <tr>\n",
       "      <th>191430</th>\n",
       "      <td>41</td>\n",
       "      <td>18.8</td>\n",
       "      <td>37.3</td>\n",
       "      <td>0.0</td>\n",
       "      <td>NaN</td>\n",
       "      <td>NaN</td>\n",
       "      <td>6</td>\n",
       "      <td>44.0</td>\n",
       "      <td>1</td>\n",
       "      <td>15</td>\n",
       "      <td>...</td>\n",
       "      <td>15.0</td>\n",
       "      <td>9.0</td>\n",
       "      <td>1003.2</td>\n",
       "      <td>NaN</td>\n",
       "      <td>NaN</td>\n",
       "      <td>0</td>\n",
       "      <td>0</td>\n",
       "      <td>2021</td>\n",
       "      <td>2</td>\n",
       "      <td>27</td>\n",
       "    </tr>\n",
       "  </tbody>\n",
       "</table>\n",
       "<p>184573 rows × 22 columns</p>\n",
       "</div>"
      ],
      "text/plain": [
       "        Location  MinTemp  MaxTemp  Rainfall  Evaporation  Sunshine  \\\n",
       "0              2     13.4     22.9       0.6          NaN       NaN   \n",
       "1              2      7.4     25.1       0.0          NaN       NaN   \n",
       "2              2     12.9     25.7       0.0          NaN       NaN   \n",
       "3              2      9.2     28.0       0.0          NaN       NaN   \n",
       "4              2     17.5     32.3       1.0          NaN       NaN   \n",
       "...          ...      ...      ...       ...          ...       ...   \n",
       "191426        41     23.0     33.9       0.0          NaN       NaN   \n",
       "191427        41     19.7     33.0       0.0          NaN       NaN   \n",
       "191428        41     16.9     33.4       0.0          NaN       NaN   \n",
       "191429        41     17.4     34.9       0.0          NaN       NaN   \n",
       "191430        41     18.8     37.3       0.0          NaN       NaN   \n",
       "\n",
       "        WindGustDir  WindGustSpeed  WindDir9am  WindDir3pm  ...  Humidity9am  \\\n",
       "0                13           44.0          13          14  ...         71.0   \n",
       "1                14           44.0           6          15  ...         44.0   \n",
       "2                15           46.0          13          15  ...         38.0   \n",
       "3                 4           24.0           9           0  ...         45.0   \n",
       "4                13           41.0           1           7  ...         82.0   \n",
       "...             ...            ...         ...         ...  ...          ...   \n",
       "191426            2           43.0           2           9  ...         31.0   \n",
       "191427            2           41.0           0          10  ...         23.0   \n",
       "191428           10           46.0           1          10  ...         17.0   \n",
       "191429            4           41.0           1           3  ...         16.0   \n",
       "191430            6           44.0           1          15  ...         15.0   \n",
       "\n",
       "        Humidity3pm  Pressure3pm  Cloud9am  Cloud3pm  RainToday  RainTomorrow  \\\n",
       "0              22.0       1007.1       8.0       NaN          0             0   \n",
       "1              25.0       1007.8       NaN       NaN          0             0   \n",
       "2              30.0       1008.7       NaN       2.0          0             0   \n",
       "3              16.0       1012.8       NaN       NaN          0             0   \n",
       "4              33.0       1006.0       7.0       8.0          0             0   \n",
       "...             ...          ...       ...       ...        ...           ...   \n",
       "191426         20.0       1010.6       NaN       NaN          0             0   \n",
       "191427         13.0       1008.5       NaN       NaN          0             0   \n",
       "191428         11.0       1007.2       NaN       NaN          0             0   \n",
       "191429          9.0       1003.9       NaN       NaN          0             0   \n",
       "191430          9.0       1003.2       NaN       NaN          0             0   \n",
       "\n",
       "        Year  Month  Day  \n",
       "0       2008     12    1  \n",
       "1       2008     12    2  \n",
       "2       2008     12    3  \n",
       "3       2008     12    4  \n",
       "4       2008     12    5  \n",
       "...      ...    ...  ...  \n",
       "191426  2021      2   23  \n",
       "191427  2021      2   24  \n",
       "191428  2021      2   25  \n",
       "191429  2021      2   26  \n",
       "191430  2021      2   27  \n",
       "\n",
       "[184573 rows x 22 columns]"
      ]
     },
     "execution_count": 409,
     "metadata": {},
     "output_type": "execute_result"
    }
   ],
   "source": [
    "df"
   ]
  },
  {
   "cell_type": "code",
   "execution_count": 410,
   "metadata": {
    "id": "onXZFJOWdETQ"
   },
   "outputs": [],
   "source": [
    "X = df.drop(['RainTomorrow'], axis=1)\n",
    "\n",
    "y = df['RainTomorrow']"
   ]
  },
  {
   "cell_type": "markdown",
   "metadata": {
    "id": "Q2VClCkGdETQ"
   },
   "source": [
    "## 9. Split data into separate training and test set <a class=\"anchor\" id=\"9\"></a>"
   ]
  },
  {
   "cell_type": "code",
   "execution_count": 411,
   "metadata": {
    "id": "dtlFEjAUdETQ"
   },
   "outputs": [],
   "source": [
    "# split X and y into training and testing sets\n",
    "\n",
    "from sklearn.model_selection import train_test_split\n",
    "\n",
    "X_train, X_test, y_train, y_test = train_test_split(X, y, test_size = 0.2, random_state = 0, shuffle = False, stratify = None)\n"
   ]
  },
  {
   "cell_type": "code",
   "execution_count": 412,
   "metadata": {
    "colab": {
     "base_uri": "https://localhost:8080/",
     "height": 439
    },
    "id": "7AtEzWvekW1D",
    "outputId": "b5d3289c-f3a4-4498-8a14-783d46e4410b"
   },
   "outputs": [
    {
     "data": {
      "text/html": [
       "<div>\n",
       "<style scoped>\n",
       "    .dataframe tbody tr th:only-of-type {\n",
       "        vertical-align: middle;\n",
       "    }\n",
       "\n",
       "    .dataframe tbody tr th {\n",
       "        vertical-align: top;\n",
       "    }\n",
       "\n",
       "    .dataframe thead th {\n",
       "        text-align: right;\n",
       "    }\n",
       "</style>\n",
       "<table border=\"1\" class=\"dataframe\">\n",
       "  <thead>\n",
       "    <tr style=\"text-align: right;\">\n",
       "      <th></th>\n",
       "      <th>Location</th>\n",
       "      <th>MinTemp</th>\n",
       "      <th>MaxTemp</th>\n",
       "      <th>Rainfall</th>\n",
       "      <th>Evaporation</th>\n",
       "      <th>Sunshine</th>\n",
       "      <th>WindGustDir</th>\n",
       "      <th>WindGustSpeed</th>\n",
       "      <th>WindDir9am</th>\n",
       "      <th>WindDir3pm</th>\n",
       "      <th>...</th>\n",
       "      <th>WindSpeed3pm</th>\n",
       "      <th>Humidity9am</th>\n",
       "      <th>Humidity3pm</th>\n",
       "      <th>Pressure3pm</th>\n",
       "      <th>Cloud9am</th>\n",
       "      <th>Cloud3pm</th>\n",
       "      <th>RainToday</th>\n",
       "      <th>Year</th>\n",
       "      <th>Month</th>\n",
       "      <th>Day</th>\n",
       "    </tr>\n",
       "  </thead>\n",
       "  <tbody>\n",
       "    <tr>\n",
       "      <th>0</th>\n",
       "      <td>2</td>\n",
       "      <td>13.4</td>\n",
       "      <td>22.9</td>\n",
       "      <td>0.6</td>\n",
       "      <td>NaN</td>\n",
       "      <td>NaN</td>\n",
       "      <td>13</td>\n",
       "      <td>44.0</td>\n",
       "      <td>13</td>\n",
       "      <td>14</td>\n",
       "      <td>...</td>\n",
       "      <td>24.0</td>\n",
       "      <td>71.0</td>\n",
       "      <td>22.0</td>\n",
       "      <td>1007.1</td>\n",
       "      <td>8.0</td>\n",
       "      <td>NaN</td>\n",
       "      <td>0</td>\n",
       "      <td>2008</td>\n",
       "      <td>12</td>\n",
       "      <td>1</td>\n",
       "    </tr>\n",
       "    <tr>\n",
       "      <th>1</th>\n",
       "      <td>2</td>\n",
       "      <td>7.4</td>\n",
       "      <td>25.1</td>\n",
       "      <td>0.0</td>\n",
       "      <td>NaN</td>\n",
       "      <td>NaN</td>\n",
       "      <td>14</td>\n",
       "      <td>44.0</td>\n",
       "      <td>6</td>\n",
       "      <td>15</td>\n",
       "      <td>...</td>\n",
       "      <td>22.0</td>\n",
       "      <td>44.0</td>\n",
       "      <td>25.0</td>\n",
       "      <td>1007.8</td>\n",
       "      <td>NaN</td>\n",
       "      <td>NaN</td>\n",
       "      <td>0</td>\n",
       "      <td>2008</td>\n",
       "      <td>12</td>\n",
       "      <td>2</td>\n",
       "    </tr>\n",
       "    <tr>\n",
       "      <th>2</th>\n",
       "      <td>2</td>\n",
       "      <td>12.9</td>\n",
       "      <td>25.7</td>\n",
       "      <td>0.0</td>\n",
       "      <td>NaN</td>\n",
       "      <td>NaN</td>\n",
       "      <td>15</td>\n",
       "      <td>46.0</td>\n",
       "      <td>13</td>\n",
       "      <td>15</td>\n",
       "      <td>...</td>\n",
       "      <td>26.0</td>\n",
       "      <td>38.0</td>\n",
       "      <td>30.0</td>\n",
       "      <td>1008.7</td>\n",
       "      <td>NaN</td>\n",
       "      <td>2.0</td>\n",
       "      <td>0</td>\n",
       "      <td>2008</td>\n",
       "      <td>12</td>\n",
       "      <td>3</td>\n",
       "    </tr>\n",
       "    <tr>\n",
       "      <th>3</th>\n",
       "      <td>2</td>\n",
       "      <td>9.2</td>\n",
       "      <td>28.0</td>\n",
       "      <td>0.0</td>\n",
       "      <td>NaN</td>\n",
       "      <td>NaN</td>\n",
       "      <td>4</td>\n",
       "      <td>24.0</td>\n",
       "      <td>9</td>\n",
       "      <td>0</td>\n",
       "      <td>...</td>\n",
       "      <td>9.0</td>\n",
       "      <td>45.0</td>\n",
       "      <td>16.0</td>\n",
       "      <td>1012.8</td>\n",
       "      <td>NaN</td>\n",
       "      <td>NaN</td>\n",
       "      <td>0</td>\n",
       "      <td>2008</td>\n",
       "      <td>12</td>\n",
       "      <td>4</td>\n",
       "    </tr>\n",
       "    <tr>\n",
       "      <th>4</th>\n",
       "      <td>2</td>\n",
       "      <td>17.5</td>\n",
       "      <td>32.3</td>\n",
       "      <td>1.0</td>\n",
       "      <td>NaN</td>\n",
       "      <td>NaN</td>\n",
       "      <td>13</td>\n",
       "      <td>41.0</td>\n",
       "      <td>1</td>\n",
       "      <td>7</td>\n",
       "      <td>...</td>\n",
       "      <td>20.0</td>\n",
       "      <td>82.0</td>\n",
       "      <td>33.0</td>\n",
       "      <td>1006.0</td>\n",
       "      <td>7.0</td>\n",
       "      <td>8.0</td>\n",
       "      <td>0</td>\n",
       "      <td>2008</td>\n",
       "      <td>12</td>\n",
       "      <td>5</td>\n",
       "    </tr>\n",
       "    <tr>\n",
       "      <th>...</th>\n",
       "      <td>...</td>\n",
       "      <td>...</td>\n",
       "      <td>...</td>\n",
       "      <td>...</td>\n",
       "      <td>...</td>\n",
       "      <td>...</td>\n",
       "      <td>...</td>\n",
       "      <td>...</td>\n",
       "      <td>...</td>\n",
       "      <td>...</td>\n",
       "      <td>...</td>\n",
       "      <td>...</td>\n",
       "      <td>...</td>\n",
       "      <td>...</td>\n",
       "      <td>...</td>\n",
       "      <td>...</td>\n",
       "      <td>...</td>\n",
       "      <td>...</td>\n",
       "      <td>...</td>\n",
       "      <td>...</td>\n",
       "      <td>...</td>\n",
       "    </tr>\n",
       "    <tr>\n",
       "      <th>152890</th>\n",
       "      <td>29</td>\n",
       "      <td>13.0</td>\n",
       "      <td>22.1</td>\n",
       "      <td>5.2</td>\n",
       "      <td>NaN</td>\n",
       "      <td>6.5</td>\n",
       "      <td>6</td>\n",
       "      <td>56.0</td>\n",
       "      <td>3</td>\n",
       "      <td>6</td>\n",
       "      <td>...</td>\n",
       "      <td>28.0</td>\n",
       "      <td>82.0</td>\n",
       "      <td>62.0</td>\n",
       "      <td>1012.0</td>\n",
       "      <td>NaN</td>\n",
       "      <td>8.0</td>\n",
       "      <td>1</td>\n",
       "      <td>2017</td>\n",
       "      <td>7</td>\n",
       "      <td>27</td>\n",
       "    </tr>\n",
       "    <tr>\n",
       "      <th>152891</th>\n",
       "      <td>29</td>\n",
       "      <td>14.5</td>\n",
       "      <td>18.5</td>\n",
       "      <td>13.6</td>\n",
       "      <td>NaN</td>\n",
       "      <td>NaN</td>\n",
       "      <td>14</td>\n",
       "      <td>65.0</td>\n",
       "      <td>14</td>\n",
       "      <td>13</td>\n",
       "      <td>...</td>\n",
       "      <td>35.0</td>\n",
       "      <td>78.0</td>\n",
       "      <td>77.0</td>\n",
       "      <td>1009.3</td>\n",
       "      <td>8.0</td>\n",
       "      <td>8.0</td>\n",
       "      <td>1</td>\n",
       "      <td>2017</td>\n",
       "      <td>7</td>\n",
       "      <td>28</td>\n",
       "    </tr>\n",
       "    <tr>\n",
       "      <th>152892</th>\n",
       "      <td>29</td>\n",
       "      <td>8.3</td>\n",
       "      <td>15.4</td>\n",
       "      <td>12.8</td>\n",
       "      <td>NaN</td>\n",
       "      <td>5.0</td>\n",
       "      <td>15</td>\n",
       "      <td>56.0</td>\n",
       "      <td>15</td>\n",
       "      <td>13</td>\n",
       "      <td>...</td>\n",
       "      <td>15.0</td>\n",
       "      <td>80.0</td>\n",
       "      <td>85.0</td>\n",
       "      <td>1018.1</td>\n",
       "      <td>8.0</td>\n",
       "      <td>8.0</td>\n",
       "      <td>1</td>\n",
       "      <td>2017</td>\n",
       "      <td>7</td>\n",
       "      <td>29</td>\n",
       "    </tr>\n",
       "    <tr>\n",
       "      <th>152893</th>\n",
       "      <td>29</td>\n",
       "      <td>6.3</td>\n",
       "      <td>17.7</td>\n",
       "      <td>14.4</td>\n",
       "      <td>NaN</td>\n",
       "      <td>6.5</td>\n",
       "      <td>12</td>\n",
       "      <td>30.0</td>\n",
       "      <td>2</td>\n",
       "      <td>7</td>\n",
       "      <td>...</td>\n",
       "      <td>11.0</td>\n",
       "      <td>71.0</td>\n",
       "      <td>46.0</td>\n",
       "      <td>1022.9</td>\n",
       "      <td>1.0</td>\n",
       "      <td>4.0</td>\n",
       "      <td>1</td>\n",
       "      <td>2017</td>\n",
       "      <td>7</td>\n",
       "      <td>30</td>\n",
       "    </tr>\n",
       "    <tr>\n",
       "      <th>152894</th>\n",
       "      <td>29</td>\n",
       "      <td>8.7</td>\n",
       "      <td>15.0</td>\n",
       "      <td>0.0</td>\n",
       "      <td>NaN</td>\n",
       "      <td>0.6</td>\n",
       "      <td>15</td>\n",
       "      <td>65.0</td>\n",
       "      <td>3</td>\n",
       "      <td>15</td>\n",
       "      <td>...</td>\n",
       "      <td>11.0</td>\n",
       "      <td>77.0</td>\n",
       "      <td>93.0</td>\n",
       "      <td>1013.9</td>\n",
       "      <td>8.0</td>\n",
       "      <td>8.0</td>\n",
       "      <td>0</td>\n",
       "      <td>2017</td>\n",
       "      <td>7</td>\n",
       "      <td>31</td>\n",
       "    </tr>\n",
       "  </tbody>\n",
       "</table>\n",
       "<p>147658 rows × 21 columns</p>\n",
       "</div>"
      ],
      "text/plain": [
       "        Location  MinTemp  MaxTemp  Rainfall  Evaporation  Sunshine  \\\n",
       "0              2     13.4     22.9       0.6          NaN       NaN   \n",
       "1              2      7.4     25.1       0.0          NaN       NaN   \n",
       "2              2     12.9     25.7       0.0          NaN       NaN   \n",
       "3              2      9.2     28.0       0.0          NaN       NaN   \n",
       "4              2     17.5     32.3       1.0          NaN       NaN   \n",
       "...          ...      ...      ...       ...          ...       ...   \n",
       "152890        29     13.0     22.1       5.2          NaN       6.5   \n",
       "152891        29     14.5     18.5      13.6          NaN       NaN   \n",
       "152892        29      8.3     15.4      12.8          NaN       5.0   \n",
       "152893        29      6.3     17.7      14.4          NaN       6.5   \n",
       "152894        29      8.7     15.0       0.0          NaN       0.6   \n",
       "\n",
       "        WindGustDir  WindGustSpeed  WindDir9am  WindDir3pm  ...  WindSpeed3pm  \\\n",
       "0                13           44.0          13          14  ...          24.0   \n",
       "1                14           44.0           6          15  ...          22.0   \n",
       "2                15           46.0          13          15  ...          26.0   \n",
       "3                 4           24.0           9           0  ...           9.0   \n",
       "4                13           41.0           1           7  ...          20.0   \n",
       "...             ...            ...         ...         ...  ...           ...   \n",
       "152890            6           56.0           3           6  ...          28.0   \n",
       "152891           14           65.0          14          13  ...          35.0   \n",
       "152892           15           56.0          15          13  ...          15.0   \n",
       "152893           12           30.0           2           7  ...          11.0   \n",
       "152894           15           65.0           3          15  ...          11.0   \n",
       "\n",
       "        Humidity9am  Humidity3pm  Pressure3pm  Cloud9am  Cloud3pm  RainToday  \\\n",
       "0              71.0         22.0       1007.1       8.0       NaN          0   \n",
       "1              44.0         25.0       1007.8       NaN       NaN          0   \n",
       "2              38.0         30.0       1008.7       NaN       2.0          0   \n",
       "3              45.0         16.0       1012.8       NaN       NaN          0   \n",
       "4              82.0         33.0       1006.0       7.0       8.0          0   \n",
       "...             ...          ...          ...       ...       ...        ...   \n",
       "152890         82.0         62.0       1012.0       NaN       8.0          1   \n",
       "152891         78.0         77.0       1009.3       8.0       8.0          1   \n",
       "152892         80.0         85.0       1018.1       8.0       8.0          1   \n",
       "152893         71.0         46.0       1022.9       1.0       4.0          1   \n",
       "152894         77.0         93.0       1013.9       8.0       8.0          0   \n",
       "\n",
       "        Year  Month  Day  \n",
       "0       2008     12    1  \n",
       "1       2008     12    2  \n",
       "2       2008     12    3  \n",
       "3       2008     12    4  \n",
       "4       2008     12    5  \n",
       "...      ...    ...  ...  \n",
       "152890  2017      7   27  \n",
       "152891  2017      7   28  \n",
       "152892  2017      7   29  \n",
       "152893  2017      7   30  \n",
       "152894  2017      7   31  \n",
       "\n",
       "[147658 rows x 21 columns]"
      ]
     },
     "execution_count": 412,
     "metadata": {},
     "output_type": "execute_result"
    }
   ],
   "source": [
    "X_train"
   ]
  },
  {
   "cell_type": "code",
   "execution_count": 413,
   "metadata": {
    "colab": {
     "base_uri": "https://localhost:8080/",
     "height": 439
    },
    "id": "jHZd-8N7mLIH",
    "outputId": "b8cec03a-fac2-42c3-a42e-57bb374888aa"
   },
   "outputs": [
    {
     "data": {
      "text/html": [
       "<div>\n",
       "<style scoped>\n",
       "    .dataframe tbody tr th:only-of-type {\n",
       "        vertical-align: middle;\n",
       "    }\n",
       "\n",
       "    .dataframe tbody tr th {\n",
       "        vertical-align: top;\n",
       "    }\n",
       "\n",
       "    .dataframe thead th {\n",
       "        text-align: right;\n",
       "    }\n",
       "</style>\n",
       "<table border=\"1\" class=\"dataframe\">\n",
       "  <thead>\n",
       "    <tr style=\"text-align: right;\">\n",
       "      <th></th>\n",
       "      <th>Location</th>\n",
       "      <th>MinTemp</th>\n",
       "      <th>MaxTemp</th>\n",
       "      <th>Rainfall</th>\n",
       "      <th>Evaporation</th>\n",
       "      <th>Sunshine</th>\n",
       "      <th>WindGustDir</th>\n",
       "      <th>WindGustSpeed</th>\n",
       "      <th>WindDir9am</th>\n",
       "      <th>WindDir3pm</th>\n",
       "      <th>...</th>\n",
       "      <th>WindSpeed3pm</th>\n",
       "      <th>Humidity9am</th>\n",
       "      <th>Humidity3pm</th>\n",
       "      <th>Pressure3pm</th>\n",
       "      <th>Cloud9am</th>\n",
       "      <th>Cloud3pm</th>\n",
       "      <th>RainToday</th>\n",
       "      <th>Year</th>\n",
       "      <th>Month</th>\n",
       "      <th>Day</th>\n",
       "    </tr>\n",
       "  </thead>\n",
       "  <tbody>\n",
       "    <tr>\n",
       "      <th>152895</th>\n",
       "      <td>29</td>\n",
       "      <td>2.7</td>\n",
       "      <td>14.8</td>\n",
       "      <td>26.4</td>\n",
       "      <td>NaN</td>\n",
       "      <td>9.0</td>\n",
       "      <td>8</td>\n",
       "      <td>30.0</td>\n",
       "      <td>8</td>\n",
       "      <td>11</td>\n",
       "      <td>...</td>\n",
       "      <td>19.0</td>\n",
       "      <td>97.0</td>\n",
       "      <td>57.0</td>\n",
       "      <td>1029.5</td>\n",
       "      <td>NaN</td>\n",
       "      <td>5.0</td>\n",
       "      <td>1</td>\n",
       "      <td>2017</td>\n",
       "      <td>8</td>\n",
       "      <td>1</td>\n",
       "    </tr>\n",
       "    <tr>\n",
       "      <th>152896</th>\n",
       "      <td>29</td>\n",
       "      <td>2.0</td>\n",
       "      <td>15.7</td>\n",
       "      <td>0.0</td>\n",
       "      <td>NaN</td>\n",
       "      <td>9.7</td>\n",
       "      <td>9</td>\n",
       "      <td>24.0</td>\n",
       "      <td>9</td>\n",
       "      <td>11</td>\n",
       "      <td>...</td>\n",
       "      <td>9.0</td>\n",
       "      <td>88.0</td>\n",
       "      <td>59.0</td>\n",
       "      <td>1030.7</td>\n",
       "      <td>NaN</td>\n",
       "      <td>4.0</td>\n",
       "      <td>0</td>\n",
       "      <td>2017</td>\n",
       "      <td>8</td>\n",
       "      <td>2</td>\n",
       "    </tr>\n",
       "    <tr>\n",
       "      <th>152897</th>\n",
       "      <td>29</td>\n",
       "      <td>3.6</td>\n",
       "      <td>18.3</td>\n",
       "      <td>0.0</td>\n",
       "      <td>NaN</td>\n",
       "      <td>2.1</td>\n",
       "      <td>14</td>\n",
       "      <td>48.0</td>\n",
       "      <td>3</td>\n",
       "      <td>14</td>\n",
       "      <td>...</td>\n",
       "      <td>33.0</td>\n",
       "      <td>82.0</td>\n",
       "      <td>70.0</td>\n",
       "      <td>1020.1</td>\n",
       "      <td>8.0</td>\n",
       "      <td>8.0</td>\n",
       "      <td>0</td>\n",
       "      <td>2017</td>\n",
       "      <td>8</td>\n",
       "      <td>3</td>\n",
       "    </tr>\n",
       "    <tr>\n",
       "      <th>152898</th>\n",
       "      <td>29</td>\n",
       "      <td>7.8</td>\n",
       "      <td>15.0</td>\n",
       "      <td>1.8</td>\n",
       "      <td>NaN</td>\n",
       "      <td>1.0</td>\n",
       "      <td>15</td>\n",
       "      <td>30.0</td>\n",
       "      <td>4</td>\n",
       "      <td>6</td>\n",
       "      <td>...</td>\n",
       "      <td>13.0</td>\n",
       "      <td>83.0</td>\n",
       "      <td>70.0</td>\n",
       "      <td>1021.8</td>\n",
       "      <td>8.0</td>\n",
       "      <td>8.0</td>\n",
       "      <td>1</td>\n",
       "      <td>2017</td>\n",
       "      <td>8</td>\n",
       "      <td>4</td>\n",
       "    </tr>\n",
       "    <tr>\n",
       "      <th>152899</th>\n",
       "      <td>29</td>\n",
       "      <td>9.9</td>\n",
       "      <td>19.3</td>\n",
       "      <td>0.0</td>\n",
       "      <td>NaN</td>\n",
       "      <td>6.1</td>\n",
       "      <td>11</td>\n",
       "      <td>28.0</td>\n",
       "      <td>16</td>\n",
       "      <td>13</td>\n",
       "      <td>...</td>\n",
       "      <td>15.0</td>\n",
       "      <td>88.0</td>\n",
       "      <td>53.0</td>\n",
       "      <td>1020.3</td>\n",
       "      <td>4.0</td>\n",
       "      <td>1.0</td>\n",
       "      <td>0</td>\n",
       "      <td>2017</td>\n",
       "      <td>8</td>\n",
       "      <td>5</td>\n",
       "    </tr>\n",
       "    <tr>\n",
       "      <th>...</th>\n",
       "      <td>...</td>\n",
       "      <td>...</td>\n",
       "      <td>...</td>\n",
       "      <td>...</td>\n",
       "      <td>...</td>\n",
       "      <td>...</td>\n",
       "      <td>...</td>\n",
       "      <td>...</td>\n",
       "      <td>...</td>\n",
       "      <td>...</td>\n",
       "      <td>...</td>\n",
       "      <td>...</td>\n",
       "      <td>...</td>\n",
       "      <td>...</td>\n",
       "      <td>...</td>\n",
       "      <td>...</td>\n",
       "      <td>...</td>\n",
       "      <td>...</td>\n",
       "      <td>...</td>\n",
       "      <td>...</td>\n",
       "      <td>...</td>\n",
       "    </tr>\n",
       "    <tr>\n",
       "      <th>191426</th>\n",
       "      <td>41</td>\n",
       "      <td>23.0</td>\n",
       "      <td>33.9</td>\n",
       "      <td>0.0</td>\n",
       "      <td>NaN</td>\n",
       "      <td>NaN</td>\n",
       "      <td>2</td>\n",
       "      <td>43.0</td>\n",
       "      <td>2</td>\n",
       "      <td>9</td>\n",
       "      <td>...</td>\n",
       "      <td>13.0</td>\n",
       "      <td>31.0</td>\n",
       "      <td>20.0</td>\n",
       "      <td>1010.6</td>\n",
       "      <td>NaN</td>\n",
       "      <td>NaN</td>\n",
       "      <td>0</td>\n",
       "      <td>2021</td>\n",
       "      <td>2</td>\n",
       "      <td>23</td>\n",
       "    </tr>\n",
       "    <tr>\n",
       "      <th>191427</th>\n",
       "      <td>41</td>\n",
       "      <td>19.7</td>\n",
       "      <td>33.0</td>\n",
       "      <td>0.0</td>\n",
       "      <td>NaN</td>\n",
       "      <td>NaN</td>\n",
       "      <td>2</td>\n",
       "      <td>41.0</td>\n",
       "      <td>0</td>\n",
       "      <td>10</td>\n",
       "      <td>...</td>\n",
       "      <td>17.0</td>\n",
       "      <td>23.0</td>\n",
       "      <td>13.0</td>\n",
       "      <td>1008.5</td>\n",
       "      <td>NaN</td>\n",
       "      <td>NaN</td>\n",
       "      <td>0</td>\n",
       "      <td>2021</td>\n",
       "      <td>2</td>\n",
       "      <td>24</td>\n",
       "    </tr>\n",
       "    <tr>\n",
       "      <th>191428</th>\n",
       "      <td>41</td>\n",
       "      <td>16.9</td>\n",
       "      <td>33.4</td>\n",
       "      <td>0.0</td>\n",
       "      <td>NaN</td>\n",
       "      <td>NaN</td>\n",
       "      <td>10</td>\n",
       "      <td>46.0</td>\n",
       "      <td>1</td>\n",
       "      <td>10</td>\n",
       "      <td>...</td>\n",
       "      <td>19.0</td>\n",
       "      <td>17.0</td>\n",
       "      <td>11.0</td>\n",
       "      <td>1007.2</td>\n",
       "      <td>NaN</td>\n",
       "      <td>NaN</td>\n",
       "      <td>0</td>\n",
       "      <td>2021</td>\n",
       "      <td>2</td>\n",
       "      <td>25</td>\n",
       "    </tr>\n",
       "    <tr>\n",
       "      <th>191429</th>\n",
       "      <td>41</td>\n",
       "      <td>17.4</td>\n",
       "      <td>34.9</td>\n",
       "      <td>0.0</td>\n",
       "      <td>NaN</td>\n",
       "      <td>NaN</td>\n",
       "      <td>4</td>\n",
       "      <td>41.0</td>\n",
       "      <td>1</td>\n",
       "      <td>3</td>\n",
       "      <td>...</td>\n",
       "      <td>6.0</td>\n",
       "      <td>16.0</td>\n",
       "      <td>9.0</td>\n",
       "      <td>1003.9</td>\n",
       "      <td>NaN</td>\n",
       "      <td>NaN</td>\n",
       "      <td>0</td>\n",
       "      <td>2021</td>\n",
       "      <td>2</td>\n",
       "      <td>26</td>\n",
       "    </tr>\n",
       "    <tr>\n",
       "      <th>191430</th>\n",
       "      <td>41</td>\n",
       "      <td>18.8</td>\n",
       "      <td>37.3</td>\n",
       "      <td>0.0</td>\n",
       "      <td>NaN</td>\n",
       "      <td>NaN</td>\n",
       "      <td>6</td>\n",
       "      <td>44.0</td>\n",
       "      <td>1</td>\n",
       "      <td>15</td>\n",
       "      <td>...</td>\n",
       "      <td>22.0</td>\n",
       "      <td>15.0</td>\n",
       "      <td>9.0</td>\n",
       "      <td>1003.2</td>\n",
       "      <td>NaN</td>\n",
       "      <td>NaN</td>\n",
       "      <td>0</td>\n",
       "      <td>2021</td>\n",
       "      <td>2</td>\n",
       "      <td>27</td>\n",
       "    </tr>\n",
       "  </tbody>\n",
       "</table>\n",
       "<p>36915 rows × 21 columns</p>\n",
       "</div>"
      ],
      "text/plain": [
       "        Location  MinTemp  MaxTemp  Rainfall  Evaporation  Sunshine  \\\n",
       "152895        29      2.7     14.8      26.4          NaN       9.0   \n",
       "152896        29      2.0     15.7       0.0          NaN       9.7   \n",
       "152897        29      3.6     18.3       0.0          NaN       2.1   \n",
       "152898        29      7.8     15.0       1.8          NaN       1.0   \n",
       "152899        29      9.9     19.3       0.0          NaN       6.1   \n",
       "...          ...      ...      ...       ...          ...       ...   \n",
       "191426        41     23.0     33.9       0.0          NaN       NaN   \n",
       "191427        41     19.7     33.0       0.0          NaN       NaN   \n",
       "191428        41     16.9     33.4       0.0          NaN       NaN   \n",
       "191429        41     17.4     34.9       0.0          NaN       NaN   \n",
       "191430        41     18.8     37.3       0.0          NaN       NaN   \n",
       "\n",
       "        WindGustDir  WindGustSpeed  WindDir9am  WindDir3pm  ...  WindSpeed3pm  \\\n",
       "152895            8           30.0           8          11  ...          19.0   \n",
       "152896            9           24.0           9          11  ...           9.0   \n",
       "152897           14           48.0           3          14  ...          33.0   \n",
       "152898           15           30.0           4           6  ...          13.0   \n",
       "152899           11           28.0          16          13  ...          15.0   \n",
       "...             ...            ...         ...         ...  ...           ...   \n",
       "191426            2           43.0           2           9  ...          13.0   \n",
       "191427            2           41.0           0          10  ...          17.0   \n",
       "191428           10           46.0           1          10  ...          19.0   \n",
       "191429            4           41.0           1           3  ...           6.0   \n",
       "191430            6           44.0           1          15  ...          22.0   \n",
       "\n",
       "        Humidity9am  Humidity3pm  Pressure3pm  Cloud9am  Cloud3pm  RainToday  \\\n",
       "152895         97.0         57.0       1029.5       NaN       5.0          1   \n",
       "152896         88.0         59.0       1030.7       NaN       4.0          0   \n",
       "152897         82.0         70.0       1020.1       8.0       8.0          0   \n",
       "152898         83.0         70.0       1021.8       8.0       8.0          1   \n",
       "152899         88.0         53.0       1020.3       4.0       1.0          0   \n",
       "...             ...          ...          ...       ...       ...        ...   \n",
       "191426         31.0         20.0       1010.6       NaN       NaN          0   \n",
       "191427         23.0         13.0       1008.5       NaN       NaN          0   \n",
       "191428         17.0         11.0       1007.2       NaN       NaN          0   \n",
       "191429         16.0          9.0       1003.9       NaN       NaN          0   \n",
       "191430         15.0          9.0       1003.2       NaN       NaN          0   \n",
       "\n",
       "        Year  Month  Day  \n",
       "152895  2017      8    1  \n",
       "152896  2017      8    2  \n",
       "152897  2017      8    3  \n",
       "152898  2017      8    4  \n",
       "152899  2017      8    5  \n",
       "...      ...    ...  ...  \n",
       "191426  2021      2   23  \n",
       "191427  2021      2   24  \n",
       "191428  2021      2   25  \n",
       "191429  2021      2   26  \n",
       "191430  2021      2   27  \n",
       "\n",
       "[36915 rows x 21 columns]"
      ]
     },
     "execution_count": 413,
     "metadata": {},
     "output_type": "execute_result"
    }
   ],
   "source": [
    "X_test"
   ]
  },
  {
   "cell_type": "code",
   "execution_count": 414,
   "metadata": {
    "colab": {
     "base_uri": "https://localhost:8080/"
    },
    "id": "JR-sa-0TdETR",
    "outputId": "9f938e6a-a3de-4379-ecc8-9725ab11fb4d"
   },
   "outputs": [
    {
     "data": {
      "text/plain": [
       "((147658, 21), (36915, 21))"
      ]
     },
     "execution_count": 414,
     "metadata": {},
     "output_type": "execute_result"
    }
   ],
   "source": [
    "# check the shape of X_train and X_test\n",
    "\n",
    "X_train.shape, X_test.shape"
   ]
  },
  {
   "cell_type": "markdown",
   "metadata": {
    "id": "IetlFhzFdETR"
   },
   "source": [
    "## 10. Feature Engineering <a class=\"anchor\" id=\"10\"></a>\n",
    "\n"
   ]
  },
  {
   "cell_type": "code",
   "execution_count": 415,
   "metadata": {
    "colab": {
     "base_uri": "https://localhost:8080/"
    },
    "id": "q11xuMfVdETR",
    "outputId": "8523db0a-bbb4-4e41-9fb8-f75edfc77007"
   },
   "outputs": [
    {
     "data": {
      "text/plain": [
       "Location           int32\n",
       "MinTemp          float64\n",
       "MaxTemp          float64\n",
       "Rainfall         float64\n",
       "Evaporation      float64\n",
       "Sunshine         float64\n",
       "WindGustDir        int32\n",
       "WindGustSpeed    float64\n",
       "WindDir9am         int32\n",
       "WindDir3pm         int32\n",
       "WindSpeed9am     float64\n",
       "WindSpeed3pm     float64\n",
       "Humidity9am      float64\n",
       "Humidity3pm      float64\n",
       "Pressure3pm      float64\n",
       "Cloud9am         float64\n",
       "Cloud3pm         float64\n",
       "RainToday          int32\n",
       "Year               int64\n",
       "Month              int64\n",
       "Day                int64\n",
       "dtype: object"
      ]
     },
     "execution_count": 415,
     "metadata": {},
     "output_type": "execute_result"
    }
   ],
   "source": [
    "# check data types in X_train\n",
    "\n",
    "X_train.dtypes"
   ]
  },
  {
   "cell_type": "code",
   "execution_count": 416,
   "metadata": {
    "colab": {
     "base_uri": "https://localhost:8080/"
    },
    "id": "gyi4BUNKdETR",
    "outputId": "5d9acfc2-7897-4f19-9f0e-27674bd579f0"
   },
   "outputs": [
    {
     "data": {
      "text/plain": [
       "[]"
      ]
     },
     "execution_count": 416,
     "metadata": {},
     "output_type": "execute_result"
    }
   ],
   "source": [
    "# display categorical variables\n",
    "\n",
    "categorical = [col for col in X_train.columns if X_train[col].dtypes == 'O']\n",
    "\n",
    "categorical"
   ]
  },
  {
   "cell_type": "code",
   "execution_count": 417,
   "metadata": {
    "colab": {
     "base_uri": "https://localhost:8080/"
    },
    "id": "uysPBZjSdETS",
    "outputId": "5c3d83de-92a5-44e5-f4c4-fe2b6c59aa3f"
   },
   "outputs": [
    {
     "data": {
      "text/plain": [
       "['Location',\n",
       " 'MinTemp',\n",
       " 'MaxTemp',\n",
       " 'Rainfall',\n",
       " 'Evaporation',\n",
       " 'Sunshine',\n",
       " 'WindGustDir',\n",
       " 'WindGustSpeed',\n",
       " 'WindDir9am',\n",
       " 'WindDir3pm',\n",
       " 'WindSpeed9am',\n",
       " 'WindSpeed3pm',\n",
       " 'Humidity9am',\n",
       " 'Humidity3pm',\n",
       " 'Pressure3pm',\n",
       " 'Cloud9am',\n",
       " 'Cloud3pm',\n",
       " 'RainToday',\n",
       " 'Year',\n",
       " 'Month',\n",
       " 'Day']"
      ]
     },
     "execution_count": 417,
     "metadata": {},
     "output_type": "execute_result"
    }
   ],
   "source": [
    "# display numerical variables\n",
    "\n",
    "numerical = [col for col in X_train.columns if X_train[col].dtypes != 'O']\n",
    "\n",
    "numerical"
   ]
  },
  {
   "cell_type": "markdown",
   "metadata": {
    "id": "1eaOZu3udETS"
   },
   "source": [
    "### Handling missing values in numerical variables <a class=\"anchor\" id=\"10.1\"></a>\n",
    "\n"
   ]
  },
  {
   "cell_type": "code",
   "execution_count": 418,
   "metadata": {
    "colab": {
     "base_uri": "https://localhost:8080/"
    },
    "id": "U61KH6j9dETS",
    "outputId": "7861b767-e1d1-4229-a2bd-b799e1d9733f"
   },
   "outputs": [
    {
     "data": {
      "text/plain": [
       "Location             0\n",
       "MinTemp            597\n",
       "MaxTemp            471\n",
       "Rainfall             0\n",
       "Evaporation      75207\n",
       "Sunshine         82604\n",
       "WindGustDir          0\n",
       "WindGustSpeed    12210\n",
       "WindDir9am           0\n",
       "WindDir3pm           0\n",
       "WindSpeed9am      2369\n",
       "WindSpeed3pm      5544\n",
       "Humidity9am       1509\n",
       "Humidity3pm       4451\n",
       "Pressure3pm      13833\n",
       "Cloud9am         60429\n",
       "Cloud3pm         65730\n",
       "RainToday            0\n",
       "Year                 0\n",
       "Month                0\n",
       "Day                  0\n",
       "dtype: int64"
      ]
     },
     "execution_count": 418,
     "metadata": {},
     "output_type": "execute_result"
    }
   ],
   "source": [
    "# check missing values in numerical variables in X_train\n",
    "\n",
    "X_train[numerical].isnull().sum()"
   ]
  },
  {
   "cell_type": "code",
   "execution_count": 419,
   "metadata": {
    "colab": {
     "base_uri": "https://localhost:8080/"
    },
    "id": "R1Coo7i9dETS",
    "outputId": "78ece1c9-fc4a-4a68-e4fe-60e66978667f"
   },
   "outputs": [
    {
     "data": {
      "text/plain": [
       "Location             0\n",
       "MinTemp            122\n",
       "MaxTemp            126\n",
       "Rainfall             0\n",
       "Evaporation      16252\n",
       "Sunshine         17290\n",
       "WindGustDir          0\n",
       "WindGustSpeed      360\n",
       "WindDir9am           0\n",
       "WindDir3pm           0\n",
       "WindSpeed9am        92\n",
       "WindSpeed3pm       113\n",
       "Humidity9am        264\n",
       "Humidity3pm       1042\n",
       "Pressure3pm       5916\n",
       "Cloud9am         15069\n",
       "Cloud3pm         15600\n",
       "RainToday            0\n",
       "Year                 0\n",
       "Month                0\n",
       "Day                  0\n",
       "dtype: int64"
      ]
     },
     "execution_count": 419,
     "metadata": {},
     "output_type": "execute_result"
    }
   ],
   "source": [
    "# check missing values in numerical variables in X_test\n",
    "\n",
    "X_test[numerical].isnull().sum()"
   ]
  },
  {
   "cell_type": "code",
   "execution_count": 420,
   "metadata": {
    "colab": {
     "base_uri": "https://localhost:8080/"
    },
    "id": "IEK20vZMdETT",
    "outputId": "4a691e6f-d4e5-477f-84dd-72e15bdcfbe6"
   },
   "outputs": [
    {
     "name": "stdout",
     "output_type": "stream",
     "text": [
      "MinTemp 0.004\n",
      "MaxTemp 0.0032\n",
      "Evaporation 0.5093\n",
      "Sunshine 0.5594\n",
      "WindGustSpeed 0.0827\n",
      "WindSpeed9am 0.016\n",
      "WindSpeed3pm 0.0375\n",
      "Humidity9am 0.0102\n",
      "Humidity3pm 0.0301\n",
      "Pressure3pm 0.0937\n",
      "Cloud9am 0.4092\n",
      "Cloud3pm 0.4452\n"
     ]
    }
   ],
   "source": [
    "# print percentage of missing values in the numerical variables in training set\n",
    "\n",
    "for col in numerical:\n",
    "    if X_train[col].isnull().mean()>0:\n",
    "        print(col, round(X_train[col].isnull().mean(),4))"
   ]
  },
  {
   "cell_type": "markdown",
   "metadata": {
    "id": "pbY1Zd2fdETT"
   },
   "source": [
    "## ####Assumption\n",
    "\n",
    "\n",
    "Assuming that the data are missing completely at random (MCAR). A mean/median imputation or a random sample imputation can be used. Median imputation is preferred because it is robust to outliers.\n",
    "\n",
    "\n",
    "Imputing missing values with the appropriate statistical measures of the data, in this case median. "
   ]
  },
  {
   "cell_type": "code",
   "execution_count": 421,
   "metadata": {
    "id": "iFTsG22ddETT"
   },
   "outputs": [],
   "source": [
    "# impute missing values in X_train and X_test \n",
    "\n",
    "for df1 in [X_train, X_test]:\n",
    "    for col in numerical:\n",
    "        col_median=X_train[col].median()\n",
    "        df1[col].fillna(col_median, inplace=True)           \n",
    "      "
   ]
  },
  {
   "cell_type": "markdown",
   "metadata": {
    "id": "a20Z59qCdETU"
   },
   "source": [
    "### Handling missing values in categorical variables <a class=\"anchor\" id=\"10.2\"></a>"
   ]
  },
  {
   "cell_type": "code",
   "execution_count": 422,
   "metadata": {
    "colab": {
     "base_uri": "https://localhost:8080/"
    },
    "id": "SG2lC6hfdETU",
    "outputId": "7e11e3d1-b1dd-4d2a-db36-b275a366cb8e"
   },
   "outputs": [
    {
     "data": {
      "text/plain": [
       "Series([], dtype: float64)"
      ]
     },
     "execution_count": 422,
     "metadata": {},
     "output_type": "execute_result"
    }
   ],
   "source": [
    "# print percentage of missing values in the categorical variables in training set\n",
    "\n",
    "X_train[categorical].isnull().mean()"
   ]
  },
  {
   "cell_type": "code",
   "execution_count": 423,
   "metadata": {
    "id": "YZAx-ZUmdETV"
   },
   "outputs": [],
   "source": [
    "# print categorical variables with missing data\n",
    "\n",
    "for col in categorical:\n",
    "    if X_train[col].isnull().mean()>0:\n",
    "        print(col, (X_train[col].isnull().mean()))"
   ]
  },
  {
   "cell_type": "code",
   "execution_count": 424,
   "metadata": {
    "id": "E72tWbiydETV"
   },
   "outputs": [],
   "source": [
    "# impute missing categorical variables with most frequent value\n",
    "\n",
    "for df2 in [X_train, X_test]:\n",
    "    df2['WindGustDir'].fillna(X_train['WindGustDir'].mode()[0], inplace=True)\n",
    "    df2['WindDir9am'].fillna(X_train['WindDir9am'].mode()[0], inplace=True)\n",
    "    df2['WindDir3pm'].fillna(X_train['WindDir3pm'].mode()[0], inplace=True)\n",
    "    df2['RainToday'].fillna(X_train['RainToday'].mode()[0], inplace=True)"
   ]
  },
  {
   "cell_type": "code",
   "execution_count": 425,
   "metadata": {
    "colab": {
     "base_uri": "https://localhost:8080/"
    },
    "id": "uprNaP1sdETV",
    "outputId": "6786a817-d9ce-41b8-f922-7246e96f4c97"
   },
   "outputs": [
    {
     "data": {
      "text/plain": [
       "Series([], dtype: float64)"
      ]
     },
     "execution_count": 425,
     "metadata": {},
     "output_type": "execute_result"
    }
   ],
   "source": [
    "# check missing values in categorical variables in X_train\n",
    "\n",
    "X_train[categorical].isnull().sum()"
   ]
  },
  {
   "cell_type": "code",
   "execution_count": 426,
   "metadata": {
    "colab": {
     "base_uri": "https://localhost:8080/"
    },
    "id": "NVoM0LFidETV",
    "outputId": "983ba074-8128-49c3-f415-1c9695ac8b4c"
   },
   "outputs": [
    {
     "data": {
      "text/plain": [
       "Series([], dtype: float64)"
      ]
     },
     "execution_count": 426,
     "metadata": {},
     "output_type": "execute_result"
    }
   ],
   "source": [
    "# check missing values in categorical variables in X_test\n",
    "\n",
    "X_test[categorical].isnull().sum()"
   ]
  },
  {
   "cell_type": "markdown",
   "metadata": {
    "id": "oGWdZ2yldETW"
   },
   "source": [
    "Final check for missing values in X_train and X_test."
   ]
  },
  {
   "cell_type": "code",
   "execution_count": 427,
   "metadata": {
    "colab": {
     "base_uri": "https://localhost:8080/"
    },
    "id": "ZmoD74BmdETW",
    "outputId": "47c99642-a1fb-4b5f-b873-3a793d34588b"
   },
   "outputs": [
    {
     "data": {
      "text/plain": [
       "Location         0\n",
       "MinTemp          0\n",
       "MaxTemp          0\n",
       "Rainfall         0\n",
       "Evaporation      0\n",
       "Sunshine         0\n",
       "WindGustDir      0\n",
       "WindGustSpeed    0\n",
       "WindDir9am       0\n",
       "WindDir3pm       0\n",
       "WindSpeed9am     0\n",
       "WindSpeed3pm     0\n",
       "Humidity9am      0\n",
       "Humidity3pm      0\n",
       "Pressure3pm      0\n",
       "Cloud9am         0\n",
       "Cloud3pm         0\n",
       "RainToday        0\n",
       "Year             0\n",
       "Month            0\n",
       "Day              0\n",
       "dtype: int64"
      ]
     },
     "execution_count": 427,
     "metadata": {},
     "output_type": "execute_result"
    }
   ],
   "source": [
    "# check missing values in X_train\n",
    "\n",
    "X_train.isnull().sum()"
   ]
  },
  {
   "cell_type": "code",
   "execution_count": 428,
   "metadata": {
    "colab": {
     "base_uri": "https://localhost:8080/"
    },
    "id": "4BSIy2CkdETW",
    "outputId": "71b9a499-f452-4465-c371-2affe5841172"
   },
   "outputs": [
    {
     "data": {
      "text/plain": [
       "Location         0\n",
       "MinTemp          0\n",
       "MaxTemp          0\n",
       "Rainfall         0\n",
       "Evaporation      0\n",
       "Sunshine         0\n",
       "WindGustDir      0\n",
       "WindGustSpeed    0\n",
       "WindDir9am       0\n",
       "WindDir3pm       0\n",
       "WindSpeed9am     0\n",
       "WindSpeed3pm     0\n",
       "Humidity9am      0\n",
       "Humidity3pm      0\n",
       "Pressure3pm      0\n",
       "Cloud9am         0\n",
       "Cloud3pm         0\n",
       "RainToday        0\n",
       "Year             0\n",
       "Month            0\n",
       "Day              0\n",
       "dtype: int64"
      ]
     },
     "execution_count": 428,
     "metadata": {},
     "output_type": "execute_result"
    }
   ],
   "source": [
    "# check missing values in X_test\n",
    "\n",
    "X_test.isnull().sum()"
   ]
  },
  {
   "cell_type": "markdown",
   "metadata": {
    "id": "8BAdkuwUdETX"
   },
   "source": [
    "### Handling outliers in numerical variables <a class=\"anchor\" id=\"10.3\"></a>\n",
    "\n",
    "\n",
    "`Rainfall`, `Evaporation`, `WindSpeed9am` and `WindSpeed3pm` columns contain outliers. Using top-coding approach to cap maximum values and remove outliers from the above variables."
   ]
  },
  {
   "cell_type": "code",
   "execution_count": 429,
   "metadata": {
    "id": "kztvBMP_dETX"
   },
   "outputs": [],
   "source": [
    "def max_value(df3, variable, top):\n",
    "    return np.where(df3[variable]>top, top, df3[variable])\n",
    "\n",
    "for df3 in [X_train, X_test]:\n",
    "    df3['Rainfall'] = max_value(df3, 'Rainfall', 2.4)\n",
    "    df3['Evaporation'] = max_value(df3, 'Evaporation', 21.2)\n",
    "    df3['WindSpeed9am'] = max_value(df3, 'WindSpeed9am', 55)\n",
    "    df3['WindSpeed3pm'] = max_value(df3, 'WindSpeed3pm', 57)"
   ]
  },
  {
   "cell_type": "code",
   "execution_count": 430,
   "metadata": {
    "colab": {
     "base_uri": "https://localhost:8080/"
    },
    "id": "qSmOWVETdETX",
    "outputId": "0e383e5d-0821-4f8b-8fa1-337f288564cc"
   },
   "outputs": [
    {
     "data": {
      "text/plain": [
       "(2.4, 2.4)"
      ]
     },
     "execution_count": 430,
     "metadata": {},
     "output_type": "execute_result"
    }
   ],
   "source": [
    "X_train.Rainfall.max(), X_test.Rainfall.max()"
   ]
  },
  {
   "cell_type": "code",
   "execution_count": 431,
   "metadata": {
    "colab": {
     "base_uri": "https://localhost:8080/"
    },
    "id": "CHciIioGdETX",
    "outputId": "3bd27a12-2f09-4b20-fdde-c361a3677560"
   },
   "outputs": [
    {
     "data": {
      "text/plain": [
       "(21.2, 21.2)"
      ]
     },
     "execution_count": 431,
     "metadata": {},
     "output_type": "execute_result"
    }
   ],
   "source": [
    "X_train.Evaporation.max(), X_test.Evaporation.max()"
   ]
  },
  {
   "cell_type": "code",
   "execution_count": 432,
   "metadata": {
    "colab": {
     "base_uri": "https://localhost:8080/"
    },
    "id": "otXCbcF1dETY",
    "outputId": "c0026358-f43e-4c2e-afd1-6decb81651b6"
   },
   "outputs": [
    {
     "data": {
      "text/plain": [
       "(55.0, 55.0)"
      ]
     },
     "execution_count": 432,
     "metadata": {},
     "output_type": "execute_result"
    }
   ],
   "source": [
    "X_train.WindSpeed9am.max(), X_test.WindSpeed9am.max()"
   ]
  },
  {
   "cell_type": "code",
   "execution_count": 433,
   "metadata": {
    "colab": {
     "base_uri": "https://localhost:8080/"
    },
    "id": "OXZaeQ2WdETY",
    "outputId": "7639b3a3-cd41-4609-93fe-8e4e672a2591"
   },
   "outputs": [
    {
     "data": {
      "text/plain": [
       "(57.0, 57.0)"
      ]
     },
     "execution_count": 433,
     "metadata": {},
     "output_type": "execute_result"
    }
   ],
   "source": [
    "X_train.WindSpeed3pm.max(), X_test.WindSpeed3pm.max()"
   ]
  },
  {
   "cell_type": "code",
   "execution_count": 434,
   "metadata": {
    "colab": {
     "base_uri": "https://localhost:8080/",
     "height": 317
    },
    "id": "t1u0YHXodETY",
    "outputId": "881374a1-b282-4b6c-cb7b-2e2016b6c9a9"
   },
   "outputs": [
    {
     "data": {
      "text/html": [
       "<div>\n",
       "<style scoped>\n",
       "    .dataframe tbody tr th:only-of-type {\n",
       "        vertical-align: middle;\n",
       "    }\n",
       "\n",
       "    .dataframe tbody tr th {\n",
       "        vertical-align: top;\n",
       "    }\n",
       "\n",
       "    .dataframe thead th {\n",
       "        text-align: right;\n",
       "    }\n",
       "</style>\n",
       "<table border=\"1\" class=\"dataframe\">\n",
       "  <thead>\n",
       "    <tr style=\"text-align: right;\">\n",
       "      <th></th>\n",
       "      <th>Location</th>\n",
       "      <th>MinTemp</th>\n",
       "      <th>MaxTemp</th>\n",
       "      <th>Rainfall</th>\n",
       "      <th>Evaporation</th>\n",
       "      <th>Sunshine</th>\n",
       "      <th>WindGustDir</th>\n",
       "      <th>WindGustSpeed</th>\n",
       "      <th>WindDir9am</th>\n",
       "      <th>WindDir3pm</th>\n",
       "      <th>...</th>\n",
       "      <th>WindSpeed3pm</th>\n",
       "      <th>Humidity9am</th>\n",
       "      <th>Humidity3pm</th>\n",
       "      <th>Pressure3pm</th>\n",
       "      <th>Cloud9am</th>\n",
       "      <th>Cloud3pm</th>\n",
       "      <th>RainToday</th>\n",
       "      <th>Year</th>\n",
       "      <th>Month</th>\n",
       "      <th>Day</th>\n",
       "    </tr>\n",
       "  </thead>\n",
       "  <tbody>\n",
       "    <tr>\n",
       "      <th>count</th>\n",
       "      <td>147658.000000</td>\n",
       "      <td>147658.000000</td>\n",
       "      <td>147658.000000</td>\n",
       "      <td>147658.000000</td>\n",
       "      <td>147658.000000</td>\n",
       "      <td>147658.000000</td>\n",
       "      <td>147658.000000</td>\n",
       "      <td>147658.000000</td>\n",
       "      <td>147658.000000</td>\n",
       "      <td>147658.000000</td>\n",
       "      <td>...</td>\n",
       "      <td>147658.000000</td>\n",
       "      <td>147658.000000</td>\n",
       "      <td>147658.000000</td>\n",
       "      <td>147658.000000</td>\n",
       "      <td>147658.000000</td>\n",
       "      <td>147658.000000</td>\n",
       "      <td>147658.000000</td>\n",
       "      <td>147658.000000</td>\n",
       "      <td>147658.0000</td>\n",
       "      <td>147658.000000</td>\n",
       "    </tr>\n",
       "    <tr>\n",
       "      <th>mean</th>\n",
       "      <td>23.665667</td>\n",
       "      <td>11.864005</td>\n",
       "      <td>22.788287</td>\n",
       "      <td>0.551530</td>\n",
       "      <td>4.943273</td>\n",
       "      <td>7.859303</td>\n",
       "      <td>8.557694</td>\n",
       "      <td>39.901631</td>\n",
       "      <td>8.315669</td>\n",
       "      <td>8.130172</td>\n",
       "      <td>...</td>\n",
       "      <td>18.859046</td>\n",
       "      <td>69.990905</td>\n",
       "      <td>52.228257</td>\n",
       "      <td>1015.845154</td>\n",
       "      <td>5.239452</td>\n",
       "      <td>4.837774</td>\n",
       "      <td>0.221051</td>\n",
       "      <td>2014.401075</td>\n",
       "      <td>6.5299</td>\n",
       "      <td>15.724302</td>\n",
       "    </tr>\n",
       "    <tr>\n",
       "      <th>std</th>\n",
       "      <td>14.556866</td>\n",
       "      <td>6.287478</td>\n",
       "      <td>6.913413</td>\n",
       "      <td>0.923513</td>\n",
       "      <td>2.619148</td>\n",
       "      <td>2.556008</td>\n",
       "      <td>4.982409</td>\n",
       "      <td>13.237579</td>\n",
       "      <td>4.880060</td>\n",
       "      <td>4.828747</td>\n",
       "      <td>...</td>\n",
       "      <td>8.907414</td>\n",
       "      <td>18.557555</td>\n",
       "      <td>20.441873</td>\n",
       "      <td>6.546118</td>\n",
       "      <td>2.297834</td>\n",
       "      <td>2.033224</td>\n",
       "      <td>0.414956</td>\n",
       "      <td>3.695127</td>\n",
       "      <td>3.4491</td>\n",
       "      <td>8.793853</td>\n",
       "    </tr>\n",
       "    <tr>\n",
       "      <th>min</th>\n",
       "      <td>0.000000</td>\n",
       "      <td>-8.700000</td>\n",
       "      <td>-4.100000</td>\n",
       "      <td>0.000000</td>\n",
       "      <td>0.000000</td>\n",
       "      <td>0.000000</td>\n",
       "      <td>0.000000</td>\n",
       "      <td>2.000000</td>\n",
       "      <td>0.000000</td>\n",
       "      <td>0.000000</td>\n",
       "      <td>...</td>\n",
       "      <td>0.000000</td>\n",
       "      <td>0.000000</td>\n",
       "      <td>0.000000</td>\n",
       "      <td>979.000000</td>\n",
       "      <td>0.000000</td>\n",
       "      <td>0.000000</td>\n",
       "      <td>0.000000</td>\n",
       "      <td>2007.000000</td>\n",
       "      <td>1.0000</td>\n",
       "      <td>1.000000</td>\n",
       "    </tr>\n",
       "    <tr>\n",
       "      <th>25%</th>\n",
       "      <td>10.000000</td>\n",
       "      <td>7.400000</td>\n",
       "      <td>17.700000</td>\n",
       "      <td>0.000000</td>\n",
       "      <td>4.600000</td>\n",
       "      <td>8.200000</td>\n",
       "      <td>4.000000</td>\n",
       "      <td>31.000000</td>\n",
       "      <td>4.000000</td>\n",
       "      <td>4.000000</td>\n",
       "      <td>...</td>\n",
       "      <td>13.000000</td>\n",
       "      <td>58.000000</td>\n",
       "      <td>38.000000</td>\n",
       "      <td>1011.800000</td>\n",
       "      <td>4.000000</td>\n",
       "      <td>5.000000</td>\n",
       "      <td>0.000000</td>\n",
       "      <td>2011.000000</td>\n",
       "      <td>4.0000</td>\n",
       "      <td>8.000000</td>\n",
       "    </tr>\n",
       "    <tr>\n",
       "      <th>50%</th>\n",
       "      <td>24.000000</td>\n",
       "      <td>11.800000</td>\n",
       "      <td>22.400000</td>\n",
       "      <td>0.000000</td>\n",
       "      <td>4.600000</td>\n",
       "      <td>8.200000</td>\n",
       "      <td>9.000000</td>\n",
       "      <td>39.000000</td>\n",
       "      <td>8.000000</td>\n",
       "      <td>8.000000</td>\n",
       "      <td>...</td>\n",
       "      <td>19.000000</td>\n",
       "      <td>71.000000</td>\n",
       "      <td>53.000000</td>\n",
       "      <td>1015.800000</td>\n",
       "      <td>6.000000</td>\n",
       "      <td>5.000000</td>\n",
       "      <td>0.000000</td>\n",
       "      <td>2014.000000</td>\n",
       "      <td>7.0000</td>\n",
       "      <td>16.000000</td>\n",
       "    </tr>\n",
       "    <tr>\n",
       "      <th>75%</th>\n",
       "      <td>37.000000</td>\n",
       "      <td>16.600000</td>\n",
       "      <td>27.500000</td>\n",
       "      <td>0.600000</td>\n",
       "      <td>4.600000</td>\n",
       "      <td>8.200000</td>\n",
       "      <td>13.000000</td>\n",
       "      <td>46.000000</td>\n",
       "      <td>12.000000</td>\n",
       "      <td>12.000000</td>\n",
       "      <td>...</td>\n",
       "      <td>24.000000</td>\n",
       "      <td>84.000000</td>\n",
       "      <td>66.000000</td>\n",
       "      <td>1020.000000</td>\n",
       "      <td>7.000000</td>\n",
       "      <td>6.000000</td>\n",
       "      <td>0.000000</td>\n",
       "      <td>2018.000000</td>\n",
       "      <td>10.0000</td>\n",
       "      <td>23.000000</td>\n",
       "    </tr>\n",
       "    <tr>\n",
       "      <th>max</th>\n",
       "      <td>48.000000</td>\n",
       "      <td>33.900000</td>\n",
       "      <td>48.900000</td>\n",
       "      <td>2.400000</td>\n",
       "      <td>21.200000</td>\n",
       "      <td>14.500000</td>\n",
       "      <td>16.000000</td>\n",
       "      <td>135.000000</td>\n",
       "      <td>16.000000</td>\n",
       "      <td>16.000000</td>\n",
       "      <td>...</td>\n",
       "      <td>57.000000</td>\n",
       "      <td>100.000000</td>\n",
       "      <td>100.000000</td>\n",
       "      <td>1038.200000</td>\n",
       "      <td>9.000000</td>\n",
       "      <td>9.000000</td>\n",
       "      <td>1.000000</td>\n",
       "      <td>2021.000000</td>\n",
       "      <td>12.0000</td>\n",
       "      <td>31.000000</td>\n",
       "    </tr>\n",
       "  </tbody>\n",
       "</table>\n",
       "<p>8 rows × 21 columns</p>\n",
       "</div>"
      ],
      "text/plain": [
       "            Location        MinTemp        MaxTemp       Rainfall  \\\n",
       "count  147658.000000  147658.000000  147658.000000  147658.000000   \n",
       "mean       23.665667      11.864005      22.788287       0.551530   \n",
       "std        14.556866       6.287478       6.913413       0.923513   \n",
       "min         0.000000      -8.700000      -4.100000       0.000000   \n",
       "25%        10.000000       7.400000      17.700000       0.000000   \n",
       "50%        24.000000      11.800000      22.400000       0.000000   \n",
       "75%        37.000000      16.600000      27.500000       0.600000   \n",
       "max        48.000000      33.900000      48.900000       2.400000   \n",
       "\n",
       "         Evaporation       Sunshine    WindGustDir  WindGustSpeed  \\\n",
       "count  147658.000000  147658.000000  147658.000000  147658.000000   \n",
       "mean        4.943273       7.859303       8.557694      39.901631   \n",
       "std         2.619148       2.556008       4.982409      13.237579   \n",
       "min         0.000000       0.000000       0.000000       2.000000   \n",
       "25%         4.600000       8.200000       4.000000      31.000000   \n",
       "50%         4.600000       8.200000       9.000000      39.000000   \n",
       "75%         4.600000       8.200000      13.000000      46.000000   \n",
       "max        21.200000      14.500000      16.000000     135.000000   \n",
       "\n",
       "          WindDir9am     WindDir3pm  ...   WindSpeed3pm    Humidity9am  \\\n",
       "count  147658.000000  147658.000000  ...  147658.000000  147658.000000   \n",
       "mean        8.315669       8.130172  ...      18.859046      69.990905   \n",
       "std         4.880060       4.828747  ...       8.907414      18.557555   \n",
       "min         0.000000       0.000000  ...       0.000000       0.000000   \n",
       "25%         4.000000       4.000000  ...      13.000000      58.000000   \n",
       "50%         8.000000       8.000000  ...      19.000000      71.000000   \n",
       "75%        12.000000      12.000000  ...      24.000000      84.000000   \n",
       "max        16.000000      16.000000  ...      57.000000     100.000000   \n",
       "\n",
       "         Humidity3pm    Pressure3pm       Cloud9am       Cloud3pm  \\\n",
       "count  147658.000000  147658.000000  147658.000000  147658.000000   \n",
       "mean       52.228257    1015.845154       5.239452       4.837774   \n",
       "std        20.441873       6.546118       2.297834       2.033224   \n",
       "min         0.000000     979.000000       0.000000       0.000000   \n",
       "25%        38.000000    1011.800000       4.000000       5.000000   \n",
       "50%        53.000000    1015.800000       6.000000       5.000000   \n",
       "75%        66.000000    1020.000000       7.000000       6.000000   \n",
       "max       100.000000    1038.200000       9.000000       9.000000   \n",
       "\n",
       "           RainToday           Year        Month            Day  \n",
       "count  147658.000000  147658.000000  147658.0000  147658.000000  \n",
       "mean        0.221051    2014.401075       6.5299      15.724302  \n",
       "std         0.414956       3.695127       3.4491       8.793853  \n",
       "min         0.000000    2007.000000       1.0000       1.000000  \n",
       "25%         0.000000    2011.000000       4.0000       8.000000  \n",
       "50%         0.000000    2014.000000       7.0000      16.000000  \n",
       "75%         0.000000    2018.000000      10.0000      23.000000  \n",
       "max         1.000000    2021.000000      12.0000      31.000000  \n",
       "\n",
       "[8 rows x 21 columns]"
      ]
     },
     "execution_count": 434,
     "metadata": {},
     "output_type": "execute_result"
    }
   ],
   "source": [
    "X_train[numerical].describe()"
   ]
  },
  {
   "cell_type": "markdown",
   "metadata": {
    "id": "B0zoYgUedETZ"
   },
   "source": [
    "### Encoding categorical variables <a class=\"anchor\" id=\"10.4\"></a>"
   ]
  },
  {
   "cell_type": "code",
   "execution_count": 435,
   "metadata": {
    "colab": {
     "base_uri": "https://localhost:8080/"
    },
    "id": "tYc75VccpeeM",
    "outputId": "6697f446-1bc5-4b88-b521-694d13be36b4"
   },
   "outputs": [
    {
     "data": {
      "text/plain": [
       "((147658, 21), (36915, 21))"
      ]
     },
     "execution_count": 435,
     "metadata": {},
     "output_type": "execute_result"
    }
   ],
   "source": [
    "X_train.shape, X_test.shape"
   ]
  },
  {
   "cell_type": "code",
   "execution_count": 436,
   "metadata": {
    "colab": {
     "base_uri": "https://localhost:8080/",
     "height": 224
    },
    "id": "0QMOFUa9dETa",
    "outputId": "aefe899c-6d1e-4e67-d15b-1bcf50f57f2d"
   },
   "outputs": [
    {
     "data": {
      "text/html": [
       "<div>\n",
       "<style scoped>\n",
       "    .dataframe tbody tr th:only-of-type {\n",
       "        vertical-align: middle;\n",
       "    }\n",
       "\n",
       "    .dataframe tbody tr th {\n",
       "        vertical-align: top;\n",
       "    }\n",
       "\n",
       "    .dataframe thead th {\n",
       "        text-align: right;\n",
       "    }\n",
       "</style>\n",
       "<table border=\"1\" class=\"dataframe\">\n",
       "  <thead>\n",
       "    <tr style=\"text-align: right;\">\n",
       "      <th></th>\n",
       "      <th>Location</th>\n",
       "      <th>MinTemp</th>\n",
       "      <th>MaxTemp</th>\n",
       "      <th>Rainfall</th>\n",
       "      <th>Evaporation</th>\n",
       "      <th>Sunshine</th>\n",
       "      <th>WindGustDir</th>\n",
       "      <th>WindGustSpeed</th>\n",
       "      <th>WindDir9am</th>\n",
       "      <th>WindDir3pm</th>\n",
       "      <th>...</th>\n",
       "      <th>WindSpeed3pm</th>\n",
       "      <th>Humidity9am</th>\n",
       "      <th>Humidity3pm</th>\n",
       "      <th>Pressure3pm</th>\n",
       "      <th>Cloud9am</th>\n",
       "      <th>Cloud3pm</th>\n",
       "      <th>RainToday</th>\n",
       "      <th>Year</th>\n",
       "      <th>Month</th>\n",
       "      <th>Day</th>\n",
       "    </tr>\n",
       "  </thead>\n",
       "  <tbody>\n",
       "    <tr>\n",
       "      <th>0</th>\n",
       "      <td>2</td>\n",
       "      <td>13.4</td>\n",
       "      <td>22.9</td>\n",
       "      <td>0.6</td>\n",
       "      <td>4.6</td>\n",
       "      <td>8.2</td>\n",
       "      <td>13</td>\n",
       "      <td>44.0</td>\n",
       "      <td>13</td>\n",
       "      <td>14</td>\n",
       "      <td>...</td>\n",
       "      <td>24.0</td>\n",
       "      <td>71.0</td>\n",
       "      <td>22.0</td>\n",
       "      <td>1007.1</td>\n",
       "      <td>8.0</td>\n",
       "      <td>5.0</td>\n",
       "      <td>0</td>\n",
       "      <td>2008</td>\n",
       "      <td>12</td>\n",
       "      <td>1</td>\n",
       "    </tr>\n",
       "    <tr>\n",
       "      <th>1</th>\n",
       "      <td>2</td>\n",
       "      <td>7.4</td>\n",
       "      <td>25.1</td>\n",
       "      <td>0.0</td>\n",
       "      <td>4.6</td>\n",
       "      <td>8.2</td>\n",
       "      <td>14</td>\n",
       "      <td>44.0</td>\n",
       "      <td>6</td>\n",
       "      <td>15</td>\n",
       "      <td>...</td>\n",
       "      <td>22.0</td>\n",
       "      <td>44.0</td>\n",
       "      <td>25.0</td>\n",
       "      <td>1007.8</td>\n",
       "      <td>6.0</td>\n",
       "      <td>5.0</td>\n",
       "      <td>0</td>\n",
       "      <td>2008</td>\n",
       "      <td>12</td>\n",
       "      <td>2</td>\n",
       "    </tr>\n",
       "    <tr>\n",
       "      <th>2</th>\n",
       "      <td>2</td>\n",
       "      <td>12.9</td>\n",
       "      <td>25.7</td>\n",
       "      <td>0.0</td>\n",
       "      <td>4.6</td>\n",
       "      <td>8.2</td>\n",
       "      <td>15</td>\n",
       "      <td>46.0</td>\n",
       "      <td>13</td>\n",
       "      <td>15</td>\n",
       "      <td>...</td>\n",
       "      <td>26.0</td>\n",
       "      <td>38.0</td>\n",
       "      <td>30.0</td>\n",
       "      <td>1008.7</td>\n",
       "      <td>6.0</td>\n",
       "      <td>2.0</td>\n",
       "      <td>0</td>\n",
       "      <td>2008</td>\n",
       "      <td>12</td>\n",
       "      <td>3</td>\n",
       "    </tr>\n",
       "    <tr>\n",
       "      <th>3</th>\n",
       "      <td>2</td>\n",
       "      <td>9.2</td>\n",
       "      <td>28.0</td>\n",
       "      <td>0.0</td>\n",
       "      <td>4.6</td>\n",
       "      <td>8.2</td>\n",
       "      <td>4</td>\n",
       "      <td>24.0</td>\n",
       "      <td>9</td>\n",
       "      <td>0</td>\n",
       "      <td>...</td>\n",
       "      <td>9.0</td>\n",
       "      <td>45.0</td>\n",
       "      <td>16.0</td>\n",
       "      <td>1012.8</td>\n",
       "      <td>6.0</td>\n",
       "      <td>5.0</td>\n",
       "      <td>0</td>\n",
       "      <td>2008</td>\n",
       "      <td>12</td>\n",
       "      <td>4</td>\n",
       "    </tr>\n",
       "    <tr>\n",
       "      <th>4</th>\n",
       "      <td>2</td>\n",
       "      <td>17.5</td>\n",
       "      <td>32.3</td>\n",
       "      <td>1.0</td>\n",
       "      <td>4.6</td>\n",
       "      <td>8.2</td>\n",
       "      <td>13</td>\n",
       "      <td>41.0</td>\n",
       "      <td>1</td>\n",
       "      <td>7</td>\n",
       "      <td>...</td>\n",
       "      <td>20.0</td>\n",
       "      <td>82.0</td>\n",
       "      <td>33.0</td>\n",
       "      <td>1006.0</td>\n",
       "      <td>7.0</td>\n",
       "      <td>8.0</td>\n",
       "      <td>0</td>\n",
       "      <td>2008</td>\n",
       "      <td>12</td>\n",
       "      <td>5</td>\n",
       "    </tr>\n",
       "  </tbody>\n",
       "</table>\n",
       "<p>5 rows × 21 columns</p>\n",
       "</div>"
      ],
      "text/plain": [
       "   Location  MinTemp  MaxTemp  Rainfall  Evaporation  Sunshine  WindGustDir  \\\n",
       "0         2     13.4     22.9       0.6          4.6       8.2           13   \n",
       "1         2      7.4     25.1       0.0          4.6       8.2           14   \n",
       "2         2     12.9     25.7       0.0          4.6       8.2           15   \n",
       "3         2      9.2     28.0       0.0          4.6       8.2            4   \n",
       "4         2     17.5     32.3       1.0          4.6       8.2           13   \n",
       "\n",
       "   WindGustSpeed  WindDir9am  WindDir3pm  ...  WindSpeed3pm  Humidity9am  \\\n",
       "0           44.0          13          14  ...          24.0         71.0   \n",
       "1           44.0           6          15  ...          22.0         44.0   \n",
       "2           46.0          13          15  ...          26.0         38.0   \n",
       "3           24.0           9           0  ...           9.0         45.0   \n",
       "4           41.0           1           7  ...          20.0         82.0   \n",
       "\n",
       "   Humidity3pm  Pressure3pm  Cloud9am  Cloud3pm  RainToday  Year  Month  Day  \n",
       "0         22.0       1007.1       8.0       5.0          0  2008     12    1  \n",
       "1         25.0       1007.8       6.0       5.0          0  2008     12    2  \n",
       "2         30.0       1008.7       6.0       2.0          0  2008     12    3  \n",
       "3         16.0       1012.8       6.0       5.0          0  2008     12    4  \n",
       "4         33.0       1006.0       7.0       8.0          0  2008     12    5  \n",
       "\n",
       "[5 rows x 21 columns]"
      ]
     },
     "execution_count": 436,
     "metadata": {},
     "output_type": "execute_result"
    }
   ],
   "source": [
    "X_train.head()"
   ]
  },
  {
   "cell_type": "markdown",
   "metadata": {
    "id": "SlFJBCRLdETc"
   },
   "source": [
    "## 11. Feature Scaling <a class=\"anchor\" id=\"11\"></a>"
   ]
  },
  {
   "cell_type": "code",
   "execution_count": 437,
   "metadata": {
    "colab": {
     "base_uri": "https://localhost:8080/"
    },
    "id": "T5W86gMBoybs",
    "outputId": "0426c935-39bd-4dab-ea09-0d1179bf8f7e"
   },
   "outputs": [
    {
     "data": {
      "text/plain": [
       "((147658, 21), (36915, 21))"
      ]
     },
     "execution_count": 437,
     "metadata": {},
     "output_type": "execute_result"
    }
   ],
   "source": [
    "X_train.shape, X_test.shape"
   ]
  },
  {
   "cell_type": "code",
   "execution_count": 438,
   "metadata": {
    "id": "cvKXo9uidETc"
   },
   "outputs": [],
   "source": [
    "cols = X_train.columns"
   ]
  },
  {
   "cell_type": "code",
   "execution_count": 439,
   "metadata": {
    "id": "fcq-GMYqdETc"
   },
   "outputs": [],
   "source": [
    "from sklearn.preprocessing import MinMaxScaler\n",
    "\n",
    "scaler = MinMaxScaler()\n",
    "\n",
    "X_train = scaler.fit_transform(X_train)\n",
    "\n",
    "X_test = scaler.transform(X_test)\n"
   ]
  },
  {
   "cell_type": "code",
   "execution_count": 440,
   "metadata": {
    "id": "pkt--eUGdETc"
   },
   "outputs": [],
   "source": [
    "X_train = pd.DataFrame(X_train, columns=[cols])"
   ]
  },
  {
   "cell_type": "code",
   "execution_count": 441,
   "metadata": {
    "id": "sj6yewG3dETd"
   },
   "outputs": [],
   "source": [
    "X_test = pd.DataFrame(X_test, columns=[cols])"
   ]
  },
  {
   "cell_type": "code",
   "execution_count": 442,
   "metadata": {
    "colab": {
     "base_uri": "https://localhost:8080/",
     "height": 317
    },
    "id": "USf8h862dETd",
    "outputId": "28407d2c-bc41-4908-c522-431417725141"
   },
   "outputs": [
    {
     "data": {
      "text/html": [
       "<div>\n",
       "<style scoped>\n",
       "    .dataframe tbody tr th:only-of-type {\n",
       "        vertical-align: middle;\n",
       "    }\n",
       "\n",
       "    .dataframe tbody tr th {\n",
       "        vertical-align: top;\n",
       "    }\n",
       "\n",
       "    .dataframe thead tr th {\n",
       "        text-align: left;\n",
       "    }\n",
       "</style>\n",
       "<table border=\"1\" class=\"dataframe\">\n",
       "  <thead>\n",
       "    <tr>\n",
       "      <th></th>\n",
       "      <th>Location</th>\n",
       "      <th>MinTemp</th>\n",
       "      <th>MaxTemp</th>\n",
       "      <th>Rainfall</th>\n",
       "      <th>Evaporation</th>\n",
       "      <th>Sunshine</th>\n",
       "      <th>WindGustDir</th>\n",
       "      <th>WindGustSpeed</th>\n",
       "      <th>WindDir9am</th>\n",
       "      <th>WindDir3pm</th>\n",
       "      <th>...</th>\n",
       "      <th>WindSpeed3pm</th>\n",
       "      <th>Humidity9am</th>\n",
       "      <th>Humidity3pm</th>\n",
       "      <th>Pressure3pm</th>\n",
       "      <th>Cloud9am</th>\n",
       "      <th>Cloud3pm</th>\n",
       "      <th>RainToday</th>\n",
       "      <th>Year</th>\n",
       "      <th>Month</th>\n",
       "      <th>Day</th>\n",
       "    </tr>\n",
       "  </thead>\n",
       "  <tbody>\n",
       "    <tr>\n",
       "      <th>count</th>\n",
       "      <td>147658.000000</td>\n",
       "      <td>147658.000000</td>\n",
       "      <td>147658.000000</td>\n",
       "      <td>147658.000000</td>\n",
       "      <td>147658.000000</td>\n",
       "      <td>147658.000000</td>\n",
       "      <td>147658.000000</td>\n",
       "      <td>147658.000000</td>\n",
       "      <td>147658.000000</td>\n",
       "      <td>147658.000000</td>\n",
       "      <td>...</td>\n",
       "      <td>147658.000000</td>\n",
       "      <td>147658.000000</td>\n",
       "      <td>147658.000000</td>\n",
       "      <td>147658.000000</td>\n",
       "      <td>147658.000000</td>\n",
       "      <td>147658.000000</td>\n",
       "      <td>147658.000000</td>\n",
       "      <td>147658.000000</td>\n",
       "      <td>147658.000000</td>\n",
       "      <td>147658.000000</td>\n",
       "    </tr>\n",
       "    <tr>\n",
       "      <th>mean</th>\n",
       "      <td>0.493035</td>\n",
       "      <td>0.482723</td>\n",
       "      <td>0.507326</td>\n",
       "      <td>0.229804</td>\n",
       "      <td>0.233173</td>\n",
       "      <td>0.542021</td>\n",
       "      <td>0.534856</td>\n",
       "      <td>0.284975</td>\n",
       "      <td>0.519729</td>\n",
       "      <td>0.508136</td>\n",
       "      <td>...</td>\n",
       "      <td>0.330860</td>\n",
       "      <td>0.699909</td>\n",
       "      <td>0.522283</td>\n",
       "      <td>0.622384</td>\n",
       "      <td>0.582161</td>\n",
       "      <td>0.537530</td>\n",
       "      <td>0.221051</td>\n",
       "      <td>0.528648</td>\n",
       "      <td>0.502718</td>\n",
       "      <td>0.490810</td>\n",
       "    </tr>\n",
       "    <tr>\n",
       "      <th>std</th>\n",
       "      <td>0.303268</td>\n",
       "      <td>0.147593</td>\n",
       "      <td>0.130442</td>\n",
       "      <td>0.384797</td>\n",
       "      <td>0.123545</td>\n",
       "      <td>0.176276</td>\n",
       "      <td>0.311401</td>\n",
       "      <td>0.099531</td>\n",
       "      <td>0.305004</td>\n",
       "      <td>0.301797</td>\n",
       "      <td>...</td>\n",
       "      <td>0.156270</td>\n",
       "      <td>0.185576</td>\n",
       "      <td>0.204419</td>\n",
       "      <td>0.110576</td>\n",
       "      <td>0.255315</td>\n",
       "      <td>0.225914</td>\n",
       "      <td>0.414956</td>\n",
       "      <td>0.263938</td>\n",
       "      <td>0.313555</td>\n",
       "      <td>0.293128</td>\n",
       "    </tr>\n",
       "    <tr>\n",
       "      <th>min</th>\n",
       "      <td>0.000000</td>\n",
       "      <td>0.000000</td>\n",
       "      <td>0.000000</td>\n",
       "      <td>0.000000</td>\n",
       "      <td>0.000000</td>\n",
       "      <td>0.000000</td>\n",
       "      <td>0.000000</td>\n",
       "      <td>0.000000</td>\n",
       "      <td>0.000000</td>\n",
       "      <td>0.000000</td>\n",
       "      <td>...</td>\n",
       "      <td>0.000000</td>\n",
       "      <td>0.000000</td>\n",
       "      <td>0.000000</td>\n",
       "      <td>0.000000</td>\n",
       "      <td>0.000000</td>\n",
       "      <td>0.000000</td>\n",
       "      <td>0.000000</td>\n",
       "      <td>0.000000</td>\n",
       "      <td>0.000000</td>\n",
       "      <td>0.000000</td>\n",
       "    </tr>\n",
       "    <tr>\n",
       "      <th>25%</th>\n",
       "      <td>0.208333</td>\n",
       "      <td>0.377934</td>\n",
       "      <td>0.411321</td>\n",
       "      <td>0.000000</td>\n",
       "      <td>0.216981</td>\n",
       "      <td>0.565517</td>\n",
       "      <td>0.250000</td>\n",
       "      <td>0.218045</td>\n",
       "      <td>0.250000</td>\n",
       "      <td>0.250000</td>\n",
       "      <td>...</td>\n",
       "      <td>0.228070</td>\n",
       "      <td>0.580000</td>\n",
       "      <td>0.380000</td>\n",
       "      <td>0.554054</td>\n",
       "      <td>0.444444</td>\n",
       "      <td>0.555556</td>\n",
       "      <td>0.000000</td>\n",
       "      <td>0.285714</td>\n",
       "      <td>0.272727</td>\n",
       "      <td>0.233333</td>\n",
       "    </tr>\n",
       "    <tr>\n",
       "      <th>50%</th>\n",
       "      <td>0.500000</td>\n",
       "      <td>0.481221</td>\n",
       "      <td>0.500000</td>\n",
       "      <td>0.000000</td>\n",
       "      <td>0.216981</td>\n",
       "      <td>0.565517</td>\n",
       "      <td>0.562500</td>\n",
       "      <td>0.278195</td>\n",
       "      <td>0.500000</td>\n",
       "      <td>0.500000</td>\n",
       "      <td>...</td>\n",
       "      <td>0.333333</td>\n",
       "      <td>0.710000</td>\n",
       "      <td>0.530000</td>\n",
       "      <td>0.621622</td>\n",
       "      <td>0.666667</td>\n",
       "      <td>0.555556</td>\n",
       "      <td>0.000000</td>\n",
       "      <td>0.500000</td>\n",
       "      <td>0.545455</td>\n",
       "      <td>0.500000</td>\n",
       "    </tr>\n",
       "    <tr>\n",
       "      <th>75%</th>\n",
       "      <td>0.770833</td>\n",
       "      <td>0.593897</td>\n",
       "      <td>0.596226</td>\n",
       "      <td>0.250000</td>\n",
       "      <td>0.216981</td>\n",
       "      <td>0.565517</td>\n",
       "      <td>0.812500</td>\n",
       "      <td>0.330827</td>\n",
       "      <td>0.750000</td>\n",
       "      <td>0.750000</td>\n",
       "      <td>...</td>\n",
       "      <td>0.421053</td>\n",
       "      <td>0.840000</td>\n",
       "      <td>0.660000</td>\n",
       "      <td>0.692568</td>\n",
       "      <td>0.777778</td>\n",
       "      <td>0.666667</td>\n",
       "      <td>0.000000</td>\n",
       "      <td>0.785714</td>\n",
       "      <td>0.818182</td>\n",
       "      <td>0.733333</td>\n",
       "    </tr>\n",
       "    <tr>\n",
       "      <th>max</th>\n",
       "      <td>1.000000</td>\n",
       "      <td>1.000000</td>\n",
       "      <td>1.000000</td>\n",
       "      <td>1.000000</td>\n",
       "      <td>1.000000</td>\n",
       "      <td>1.000000</td>\n",
       "      <td>1.000000</td>\n",
       "      <td>1.000000</td>\n",
       "      <td>1.000000</td>\n",
       "      <td>1.000000</td>\n",
       "      <td>...</td>\n",
       "      <td>1.000000</td>\n",
       "      <td>1.000000</td>\n",
       "      <td>1.000000</td>\n",
       "      <td>1.000000</td>\n",
       "      <td>1.000000</td>\n",
       "      <td>1.000000</td>\n",
       "      <td>1.000000</td>\n",
       "      <td>1.000000</td>\n",
       "      <td>1.000000</td>\n",
       "      <td>1.000000</td>\n",
       "    </tr>\n",
       "  </tbody>\n",
       "</table>\n",
       "<p>8 rows × 21 columns</p>\n",
       "</div>"
      ],
      "text/plain": [
       "            Location        MinTemp        MaxTemp       Rainfall  \\\n",
       "count  147658.000000  147658.000000  147658.000000  147658.000000   \n",
       "mean        0.493035       0.482723       0.507326       0.229804   \n",
       "std         0.303268       0.147593       0.130442       0.384797   \n",
       "min         0.000000       0.000000       0.000000       0.000000   \n",
       "25%         0.208333       0.377934       0.411321       0.000000   \n",
       "50%         0.500000       0.481221       0.500000       0.000000   \n",
       "75%         0.770833       0.593897       0.596226       0.250000   \n",
       "max         1.000000       1.000000       1.000000       1.000000   \n",
       "\n",
       "         Evaporation       Sunshine    WindGustDir  WindGustSpeed  \\\n",
       "count  147658.000000  147658.000000  147658.000000  147658.000000   \n",
       "mean        0.233173       0.542021       0.534856       0.284975   \n",
       "std         0.123545       0.176276       0.311401       0.099531   \n",
       "min         0.000000       0.000000       0.000000       0.000000   \n",
       "25%         0.216981       0.565517       0.250000       0.218045   \n",
       "50%         0.216981       0.565517       0.562500       0.278195   \n",
       "75%         0.216981       0.565517       0.812500       0.330827   \n",
       "max         1.000000       1.000000       1.000000       1.000000   \n",
       "\n",
       "          WindDir9am     WindDir3pm  ...   WindSpeed3pm    Humidity9am  \\\n",
       "count  147658.000000  147658.000000  ...  147658.000000  147658.000000   \n",
       "mean        0.519729       0.508136  ...       0.330860       0.699909   \n",
       "std         0.305004       0.301797  ...       0.156270       0.185576   \n",
       "min         0.000000       0.000000  ...       0.000000       0.000000   \n",
       "25%         0.250000       0.250000  ...       0.228070       0.580000   \n",
       "50%         0.500000       0.500000  ...       0.333333       0.710000   \n",
       "75%         0.750000       0.750000  ...       0.421053       0.840000   \n",
       "max         1.000000       1.000000  ...       1.000000       1.000000   \n",
       "\n",
       "         Humidity3pm    Pressure3pm       Cloud9am       Cloud3pm  \\\n",
       "count  147658.000000  147658.000000  147658.000000  147658.000000   \n",
       "mean        0.522283       0.622384       0.582161       0.537530   \n",
       "std         0.204419       0.110576       0.255315       0.225914   \n",
       "min         0.000000       0.000000       0.000000       0.000000   \n",
       "25%         0.380000       0.554054       0.444444       0.555556   \n",
       "50%         0.530000       0.621622       0.666667       0.555556   \n",
       "75%         0.660000       0.692568       0.777778       0.666667   \n",
       "max         1.000000       1.000000       1.000000       1.000000   \n",
       "\n",
       "           RainToday           Year          Month            Day  \n",
       "count  147658.000000  147658.000000  147658.000000  147658.000000  \n",
       "mean        0.221051       0.528648       0.502718       0.490810  \n",
       "std         0.414956       0.263938       0.313555       0.293128  \n",
       "min         0.000000       0.000000       0.000000       0.000000  \n",
       "25%         0.000000       0.285714       0.272727       0.233333  \n",
       "50%         0.000000       0.500000       0.545455       0.500000  \n",
       "75%         0.000000       0.785714       0.818182       0.733333  \n",
       "max         1.000000       1.000000       1.000000       1.000000  \n",
       "\n",
       "[8 rows x 21 columns]"
      ]
     },
     "execution_count": 442,
     "metadata": {},
     "output_type": "execute_result"
    }
   ],
   "source": [
    "X_train.describe()"
   ]
  },
  {
   "cell_type": "code",
   "execution_count": 443,
   "metadata": {
    "colab": {
     "base_uri": "https://localhost:8080/",
     "height": 439
    },
    "id": "n-Zn0PeKjmPw",
    "outputId": "8de328b0-f003-4500-fcc8-73df455054fe"
   },
   "outputs": [
    {
     "data": {
      "text/html": [
       "<div>\n",
       "<style scoped>\n",
       "    .dataframe tbody tr th:only-of-type {\n",
       "        vertical-align: middle;\n",
       "    }\n",
       "\n",
       "    .dataframe tbody tr th {\n",
       "        vertical-align: top;\n",
       "    }\n",
       "\n",
       "    .dataframe thead tr th {\n",
       "        text-align: left;\n",
       "    }\n",
       "</style>\n",
       "<table border=\"1\" class=\"dataframe\">\n",
       "  <thead>\n",
       "    <tr>\n",
       "      <th></th>\n",
       "      <th>Location</th>\n",
       "      <th>MinTemp</th>\n",
       "      <th>MaxTemp</th>\n",
       "      <th>Rainfall</th>\n",
       "      <th>Evaporation</th>\n",
       "      <th>Sunshine</th>\n",
       "      <th>WindGustDir</th>\n",
       "      <th>WindGustSpeed</th>\n",
       "      <th>WindDir9am</th>\n",
       "      <th>WindDir3pm</th>\n",
       "      <th>...</th>\n",
       "      <th>WindSpeed3pm</th>\n",
       "      <th>Humidity9am</th>\n",
       "      <th>Humidity3pm</th>\n",
       "      <th>Pressure3pm</th>\n",
       "      <th>Cloud9am</th>\n",
       "      <th>Cloud3pm</th>\n",
       "      <th>RainToday</th>\n",
       "      <th>Year</th>\n",
       "      <th>Month</th>\n",
       "      <th>Day</th>\n",
       "    </tr>\n",
       "  </thead>\n",
       "  <tbody>\n",
       "    <tr>\n",
       "      <th>0</th>\n",
       "      <td>0.041667</td>\n",
       "      <td>0.518779</td>\n",
       "      <td>0.509434</td>\n",
       "      <td>0.250000</td>\n",
       "      <td>0.216981</td>\n",
       "      <td>0.565517</td>\n",
       "      <td>0.8125</td>\n",
       "      <td>0.315789</td>\n",
       "      <td>0.8125</td>\n",
       "      <td>0.8750</td>\n",
       "      <td>...</td>\n",
       "      <td>0.421053</td>\n",
       "      <td>0.71</td>\n",
       "      <td>0.22</td>\n",
       "      <td>0.474662</td>\n",
       "      <td>0.888889</td>\n",
       "      <td>0.555556</td>\n",
       "      <td>0.0</td>\n",
       "      <td>0.071429</td>\n",
       "      <td>1.000000</td>\n",
       "      <td>0.000000</td>\n",
       "    </tr>\n",
       "    <tr>\n",
       "      <th>1</th>\n",
       "      <td>0.041667</td>\n",
       "      <td>0.377934</td>\n",
       "      <td>0.550943</td>\n",
       "      <td>0.000000</td>\n",
       "      <td>0.216981</td>\n",
       "      <td>0.565517</td>\n",
       "      <td>0.8750</td>\n",
       "      <td>0.315789</td>\n",
       "      <td>0.3750</td>\n",
       "      <td>0.9375</td>\n",
       "      <td>...</td>\n",
       "      <td>0.385965</td>\n",
       "      <td>0.44</td>\n",
       "      <td>0.25</td>\n",
       "      <td>0.486486</td>\n",
       "      <td>0.666667</td>\n",
       "      <td>0.555556</td>\n",
       "      <td>0.0</td>\n",
       "      <td>0.071429</td>\n",
       "      <td>1.000000</td>\n",
       "      <td>0.033333</td>\n",
       "    </tr>\n",
       "    <tr>\n",
       "      <th>2</th>\n",
       "      <td>0.041667</td>\n",
       "      <td>0.507042</td>\n",
       "      <td>0.562264</td>\n",
       "      <td>0.000000</td>\n",
       "      <td>0.216981</td>\n",
       "      <td>0.565517</td>\n",
       "      <td>0.9375</td>\n",
       "      <td>0.330827</td>\n",
       "      <td>0.8125</td>\n",
       "      <td>0.9375</td>\n",
       "      <td>...</td>\n",
       "      <td>0.456140</td>\n",
       "      <td>0.38</td>\n",
       "      <td>0.30</td>\n",
       "      <td>0.501689</td>\n",
       "      <td>0.666667</td>\n",
       "      <td>0.222222</td>\n",
       "      <td>0.0</td>\n",
       "      <td>0.071429</td>\n",
       "      <td>1.000000</td>\n",
       "      <td>0.066667</td>\n",
       "    </tr>\n",
       "    <tr>\n",
       "      <th>3</th>\n",
       "      <td>0.041667</td>\n",
       "      <td>0.420188</td>\n",
       "      <td>0.605660</td>\n",
       "      <td>0.000000</td>\n",
       "      <td>0.216981</td>\n",
       "      <td>0.565517</td>\n",
       "      <td>0.2500</td>\n",
       "      <td>0.165414</td>\n",
       "      <td>0.5625</td>\n",
       "      <td>0.0000</td>\n",
       "      <td>...</td>\n",
       "      <td>0.157895</td>\n",
       "      <td>0.45</td>\n",
       "      <td>0.16</td>\n",
       "      <td>0.570946</td>\n",
       "      <td>0.666667</td>\n",
       "      <td>0.555556</td>\n",
       "      <td>0.0</td>\n",
       "      <td>0.071429</td>\n",
       "      <td>1.000000</td>\n",
       "      <td>0.100000</td>\n",
       "    </tr>\n",
       "    <tr>\n",
       "      <th>4</th>\n",
       "      <td>0.041667</td>\n",
       "      <td>0.615023</td>\n",
       "      <td>0.686792</td>\n",
       "      <td>0.416667</td>\n",
       "      <td>0.216981</td>\n",
       "      <td>0.565517</td>\n",
       "      <td>0.8125</td>\n",
       "      <td>0.293233</td>\n",
       "      <td>0.0625</td>\n",
       "      <td>0.4375</td>\n",
       "      <td>...</td>\n",
       "      <td>0.350877</td>\n",
       "      <td>0.82</td>\n",
       "      <td>0.33</td>\n",
       "      <td>0.456081</td>\n",
       "      <td>0.777778</td>\n",
       "      <td>0.888889</td>\n",
       "      <td>0.0</td>\n",
       "      <td>0.071429</td>\n",
       "      <td>1.000000</td>\n",
       "      <td>0.133333</td>\n",
       "    </tr>\n",
       "    <tr>\n",
       "      <th>...</th>\n",
       "      <td>...</td>\n",
       "      <td>...</td>\n",
       "      <td>...</td>\n",
       "      <td>...</td>\n",
       "      <td>...</td>\n",
       "      <td>...</td>\n",
       "      <td>...</td>\n",
       "      <td>...</td>\n",
       "      <td>...</td>\n",
       "      <td>...</td>\n",
       "      <td>...</td>\n",
       "      <td>...</td>\n",
       "      <td>...</td>\n",
       "      <td>...</td>\n",
       "      <td>...</td>\n",
       "      <td>...</td>\n",
       "      <td>...</td>\n",
       "      <td>...</td>\n",
       "      <td>...</td>\n",
       "      <td>...</td>\n",
       "      <td>...</td>\n",
       "    </tr>\n",
       "    <tr>\n",
       "      <th>147653</th>\n",
       "      <td>0.604167</td>\n",
       "      <td>0.509390</td>\n",
       "      <td>0.494340</td>\n",
       "      <td>1.000000</td>\n",
       "      <td>0.216981</td>\n",
       "      <td>0.448276</td>\n",
       "      <td>0.3750</td>\n",
       "      <td>0.406015</td>\n",
       "      <td>0.1875</td>\n",
       "      <td>0.3750</td>\n",
       "      <td>...</td>\n",
       "      <td>0.491228</td>\n",
       "      <td>0.82</td>\n",
       "      <td>0.62</td>\n",
       "      <td>0.557432</td>\n",
       "      <td>0.666667</td>\n",
       "      <td>0.888889</td>\n",
       "      <td>1.0</td>\n",
       "      <td>0.714286</td>\n",
       "      <td>0.545455</td>\n",
       "      <td>0.866667</td>\n",
       "    </tr>\n",
       "    <tr>\n",
       "      <th>147654</th>\n",
       "      <td>0.604167</td>\n",
       "      <td>0.544601</td>\n",
       "      <td>0.426415</td>\n",
       "      <td>1.000000</td>\n",
       "      <td>0.216981</td>\n",
       "      <td>0.565517</td>\n",
       "      <td>0.8750</td>\n",
       "      <td>0.473684</td>\n",
       "      <td>0.8750</td>\n",
       "      <td>0.8125</td>\n",
       "      <td>...</td>\n",
       "      <td>0.614035</td>\n",
       "      <td>0.78</td>\n",
       "      <td>0.77</td>\n",
       "      <td>0.511824</td>\n",
       "      <td>0.888889</td>\n",
       "      <td>0.888889</td>\n",
       "      <td>1.0</td>\n",
       "      <td>0.714286</td>\n",
       "      <td>0.545455</td>\n",
       "      <td>0.900000</td>\n",
       "    </tr>\n",
       "    <tr>\n",
       "      <th>147655</th>\n",
       "      <td>0.604167</td>\n",
       "      <td>0.399061</td>\n",
       "      <td>0.367925</td>\n",
       "      <td>1.000000</td>\n",
       "      <td>0.216981</td>\n",
       "      <td>0.344828</td>\n",
       "      <td>0.9375</td>\n",
       "      <td>0.406015</td>\n",
       "      <td>0.9375</td>\n",
       "      <td>0.8125</td>\n",
       "      <td>...</td>\n",
       "      <td>0.263158</td>\n",
       "      <td>0.80</td>\n",
       "      <td>0.85</td>\n",
       "      <td>0.660473</td>\n",
       "      <td>0.888889</td>\n",
       "      <td>0.888889</td>\n",
       "      <td>1.0</td>\n",
       "      <td>0.714286</td>\n",
       "      <td>0.545455</td>\n",
       "      <td>0.933333</td>\n",
       "    </tr>\n",
       "    <tr>\n",
       "      <th>147656</th>\n",
       "      <td>0.604167</td>\n",
       "      <td>0.352113</td>\n",
       "      <td>0.411321</td>\n",
       "      <td>1.000000</td>\n",
       "      <td>0.216981</td>\n",
       "      <td>0.448276</td>\n",
       "      <td>0.7500</td>\n",
       "      <td>0.210526</td>\n",
       "      <td>0.1250</td>\n",
       "      <td>0.4375</td>\n",
       "      <td>...</td>\n",
       "      <td>0.192982</td>\n",
       "      <td>0.71</td>\n",
       "      <td>0.46</td>\n",
       "      <td>0.741554</td>\n",
       "      <td>0.111111</td>\n",
       "      <td>0.444444</td>\n",
       "      <td>1.0</td>\n",
       "      <td>0.714286</td>\n",
       "      <td>0.545455</td>\n",
       "      <td>0.966667</td>\n",
       "    </tr>\n",
       "    <tr>\n",
       "      <th>147657</th>\n",
       "      <td>0.604167</td>\n",
       "      <td>0.408451</td>\n",
       "      <td>0.360377</td>\n",
       "      <td>0.000000</td>\n",
       "      <td>0.216981</td>\n",
       "      <td>0.041379</td>\n",
       "      <td>0.9375</td>\n",
       "      <td>0.473684</td>\n",
       "      <td>0.1875</td>\n",
       "      <td>0.9375</td>\n",
       "      <td>...</td>\n",
       "      <td>0.192982</td>\n",
       "      <td>0.77</td>\n",
       "      <td>0.93</td>\n",
       "      <td>0.589527</td>\n",
       "      <td>0.888889</td>\n",
       "      <td>0.888889</td>\n",
       "      <td>0.0</td>\n",
       "      <td>0.714286</td>\n",
       "      <td>0.545455</td>\n",
       "      <td>1.000000</td>\n",
       "    </tr>\n",
       "  </tbody>\n",
       "</table>\n",
       "<p>147658 rows × 21 columns</p>\n",
       "</div>"
      ],
      "text/plain": [
       "        Location   MinTemp   MaxTemp  Rainfall Evaporation  Sunshine  \\\n",
       "0       0.041667  0.518779  0.509434  0.250000    0.216981  0.565517   \n",
       "1       0.041667  0.377934  0.550943  0.000000    0.216981  0.565517   \n",
       "2       0.041667  0.507042  0.562264  0.000000    0.216981  0.565517   \n",
       "3       0.041667  0.420188  0.605660  0.000000    0.216981  0.565517   \n",
       "4       0.041667  0.615023  0.686792  0.416667    0.216981  0.565517   \n",
       "...          ...       ...       ...       ...         ...       ...   \n",
       "147653  0.604167  0.509390  0.494340  1.000000    0.216981  0.448276   \n",
       "147654  0.604167  0.544601  0.426415  1.000000    0.216981  0.565517   \n",
       "147655  0.604167  0.399061  0.367925  1.000000    0.216981  0.344828   \n",
       "147656  0.604167  0.352113  0.411321  1.000000    0.216981  0.448276   \n",
       "147657  0.604167  0.408451  0.360377  0.000000    0.216981  0.041379   \n",
       "\n",
       "       WindGustDir WindGustSpeed WindDir9am WindDir3pm  ... WindSpeed3pm  \\\n",
       "0           0.8125      0.315789     0.8125     0.8750  ...     0.421053   \n",
       "1           0.8750      0.315789     0.3750     0.9375  ...     0.385965   \n",
       "2           0.9375      0.330827     0.8125     0.9375  ...     0.456140   \n",
       "3           0.2500      0.165414     0.5625     0.0000  ...     0.157895   \n",
       "4           0.8125      0.293233     0.0625     0.4375  ...     0.350877   \n",
       "...            ...           ...        ...        ...  ...          ...   \n",
       "147653      0.3750      0.406015     0.1875     0.3750  ...     0.491228   \n",
       "147654      0.8750      0.473684     0.8750     0.8125  ...     0.614035   \n",
       "147655      0.9375      0.406015     0.9375     0.8125  ...     0.263158   \n",
       "147656      0.7500      0.210526     0.1250     0.4375  ...     0.192982   \n",
       "147657      0.9375      0.473684     0.1875     0.9375  ...     0.192982   \n",
       "\n",
       "       Humidity9am Humidity3pm Pressure3pm  Cloud9am  Cloud3pm RainToday  \\\n",
       "0             0.71        0.22    0.474662  0.888889  0.555556       0.0   \n",
       "1             0.44        0.25    0.486486  0.666667  0.555556       0.0   \n",
       "2             0.38        0.30    0.501689  0.666667  0.222222       0.0   \n",
       "3             0.45        0.16    0.570946  0.666667  0.555556       0.0   \n",
       "4             0.82        0.33    0.456081  0.777778  0.888889       0.0   \n",
       "...            ...         ...         ...       ...       ...       ...   \n",
       "147653        0.82        0.62    0.557432  0.666667  0.888889       1.0   \n",
       "147654        0.78        0.77    0.511824  0.888889  0.888889       1.0   \n",
       "147655        0.80        0.85    0.660473  0.888889  0.888889       1.0   \n",
       "147656        0.71        0.46    0.741554  0.111111  0.444444       1.0   \n",
       "147657        0.77        0.93    0.589527  0.888889  0.888889       0.0   \n",
       "\n",
       "            Year     Month       Day  \n",
       "0       0.071429  1.000000  0.000000  \n",
       "1       0.071429  1.000000  0.033333  \n",
       "2       0.071429  1.000000  0.066667  \n",
       "3       0.071429  1.000000  0.100000  \n",
       "4       0.071429  1.000000  0.133333  \n",
       "...          ...       ...       ...  \n",
       "147653  0.714286  0.545455  0.866667  \n",
       "147654  0.714286  0.545455  0.900000  \n",
       "147655  0.714286  0.545455  0.933333  \n",
       "147656  0.714286  0.545455  0.966667  \n",
       "147657  0.714286  0.545455  1.000000  \n",
       "\n",
       "[147658 rows x 21 columns]"
      ]
     },
     "execution_count": 443,
     "metadata": {},
     "output_type": "execute_result"
    }
   ],
   "source": [
    "X_train"
   ]
  },
  {
   "cell_type": "code",
   "execution_count": 444,
   "metadata": {
    "colab": {
     "base_uri": "https://localhost:8080/",
     "height": 439
    },
    "id": "Njrd9NuUmzJF",
    "outputId": "1df207ff-7234-4b44-a158-b1737fd02a9b"
   },
   "outputs": [
    {
     "data": {
      "text/html": [
       "<div>\n",
       "<style scoped>\n",
       "    .dataframe tbody tr th:only-of-type {\n",
       "        vertical-align: middle;\n",
       "    }\n",
       "\n",
       "    .dataframe tbody tr th {\n",
       "        vertical-align: top;\n",
       "    }\n",
       "\n",
       "    .dataframe thead tr th {\n",
       "        text-align: left;\n",
       "    }\n",
       "</style>\n",
       "<table border=\"1\" class=\"dataframe\">\n",
       "  <thead>\n",
       "    <tr>\n",
       "      <th></th>\n",
       "      <th>Location</th>\n",
       "      <th>MinTemp</th>\n",
       "      <th>MaxTemp</th>\n",
       "      <th>Rainfall</th>\n",
       "      <th>Evaporation</th>\n",
       "      <th>Sunshine</th>\n",
       "      <th>WindGustDir</th>\n",
       "      <th>WindGustSpeed</th>\n",
       "      <th>WindDir9am</th>\n",
       "      <th>WindDir3pm</th>\n",
       "      <th>...</th>\n",
       "      <th>WindSpeed3pm</th>\n",
       "      <th>Humidity9am</th>\n",
       "      <th>Humidity3pm</th>\n",
       "      <th>Pressure3pm</th>\n",
       "      <th>Cloud9am</th>\n",
       "      <th>Cloud3pm</th>\n",
       "      <th>RainToday</th>\n",
       "      <th>Year</th>\n",
       "      <th>Month</th>\n",
       "      <th>Day</th>\n",
       "    </tr>\n",
       "  </thead>\n",
       "  <tbody>\n",
       "    <tr>\n",
       "      <th>0</th>\n",
       "      <td>0.604167</td>\n",
       "      <td>0.267606</td>\n",
       "      <td>0.356604</td>\n",
       "      <td>1.00</td>\n",
       "      <td>0.216981</td>\n",
       "      <td>0.620690</td>\n",
       "      <td>0.5000</td>\n",
       "      <td>0.210526</td>\n",
       "      <td>0.5000</td>\n",
       "      <td>0.6875</td>\n",
       "      <td>...</td>\n",
       "      <td>0.333333</td>\n",
       "      <td>0.97</td>\n",
       "      <td>0.57</td>\n",
       "      <td>0.853041</td>\n",
       "      <td>0.666667</td>\n",
       "      <td>0.555556</td>\n",
       "      <td>1.0</td>\n",
       "      <td>0.714286</td>\n",
       "      <td>0.636364</td>\n",
       "      <td>0.000000</td>\n",
       "    </tr>\n",
       "    <tr>\n",
       "      <th>1</th>\n",
       "      <td>0.604167</td>\n",
       "      <td>0.251174</td>\n",
       "      <td>0.373585</td>\n",
       "      <td>0.00</td>\n",
       "      <td>0.216981</td>\n",
       "      <td>0.668966</td>\n",
       "      <td>0.5625</td>\n",
       "      <td>0.165414</td>\n",
       "      <td>0.5625</td>\n",
       "      <td>0.6875</td>\n",
       "      <td>...</td>\n",
       "      <td>0.157895</td>\n",
       "      <td>0.88</td>\n",
       "      <td>0.59</td>\n",
       "      <td>0.873311</td>\n",
       "      <td>0.666667</td>\n",
       "      <td>0.444444</td>\n",
       "      <td>0.0</td>\n",
       "      <td>0.714286</td>\n",
       "      <td>0.636364</td>\n",
       "      <td>0.033333</td>\n",
       "    </tr>\n",
       "    <tr>\n",
       "      <th>2</th>\n",
       "      <td>0.604167</td>\n",
       "      <td>0.288732</td>\n",
       "      <td>0.422642</td>\n",
       "      <td>0.00</td>\n",
       "      <td>0.216981</td>\n",
       "      <td>0.144828</td>\n",
       "      <td>0.8750</td>\n",
       "      <td>0.345865</td>\n",
       "      <td>0.1875</td>\n",
       "      <td>0.8750</td>\n",
       "      <td>...</td>\n",
       "      <td>0.578947</td>\n",
       "      <td>0.82</td>\n",
       "      <td>0.70</td>\n",
       "      <td>0.694257</td>\n",
       "      <td>0.888889</td>\n",
       "      <td>0.888889</td>\n",
       "      <td>0.0</td>\n",
       "      <td>0.714286</td>\n",
       "      <td>0.636364</td>\n",
       "      <td>0.066667</td>\n",
       "    </tr>\n",
       "    <tr>\n",
       "      <th>3</th>\n",
       "      <td>0.604167</td>\n",
       "      <td>0.387324</td>\n",
       "      <td>0.360377</td>\n",
       "      <td>0.75</td>\n",
       "      <td>0.216981</td>\n",
       "      <td>0.068966</td>\n",
       "      <td>0.9375</td>\n",
       "      <td>0.210526</td>\n",
       "      <td>0.2500</td>\n",
       "      <td>0.3750</td>\n",
       "      <td>...</td>\n",
       "      <td>0.228070</td>\n",
       "      <td>0.83</td>\n",
       "      <td>0.70</td>\n",
       "      <td>0.722973</td>\n",
       "      <td>0.888889</td>\n",
       "      <td>0.888889</td>\n",
       "      <td>1.0</td>\n",
       "      <td>0.714286</td>\n",
       "      <td>0.636364</td>\n",
       "      <td>0.100000</td>\n",
       "    </tr>\n",
       "    <tr>\n",
       "      <th>4</th>\n",
       "      <td>0.604167</td>\n",
       "      <td>0.436620</td>\n",
       "      <td>0.441509</td>\n",
       "      <td>0.00</td>\n",
       "      <td>0.216981</td>\n",
       "      <td>0.420690</td>\n",
       "      <td>0.6875</td>\n",
       "      <td>0.195489</td>\n",
       "      <td>1.0000</td>\n",
       "      <td>0.8125</td>\n",
       "      <td>...</td>\n",
       "      <td>0.263158</td>\n",
       "      <td>0.88</td>\n",
       "      <td>0.53</td>\n",
       "      <td>0.697635</td>\n",
       "      <td>0.444444</td>\n",
       "      <td>0.111111</td>\n",
       "      <td>0.0</td>\n",
       "      <td>0.714286</td>\n",
       "      <td>0.636364</td>\n",
       "      <td>0.133333</td>\n",
       "    </tr>\n",
       "    <tr>\n",
       "      <th>...</th>\n",
       "      <td>...</td>\n",
       "      <td>...</td>\n",
       "      <td>...</td>\n",
       "      <td>...</td>\n",
       "      <td>...</td>\n",
       "      <td>...</td>\n",
       "      <td>...</td>\n",
       "      <td>...</td>\n",
       "      <td>...</td>\n",
       "      <td>...</td>\n",
       "      <td>...</td>\n",
       "      <td>...</td>\n",
       "      <td>...</td>\n",
       "      <td>...</td>\n",
       "      <td>...</td>\n",
       "      <td>...</td>\n",
       "      <td>...</td>\n",
       "      <td>...</td>\n",
       "      <td>...</td>\n",
       "      <td>...</td>\n",
       "      <td>...</td>\n",
       "    </tr>\n",
       "    <tr>\n",
       "      <th>36910</th>\n",
       "      <td>0.854167</td>\n",
       "      <td>0.744131</td>\n",
       "      <td>0.716981</td>\n",
       "      <td>0.00</td>\n",
       "      <td>0.216981</td>\n",
       "      <td>0.565517</td>\n",
       "      <td>0.1250</td>\n",
       "      <td>0.308271</td>\n",
       "      <td>0.1250</td>\n",
       "      <td>0.5625</td>\n",
       "      <td>...</td>\n",
       "      <td>0.228070</td>\n",
       "      <td>0.31</td>\n",
       "      <td>0.20</td>\n",
       "      <td>0.533784</td>\n",
       "      <td>0.666667</td>\n",
       "      <td>0.555556</td>\n",
       "      <td>0.0</td>\n",
       "      <td>1.000000</td>\n",
       "      <td>0.090909</td>\n",
       "      <td>0.733333</td>\n",
       "    </tr>\n",
       "    <tr>\n",
       "      <th>36911</th>\n",
       "      <td>0.854167</td>\n",
       "      <td>0.666667</td>\n",
       "      <td>0.700000</td>\n",
       "      <td>0.00</td>\n",
       "      <td>0.216981</td>\n",
       "      <td>0.565517</td>\n",
       "      <td>0.1250</td>\n",
       "      <td>0.293233</td>\n",
       "      <td>0.0000</td>\n",
       "      <td>0.6250</td>\n",
       "      <td>...</td>\n",
       "      <td>0.298246</td>\n",
       "      <td>0.23</td>\n",
       "      <td>0.13</td>\n",
       "      <td>0.498311</td>\n",
       "      <td>0.666667</td>\n",
       "      <td>0.555556</td>\n",
       "      <td>0.0</td>\n",
       "      <td>1.000000</td>\n",
       "      <td>0.090909</td>\n",
       "      <td>0.766667</td>\n",
       "    </tr>\n",
       "    <tr>\n",
       "      <th>36912</th>\n",
       "      <td>0.854167</td>\n",
       "      <td>0.600939</td>\n",
       "      <td>0.707547</td>\n",
       "      <td>0.00</td>\n",
       "      <td>0.216981</td>\n",
       "      <td>0.565517</td>\n",
       "      <td>0.6250</td>\n",
       "      <td>0.330827</td>\n",
       "      <td>0.0625</td>\n",
       "      <td>0.6250</td>\n",
       "      <td>...</td>\n",
       "      <td>0.333333</td>\n",
       "      <td>0.17</td>\n",
       "      <td>0.11</td>\n",
       "      <td>0.476351</td>\n",
       "      <td>0.666667</td>\n",
       "      <td>0.555556</td>\n",
       "      <td>0.0</td>\n",
       "      <td>1.000000</td>\n",
       "      <td>0.090909</td>\n",
       "      <td>0.800000</td>\n",
       "    </tr>\n",
       "    <tr>\n",
       "      <th>36913</th>\n",
       "      <td>0.854167</td>\n",
       "      <td>0.612676</td>\n",
       "      <td>0.735849</td>\n",
       "      <td>0.00</td>\n",
       "      <td>0.216981</td>\n",
       "      <td>0.565517</td>\n",
       "      <td>0.2500</td>\n",
       "      <td>0.293233</td>\n",
       "      <td>0.0625</td>\n",
       "      <td>0.1875</td>\n",
       "      <td>...</td>\n",
       "      <td>0.105263</td>\n",
       "      <td>0.16</td>\n",
       "      <td>0.09</td>\n",
       "      <td>0.420608</td>\n",
       "      <td>0.666667</td>\n",
       "      <td>0.555556</td>\n",
       "      <td>0.0</td>\n",
       "      <td>1.000000</td>\n",
       "      <td>0.090909</td>\n",
       "      <td>0.833333</td>\n",
       "    </tr>\n",
       "    <tr>\n",
       "      <th>36914</th>\n",
       "      <td>0.854167</td>\n",
       "      <td>0.645540</td>\n",
       "      <td>0.781132</td>\n",
       "      <td>0.00</td>\n",
       "      <td>0.216981</td>\n",
       "      <td>0.565517</td>\n",
       "      <td>0.3750</td>\n",
       "      <td>0.315789</td>\n",
       "      <td>0.0625</td>\n",
       "      <td>0.9375</td>\n",
       "      <td>...</td>\n",
       "      <td>0.385965</td>\n",
       "      <td>0.15</td>\n",
       "      <td>0.09</td>\n",
       "      <td>0.408784</td>\n",
       "      <td>0.666667</td>\n",
       "      <td>0.555556</td>\n",
       "      <td>0.0</td>\n",
       "      <td>1.000000</td>\n",
       "      <td>0.090909</td>\n",
       "      <td>0.866667</td>\n",
       "    </tr>\n",
       "  </tbody>\n",
       "</table>\n",
       "<p>36915 rows × 21 columns</p>\n",
       "</div>"
      ],
      "text/plain": [
       "       Location   MinTemp   MaxTemp Rainfall Evaporation  Sunshine  \\\n",
       "0      0.604167  0.267606  0.356604     1.00    0.216981  0.620690   \n",
       "1      0.604167  0.251174  0.373585     0.00    0.216981  0.668966   \n",
       "2      0.604167  0.288732  0.422642     0.00    0.216981  0.144828   \n",
       "3      0.604167  0.387324  0.360377     0.75    0.216981  0.068966   \n",
       "4      0.604167  0.436620  0.441509     0.00    0.216981  0.420690   \n",
       "...         ...       ...       ...      ...         ...       ...   \n",
       "36910  0.854167  0.744131  0.716981     0.00    0.216981  0.565517   \n",
       "36911  0.854167  0.666667  0.700000     0.00    0.216981  0.565517   \n",
       "36912  0.854167  0.600939  0.707547     0.00    0.216981  0.565517   \n",
       "36913  0.854167  0.612676  0.735849     0.00    0.216981  0.565517   \n",
       "36914  0.854167  0.645540  0.781132     0.00    0.216981  0.565517   \n",
       "\n",
       "      WindGustDir WindGustSpeed WindDir9am WindDir3pm  ... WindSpeed3pm  \\\n",
       "0          0.5000      0.210526     0.5000     0.6875  ...     0.333333   \n",
       "1          0.5625      0.165414     0.5625     0.6875  ...     0.157895   \n",
       "2          0.8750      0.345865     0.1875     0.8750  ...     0.578947   \n",
       "3          0.9375      0.210526     0.2500     0.3750  ...     0.228070   \n",
       "4          0.6875      0.195489     1.0000     0.8125  ...     0.263158   \n",
       "...           ...           ...        ...        ...  ...          ...   \n",
       "36910      0.1250      0.308271     0.1250     0.5625  ...     0.228070   \n",
       "36911      0.1250      0.293233     0.0000     0.6250  ...     0.298246   \n",
       "36912      0.6250      0.330827     0.0625     0.6250  ...     0.333333   \n",
       "36913      0.2500      0.293233     0.0625     0.1875  ...     0.105263   \n",
       "36914      0.3750      0.315789     0.0625     0.9375  ...     0.385965   \n",
       "\n",
       "      Humidity9am Humidity3pm Pressure3pm  Cloud9am  Cloud3pm RainToday  \\\n",
       "0            0.97        0.57    0.853041  0.666667  0.555556       1.0   \n",
       "1            0.88        0.59    0.873311  0.666667  0.444444       0.0   \n",
       "2            0.82        0.70    0.694257  0.888889  0.888889       0.0   \n",
       "3            0.83        0.70    0.722973  0.888889  0.888889       1.0   \n",
       "4            0.88        0.53    0.697635  0.444444  0.111111       0.0   \n",
       "...           ...         ...         ...       ...       ...       ...   \n",
       "36910        0.31        0.20    0.533784  0.666667  0.555556       0.0   \n",
       "36911        0.23        0.13    0.498311  0.666667  0.555556       0.0   \n",
       "36912        0.17        0.11    0.476351  0.666667  0.555556       0.0   \n",
       "36913        0.16        0.09    0.420608  0.666667  0.555556       0.0   \n",
       "36914        0.15        0.09    0.408784  0.666667  0.555556       0.0   \n",
       "\n",
       "           Year     Month       Day  \n",
       "0      0.714286  0.636364  0.000000  \n",
       "1      0.714286  0.636364  0.033333  \n",
       "2      0.714286  0.636364  0.066667  \n",
       "3      0.714286  0.636364  0.100000  \n",
       "4      0.714286  0.636364  0.133333  \n",
       "...         ...       ...       ...  \n",
       "36910  1.000000  0.090909  0.733333  \n",
       "36911  1.000000  0.090909  0.766667  \n",
       "36912  1.000000  0.090909  0.800000  \n",
       "36913  1.000000  0.090909  0.833333  \n",
       "36914  1.000000  0.090909  0.866667  \n",
       "\n",
       "[36915 rows x 21 columns]"
      ]
     },
     "execution_count": 444,
     "metadata": {},
     "output_type": "execute_result"
    }
   ],
   "source": [
    "X_test"
   ]
  },
  {
   "cell_type": "markdown",
   "metadata": {
    "id": "cifzkVaVdETe"
   },
   "source": [
    "## 12. Model training <a class=\"anchor\" id=\"12\"></a>"
   ]
  },
  {
   "cell_type": "code",
   "execution_count": 445,
   "metadata": {
    "colab": {
     "base_uri": "https://localhost:8080/"
    },
    "id": "pgUrtRxldETe",
    "outputId": "ffc62bbc-24a2-483e-825a-1f91fcd6bc85"
   },
   "outputs": [
    {
     "data": {
      "text/plain": [
       "LogisticRegression(random_state=0, solver='liblinear')"
      ]
     },
     "execution_count": 445,
     "metadata": {},
     "output_type": "execute_result"
    }
   ],
   "source": [
    "# train a logistic regression model on the training set\n",
    "from sklearn.linear_model import LogisticRegression\n",
    "\n",
    "\n",
    "# initiate the model\n",
    "logreg = LogisticRegression(solver='liblinear', random_state=0)\n",
    "\n",
    "\n",
    "# fit the model\n",
    "logreg.fit(X_train, y_train)\n"
   ]
  },
  {
   "cell_type": "markdown",
   "metadata": {
    "id": "Kbnm78LVdETf"
   },
   "source": [
    "## 13. Predict results <a class=\"anchor\" id=\"13\"></a>"
   ]
  },
  {
   "cell_type": "code",
   "execution_count": 446,
   "metadata": {
    "colab": {
     "base_uri": "https://localhost:8080/"
    },
    "id": "fixDLA24dETf",
    "outputId": "4a81e322-96bd-4156-bafa-0e10d4120e91"
   },
   "outputs": [
    {
     "data": {
      "text/plain": [
       "array([0, 0, 0, ..., 0, 0, 0])"
      ]
     },
     "execution_count": 446,
     "metadata": {},
     "output_type": "execute_result"
    }
   ],
   "source": [
    "y_pred_test = logreg.predict(X_test)\n",
    "\n",
    "y_pred_test"
   ]
  },
  {
   "cell_type": "markdown",
   "metadata": {
    "id": "1X2T1KHWdETg"
   },
   "source": [
    "## 14. Check accuracy score <a class=\"anchor\" id=\"14\"></a>"
   ]
  },
  {
   "cell_type": "code",
   "execution_count": 447,
   "metadata": {
    "colab": {
     "base_uri": "https://localhost:8080/"
    },
    "id": "8KS0PSvbdETg",
    "outputId": "26bc99e3-efe0-49f0-8f67-bfd68296151f"
   },
   "outputs": [
    {
     "name": "stdout",
     "output_type": "stream",
     "text": [
      "Model accuracy score: 0.8657\n"
     ]
    }
   ],
   "source": [
    "from sklearn.metrics import accuracy_score\n",
    "\n",
    "print('Model accuracy score: {0:0.4f}'. format(accuracy_score(y_test, y_pred_test)))"
   ]
  },
  {
   "cell_type": "markdown",
   "metadata": {
    "id": "PZLI-AEIdETh"
   },
   "source": [
    "Here, **y_test** are the true class labels and **y_pred_test** are the predicted class labels in the test-set."
   ]
  },
  {
   "cell_type": "markdown",
   "metadata": {
    "id": "u4tQhWSNdETh"
   },
   "source": [
    "### Compare the train-set and test-set accuracy <a class=\"anchor\" id=\"14.1\"></a>\n",
    "\n",
    "Comparing the train-set and test-set accuracy to check for overfitting."
   ]
  },
  {
   "cell_type": "code",
   "execution_count": 448,
   "metadata": {
    "colab": {
     "base_uri": "https://localhost:8080/"
    },
    "id": "9QWpL0R1dETh",
    "outputId": "238f5764-5728-4906-c2dc-a7c51d46da41"
   },
   "outputs": [
    {
     "data": {
      "text/plain": [
       "array([0, 0, 0, ..., 1, 0, 1])"
      ]
     },
     "execution_count": 448,
     "metadata": {},
     "output_type": "execute_result"
    }
   ],
   "source": [
    "y_pred_train = logreg.predict(X_train)\n",
    "\n",
    "y_pred_train"
   ]
  },
  {
   "cell_type": "code",
   "execution_count": 449,
   "metadata": {
    "colab": {
     "base_uri": "https://localhost:8080/"
    },
    "id": "A36uB3NVdETh",
    "outputId": "a927c09d-f2a6-433c-d83c-8735729a0ee7"
   },
   "outputs": [
    {
     "name": "stdout",
     "output_type": "stream",
     "text": [
      "Training-set accuracy score: 0.8431\n"
     ]
    }
   ],
   "source": [
    "print('Training-set accuracy score: {0:0.4f}'. format(accuracy_score(y_train, y_pred_train)))"
   ]
  },
  {
   "cell_type": "markdown",
   "metadata": {
    "id": "TASHsj6NdETh"
   },
   "source": [
    "### Check for overfitting and underfitting <a class=\"anchor\" id=\"14.2\"></a>"
   ]
  },
  {
   "cell_type": "code",
   "execution_count": 450,
   "metadata": {
    "colab": {
     "base_uri": "https://localhost:8080/"
    },
    "id": "HHZYzTOUdETi",
    "outputId": "946d7bf1-83f4-4930-d94a-2a0aed3a2c8d"
   },
   "outputs": [
    {
     "name": "stdout",
     "output_type": "stream",
     "text": [
      "Training set score: 0.8431\n",
      "Test set score: 0.8657\n"
     ]
    }
   ],
   "source": [
    "# print the scores on training and test set\n",
    "\n",
    "print('Training set score: {:.4f}'.format(logreg.score(X_train, y_train)))\n",
    "\n",
    "print('Test set score: {:.4f}'.format(logreg.score(X_test, y_test)))"
   ]
  },
  {
   "cell_type": "markdown",
   "metadata": {
    "id": "uSD3PQmfdETi"
   },
   "source": [
    "The training-set accuracy score 0.8433 while the test-set accuracy to be 0.8656. These two values are quite comparable. Probability of overfitting is low. \n"
   ]
  },
  {
   "cell_type": "markdown",
   "metadata": {
    "id": "ylEZKrn4dETi"
   },
   "source": [
    "In Logistic Regression, we use default value of C = 1. It provides good performance with approximately 85% accuracy on both the training and the test set. But the model performance on both the training and test set are very comparable. It can be a case of underfitting. \n",
    "\n",
    "Tuning C to fit a more flexible model."
   ]
  },
  {
   "cell_type": "code",
   "execution_count": 451,
   "metadata": {
    "colab": {
     "base_uri": "https://localhost:8080/"
    },
    "id": "p_JSz5w-dETi",
    "outputId": "2dc51fda-8117-4210-de88-a1816b07e3f4"
   },
   "outputs": [
    {
     "data": {
      "text/plain": [
       "LogisticRegression(C=100, random_state=0, solver='liblinear')"
      ]
     },
     "execution_count": 451,
     "metadata": {},
     "output_type": "execute_result"
    }
   ],
   "source": [
    "# fit the Logsitic Regression model with C=100\n",
    "\n",
    "# instantiate the model\n",
    "logreg100 = LogisticRegression(C=100, solver='liblinear', random_state=0)\n",
    "\n",
    "\n",
    "# fit the model\n",
    "logreg100.fit(X_train, y_train)"
   ]
  },
  {
   "cell_type": "code",
   "execution_count": 452,
   "metadata": {
    "colab": {
     "base_uri": "https://localhost:8080/"
    },
    "id": "qqzKq342dETj",
    "outputId": "8b3540cc-b9c8-47c8-f9e6-cadd0d9586a4"
   },
   "outputs": [
    {
     "name": "stdout",
     "output_type": "stream",
     "text": [
      "Training set score: 0.8432\n",
      "Test set score: 0.8659\n"
     ]
    }
   ],
   "source": [
    "# print the scores on training and test set\n",
    "\n",
    "print('Training set score: {:.4f}'.format(logreg100.score(X_train, y_train)))\n",
    "\n",
    "print('Test set score: {:.4f}'.format(logreg100.score(X_test, y_test)))"
   ]
  },
  {
   "cell_type": "markdown",
   "metadata": {
    "id": "vvH0-VV_dETj"
   },
   "source": [
    "C=100 results in no changes in accuracy. So, we can stop here."
   ]
  },
  {
   "cell_type": "markdown",
   "metadata": {
    "id": "LV29YvuJdETk"
   },
   "source": [
    "### Compare model accuracy with null accuracy <a class=\"anchor\" id=\"14.3\"></a>\n",
    "\n",
    "\n",
    "So, the model accuracy is 0.8656. But, we cannot say that our model is very good based on the above accuracy. We must compare it with the **null accuracy**. Null accuracy is the accuracy that could be achieved by always predicting the most frequent class.\n",
    "\n",
    "So, we should first check the class distribution in the test set. "
   ]
  },
  {
   "cell_type": "code",
   "execution_count": 453,
   "metadata": {
    "colab": {
     "base_uri": "https://localhost:8080/"
    },
    "id": "-Jar54NldETk",
    "outputId": "1a0d90df-e3f1-4bc6-f854-0ca6ef1481ee"
   },
   "outputs": [
    {
     "data": {
      "text/plain": [
       "0    29776\n",
       "1     7139\n",
       "Name: RainTomorrow, dtype: int64"
      ]
     },
     "execution_count": 453,
     "metadata": {},
     "output_type": "execute_result"
    }
   ],
   "source": [
    "# check class distribution in test set\n",
    "\n",
    "y_test.value_counts()"
   ]
  },
  {
   "cell_type": "markdown",
   "metadata": {
    "id": "mEaWmH8sdETl"
   },
   "source": [
    "We can see that the occurences of most frequent class is 29776. So, we can calculate null accuracy by dividing 29008 by total number of occurences."
   ]
  },
  {
   "cell_type": "code",
   "execution_count": 454,
   "metadata": {
    "colab": {
     "base_uri": "https://localhost:8080/"
    },
    "id": "NcZV2I1KdETl",
    "outputId": "9110aaef-bfc9-42d7-f55c-f1cfb7fa8916"
   },
   "outputs": [
    {
     "name": "stdout",
     "output_type": "stream",
     "text": [
      "Null accuracy score: 0.7858\n"
     ]
    }
   ],
   "source": [
    "# check null accuracy score\n",
    "\n",
    "null_accuracy = (29008/(29008+7907))\n",
    "\n",
    "print('Null accuracy score: {0:0.4f}'. format(null_accuracy))"
   ]
  },
  {
   "cell_type": "markdown",
   "metadata": {
    "id": "WqhThaFbdETl"
   },
   "source": [
    "#### Interpretation\n",
    "\n",
    "We can see that our model accuracy score is 0.8656 but null accuracy score is 0.7858. So, we can conclude that our Logistic Regression model is doing fine in predicting the class labels."
   ]
  },
  {
   "cell_type": "markdown",
   "metadata": {
    "id": "WhBBrwJldETl"
   },
   "source": [
    "#### Interpretation\n",
    "\n",
    "Now, based on the above analysis we can conclude that our classification model accuracy is very good. Our model is doing a very good job in terms of predicting the class labels.\n",
    "\n",
    "\n",
    "But, it does not give the underlying distribution of values. Also, it does not tell anything about the type of errors our classifer is making. \n",
    "\n",
    "\n",
    "Using `Confusion matrix`"
   ]
  },
  {
   "cell_type": "markdown",
   "metadata": {
    "id": "rrOkqA3KdETl"
   },
   "source": [
    "## 15. Confusion matrix <a class=\"anchor\" id=\"15\"></a>\n",
    "\n",
    "\n",
    "A confusion matrix is a tool for summarizing the performance of a classification algorithm. A confusion matrix will give us a clear picture of classification model performance and the types of errors produced by the model. It gives us a summary of correct and incorrect predictions broken down by each category. The summary is represented in a tabular form.\n",
    "\n",
    "\n",
    "Four types of outcomes are possible while evaluating a classification model performance. These four outcomes are described below:-\n",
    "\n",
    "\n",
    "**True Positives (TP)** – True Positives occur when we predict an observation belongs to a certain class and the observation actually belongs to that class.\n",
    "\n",
    "\n",
    "**True Negatives (TN)** – True Negatives occur when we predict an observation does not belong to a certain class and the observation actually does not belong to that class.\n",
    "\n",
    "\n",
    "**False Positives (FP)** – False Positives occur when we predict an observation belongs to a    certain class but the observation actually does not belong to that class. This type of error is called **Type I error.**\n",
    "\n",
    "\n",
    "\n",
    "**False Negatives (FN)** – False Negatives occur when we predict an observation does not belong to a certain class but the observation actually belongs to that class. This is a very serious error and it is called **Type II error.**\n",
    "\n",
    "\n",
    "\n",
    "These four outcomes are summarized in a confusion matrix given below.\n"
   ]
  },
  {
   "cell_type": "code",
   "execution_count": 455,
   "metadata": {
    "colab": {
     "base_uri": "https://localhost:8080/"
    },
    "id": "bbn7zwZjdETm",
    "outputId": "d1998ec6-4832-460a-c0a7-4b8b38a453a1"
   },
   "outputs": [
    {
     "name": "stdout",
     "output_type": "stream",
     "text": [
      "Confusion matrix\n",
      "\n",
      " [[28449  1327]\n",
      " [ 3629  3510]]\n",
      "\n",
      "True Positives(TP) =  28449\n",
      "\n",
      "True Negatives(TN) =  3510\n",
      "\n",
      "False Positives(FP) =  1327\n",
      "\n",
      "False Negatives(FN) =  3629\n"
     ]
    }
   ],
   "source": [
    "# Print the Confusion Matrix and slice it into four pieces\n",
    "\n",
    "from sklearn.metrics import confusion_matrix\n",
    "\n",
    "cm = confusion_matrix(y_test, y_pred_test)\n",
    "\n",
    "print('Confusion matrix\\n\\n', cm)\n",
    "\n",
    "print('\\nTrue Positives(TP) = ', cm[0,0])\n",
    "\n",
    "print('\\nTrue Negatives(TN) = ', cm[1,1])\n",
    "\n",
    "print('\\nFalse Positives(FP) = ', cm[0,1])\n",
    "\n",
    "print('\\nFalse Negatives(FN) = ', cm[1,0])"
   ]
  },
  {
   "cell_type": "code",
   "execution_count": 456,
   "metadata": {
    "colab": {
     "base_uri": "https://localhost:8080/",
     "height": 299
    },
    "id": "EGVCe5B_dETm",
    "outputId": "0dac936a-21e5-4fa1-d556-bb4d6f711937"
   },
   "outputs": [
    {
     "data": {
      "text/plain": [
       "<AxesSubplot:>"
      ]
     },
     "execution_count": 456,
     "metadata": {},
     "output_type": "execute_result"
    },
    {
     "data": {
      "image/png": "[encoded data removed]",
      "text/plain": [
       "<Figure size 432x288 with 2 Axes>"
      ]
     },
     "metadata": {
      "needs_background": "light"
     },
     "output_type": "display_data"
    }
   ],
   "source": [
    "# visualize confusion matrix with seaborn heatmap\n",
    "\n",
    "cm_matrix = pd.DataFrame(data=cm, columns=['Actual Positive:1', 'Actual Negative:0'], \n",
    "                                 index=['Predict Positive:1', 'Predict Negative:0'])\n",
    "\n",
    "sns.heatmap(cm_matrix, annot=True, fmt='d', cmap='YlGnBu')"
   ]
  },
  {
   "cell_type": "markdown",
   "metadata": {
    "id": "2KO5dr7ddETn"
   },
   "source": [
    "## 16. Classification Metrices <a class=\"anchor\" id=\"16\"></a>"
   ]
  },
  {
   "cell_type": "markdown",
   "metadata": {
    "id": "G1PkRKrMdETn"
   },
   "source": [
    "### Classification Report <a class=\"anchor\" id=\"16.1\"></a>\n",
    "\n",
    "\n",
    "**Classification report** is another way to evaluate the classification model performance. It displays the  **precision**, **recall**, **f1** and **support** scores for the model."
   ]
  },
  {
   "cell_type": "code",
   "execution_count": 457,
   "metadata": {
    "colab": {
     "base_uri": "https://localhost:8080/"
    },
    "id": "iNnRsH1QdETn",
    "outputId": "1c59a7f0-1d5e-4a0f-d240-252941fede5a"
   },
   "outputs": [
    {
     "name": "stdout",
     "output_type": "stream",
     "text": [
      "              precision    recall  f1-score   support\n",
      "\n",
      "           0       0.89      0.96      0.92     29776\n",
      "           1       0.73      0.49      0.59      7139\n",
      "\n",
      "    accuracy                           0.87     36915\n",
      "   macro avg       0.81      0.72      0.75     36915\n",
      "weighted avg       0.86      0.87      0.86     36915\n",
      "\n"
     ]
    }
   ],
   "source": [
    "from sklearn.metrics import classification_report\n",
    "\n",
    "print(classification_report(y_test, y_pred_test))"
   ]
  },
  {
   "cell_type": "markdown",
   "metadata": {
    "id": "bmanKzjUdETn"
   },
   "source": [
    "### Classification Accuracy <a class=\"anchor\" id=\"16.2\"></a>"
   ]
  },
  {
   "cell_type": "code",
   "execution_count": 458,
   "metadata": {
    "id": "F9MA7jygdETn"
   },
   "outputs": [],
   "source": [
    "TP = cm[0,0]\n",
    "TN = cm[1,1]\n",
    "FP = cm[0,1]\n",
    "FN = cm[1,0]"
   ]
  },
  {
   "cell_type": "code",
   "execution_count": 459,
   "metadata": {
    "colab": {
     "base_uri": "https://localhost:8080/"
    },
    "id": "UjpVyDecdETo",
    "outputId": "9fd0865a-3aee-49f9-d2b9-23a2c1e43c12"
   },
   "outputs": [
    {
     "name": "stdout",
     "output_type": "stream",
     "text": [
      "Classification accuracy : 0.8657\n"
     ]
    }
   ],
   "source": [
    "# print classification accuracy\n",
    "\n",
    "classification_accuracy = (TP + TN) / float(TP + TN + FP + FN)\n",
    "\n",
    "print('Classification accuracy : {0:0.4f}'.format(classification_accuracy))\n"
   ]
  },
  {
   "cell_type": "markdown",
   "metadata": {
    "id": "QLjRE_NRdETo"
   },
   "source": [
    "### Classification Error <a class=\"anchor\" id=\"16.3\"></a>"
   ]
  },
  {
   "cell_type": "code",
   "execution_count": 460,
   "metadata": {
    "colab": {
     "base_uri": "https://localhost:8080/"
    },
    "id": "JjgnidqDdETo",
    "outputId": "b5b7318d-3ac5-443d-d937-2a883ccfe638"
   },
   "outputs": [
    {
     "name": "stdout",
     "output_type": "stream",
     "text": [
      "Classification error : 0.1343\n"
     ]
    }
   ],
   "source": [
    "# print classification error\n",
    "\n",
    "classification_error = (FP + FN) / float(TP + TN + FP + FN)\n",
    "\n",
    "print('Classification error : {0:0.4f}'.format(classification_error))\n"
   ]
  },
  {
   "cell_type": "markdown",
   "metadata": {
    "id": "wEcEc2p2dETo"
   },
   "source": [
    "### Precision <a class=\"anchor\" id=\"16.4\"></a>\n",
    "\n",
    "\n",
    "**Precision** can be defined as the percentage of correctly predicted positive outcomes out of all the predicted positive outcomes. It can be given as the ratio of true positives (TP) to the sum of true and false positives (TP + FP). \n",
    "\n",
    "\n",
    "So, **Precision** identifies the proportion of correctly predicted positive outcome. It is more concerned with the positive class than the negative class.\n",
    "\n",
    "\n",
    "\n",
    "Mathematically, precision can be defined as the ratio of `TP to (TP + FP).`\n",
    "\n",
    "\n"
   ]
  },
  {
   "cell_type": "code",
   "execution_count": 461,
   "metadata": {
    "colab": {
     "base_uri": "https://localhost:8080/"
    },
    "id": "vMtYNZA4dETo",
    "outputId": "c3b8d1fb-0a40-4e0e-ddb7-e07e98f1dae9"
   },
   "outputs": [
    {
     "name": "stdout",
     "output_type": "stream",
     "text": [
      "Precision : 0.9554\n"
     ]
    }
   ],
   "source": [
    "# print precision score\n",
    "\n",
    "precision = TP / float(TP + FP)\n",
    "\n",
    "\n",
    "print('Precision : {0:0.4f}'.format(precision))\n"
   ]
  },
  {
   "cell_type": "markdown",
   "metadata": {
    "id": "Pv3B9cRGdETp"
   },
   "source": [
    "### Recall <a class=\"anchor\" id=\"16.5\"></a>\n",
    "\n",
    "\n",
    "Recall can be defined as the percentage of correctly predicted positive outcomes out of all the actual positive outcomes.\n",
    "It can be given as the ratio of true positives (TP) to the sum of true positives and false negatives (TP + FN). **Recall** is also called **Sensitivity**.\n",
    "\n",
    "\n",
    "**Recall** identifies the proportion of correctly predicted actual positives.\n",
    "\n",
    "\n",
    "Mathematically, recall can be given as the ratio of `TP to (TP + FN).`\n",
    "\n",
    "\n",
    "\n"
   ]
  },
  {
   "cell_type": "code",
   "execution_count": 462,
   "metadata": {
    "colab": {
     "base_uri": "https://localhost:8080/"
    },
    "id": "g8Cdy-6pdETp",
    "outputId": "2ee047b1-491d-4f3f-95e0-d51e0de544df"
   },
   "outputs": [
    {
     "name": "stdout",
     "output_type": "stream",
     "text": [
      "Recall or Sensitivity : 0.8869\n"
     ]
    }
   ],
   "source": [
    "recall = TP / float(TP + FN)\n",
    "\n",
    "print('Recall or Sensitivity : {0:0.4f}'.format(recall))"
   ]
  },
  {
   "cell_type": "markdown",
   "metadata": {
    "id": "Q1oEY-MWdETp"
   },
   "source": [
    "### True Positive Rate <a class=\"anchor\" id=\"16.6\"></a>\n",
    "\n",
    "\n",
    "**True Positive Rate** is synonymous with **Recall**.\n"
   ]
  },
  {
   "cell_type": "code",
   "execution_count": 463,
   "metadata": {
    "colab": {
     "base_uri": "https://localhost:8080/"
    },
    "id": "KlxrTATkdETp",
    "outputId": "e5cd7e4e-0cb4-4634-b389-b5ccf4b19352"
   },
   "outputs": [
    {
     "name": "stdout",
     "output_type": "stream",
     "text": [
      "True Positive Rate : 0.8869\n"
     ]
    }
   ],
   "source": [
    "true_positive_rate = TP / float(TP + FN)\n",
    "\n",
    "\n",
    "print('True Positive Rate : {0:0.4f}'.format(true_positive_rate))"
   ]
  },
  {
   "cell_type": "markdown",
   "metadata": {
    "id": "3HWK1hd4dETp"
   },
   "source": [
    "### False Positive Rate <a class=\"anchor\" id=\"16.7\"></a>"
   ]
  },
  {
   "cell_type": "code",
   "execution_count": 464,
   "metadata": {
    "colab": {
     "base_uri": "https://localhost:8080/"
    },
    "id": "msmRoxozdETq",
    "outputId": "1cce515f-42b9-49c7-fad8-0e88cba16b86"
   },
   "outputs": [
    {
     "name": "stdout",
     "output_type": "stream",
     "text": [
      "False Positive Rate : 0.2743\n"
     ]
    }
   ],
   "source": [
    "false_positive_rate = FP / float(FP + TN)\n",
    "\n",
    "\n",
    "print('False Positive Rate : {0:0.4f}'.format(false_positive_rate))"
   ]
  },
  {
   "cell_type": "markdown",
   "metadata": {
    "id": "XG7uDbQvdETq"
   },
   "source": [
    "### Specificity <a class=\"anchor\" id=\"16.8\"></a>"
   ]
  },
  {
   "cell_type": "code",
   "execution_count": 465,
   "metadata": {
    "colab": {
     "base_uri": "https://localhost:8080/"
    },
    "id": "1pkEMEnpdETq",
    "outputId": "2b0859be-2f60-4b59-c044-c083034a4f5b"
   },
   "outputs": [
    {
     "name": "stdout",
     "output_type": "stream",
     "text": [
      "Specificity : 0.7257\n"
     ]
    }
   ],
   "source": [
    "specificity = TN / (TN + FP)\n",
    "\n",
    "print('Specificity : {0:0.4f}'.format(specificity))"
   ]
  },
  {
   "cell_type": "markdown",
   "metadata": {
    "id": "TfRk6DqhdETq"
   },
   "source": [
    "### f1-score <a class=\"anchor\" id=\"16.9\"></a>\n",
    "\n",
    "\n",
    "**f1-score** is the weighted harmonic mean of precision and recall. The best possible **f1-score** would be 1.0 and the worst \n",
    "would be 0.0.  **f1-score** is the harmonic mean of precision and recall. So, **f1-score** is always lower than accuracy measures as they embed precision and recall into their computation. The weighted average of `f1-score` should be used to \n",
    "compare classifier models, not global accuracy.\n",
    "\n"
   ]
  },
  {
   "cell_type": "code",
   "execution_count": null,
   "metadata": {
    "id": "HfCq6GTexPUM"
   },
   "outputs": [],
   "source": []
  },
  {
   "cell_type": "markdown",
   "metadata": {
    "id": "xmBlOCIzdETv"
   },
   "source": [
    "## Model evaluation and improvement\n",
    "\n",
    "k-fold cross validation` and `hyperparameter optimization using GridSearchCV`."
   ]
  },
  {
   "cell_type": "markdown",
   "metadata": {
    "id": "_aPUGhlWdETz"
   },
   "source": [
    "## 20. k-Fold Cross Validation <a class=\"anchor\" id=\"20\"></a>"
   ]
  },
  {
   "cell_type": "code",
   "execution_count": 466,
   "metadata": {
    "colab": {
     "base_uri": "https://localhost:8080/"
    },
    "id": "l7F6IUkMdETz",
    "outputId": "398b6570-7b74-4a9b-a30a-9a5b22949fda"
   },
   "outputs": [
    {
     "name": "stdout",
     "output_type": "stream",
     "text": [
      "Cross-validation scores:[0.83753217 0.83336719 0.8240214  0.84883682 0.84697437]\n"
     ]
    }
   ],
   "source": [
    "# Applying 5-Fold Cross Validation\n",
    "\n",
    "from sklearn.model_selection import cross_val_score\n",
    "\n",
    "scores = cross_val_score(logreg, X_train, y_train, cv = 5, scoring='accuracy')\n",
    "\n",
    "print('Cross-validation scores:{}'.format(scores))"
   ]
  },
  {
   "cell_type": "code",
   "execution_count": 467,
   "metadata": {
    "colab": {
     "base_uri": "https://localhost:8080/"
    },
    "id": "krhUUHpLdETz",
    "outputId": "967c6ca2-6b9f-41f6-cc75-34e72f0bbae2"
   },
   "outputs": [
    {
     "name": "stdout",
     "output_type": "stream",
     "text": [
      "Average cross-validation score: 0.8381\n"
     ]
    }
   ],
   "source": [
    "# compute Average cross-validation score\n",
    "\n",
    "print('Average cross-validation score: {:.4f}'.format(scores.mean()))"
   ]
  },
  {
   "cell_type": "markdown",
   "metadata": {
    "id": "ehtHVLCddETz"
   },
   "source": [
    "Our, original model score is found to be 0.8656. The average cross-validation score is 0.8513. So, we can conclude that cross-validation does not result in performance improvement."
   ]
  },
  {
   "cell_type": "markdown",
   "metadata": {
    "id": "HwfaCE4ndETz"
   },
   "source": [
    "## 21. Hyperparameter Optimization using GridSearch CV <a class=\"anchor\" id=\"21\"></a>"
   ]
  },
  {
   "cell_type": "code",
   "execution_count": 468,
   "metadata": {
    "colab": {
     "base_uri": "https://localhost:8080/"
    },
    "id": "IA_rKEeFdET0",
    "outputId": "5eb2a82b-86f5-4d63-afdf-6bc464e48f60",
    "scrolled": true
   },
   "outputs": [
    {
     "data": {
      "text/plain": [
       "GridSearchCV(cv=5,\n",
       "             estimator=LogisticRegression(random_state=0, solver='liblinear'),\n",
       "             param_grid=[{'penalty': ['l1', 'l2']}, {'C': [1, 10, 100, 1000]}],\n",
       "             scoring='accuracy')"
      ]
     },
     "execution_count": 468,
     "metadata": {},
     "output_type": "execute_result"
    }
   ],
   "source": [
    "from sklearn.model_selection import GridSearchCV\n",
    "\n",
    "\n",
    "parameters = [{'penalty':['l1','l2']}, \n",
    "              {'C':[1, 10, 100, 1000]}]\n",
    "\n",
    "\n",
    "\n",
    "grid_search = GridSearchCV(estimator = logreg,  \n",
    "                           param_grid = parameters,\n",
    "                           scoring = 'accuracy',\n",
    "                           cv = 5,\n",
    "                           verbose=0)\n",
    "\n",
    "\n",
    "grid_search.fit(X_train, y_train)\n"
   ]
  },
  {
   "cell_type": "code",
   "execution_count": 469,
   "metadata": {
    "colab": {
     "base_uri": "https://localhost:8080/"
    },
    "id": "7qrJ1UK7dET0",
    "outputId": "ff55d65f-9ea7-44d2-bc19-aa38aca52ef1"
   },
   "outputs": [
    {
     "name": "stdout",
     "output_type": "stream",
     "text": [
      "GridSearch CV best score : 0.8381\n",
      "\n",
      "\n",
      "Parameters that give the best results : \n",
      "\n",
      " {'penalty': 'l1'}\n",
      "\n",
      "\n",
      "Estimator that was chosen by the search : \n",
      "\n",
      " LogisticRegression(penalty='l1', random_state=0, solver='liblinear')\n"
     ]
    }
   ],
   "source": [
    "# examine the best model\n",
    "\n",
    "# best score achieved during the GridSearchCV\n",
    "print('GridSearch CV best score : {:.4f}\\n\\n'.format(grid_search.best_score_))\n",
    "\n",
    "# print parameters that give the best results\n",
    "print('Parameters that give the best results :','\\n\\n', (grid_search.best_params_))\n",
    "\n",
    "# print estimator that was chosen by the GridSearch\n",
    "print('\\n\\nEstimator that was chosen by the search :','\\n\\n', (grid_search.best_estimator_))"
   ]
  },
  {
   "cell_type": "code",
   "execution_count": 470,
   "metadata": {
    "colab": {
     "base_uri": "https://localhost:8080/"
    },
    "id": "MK4r-KF2dET0",
    "outputId": "be8e6838-5220-4dd7-d188-5c0dac9216ba"
   },
   "outputs": [
    {
     "name": "stdout",
     "output_type": "stream",
     "text": [
      "GridSearch CV score on test set: 0.8658\n"
     ]
    }
   ],
   "source": [
    "# calculate GridSearch CV score on test set\n",
    "\n",
    "print('GridSearch CV score on test set: {0:0.4f}'.format(grid_search.score(X_test, y_test)))"
   ]
  },
  {
   "cell_type": "markdown",
   "metadata": {
    "id": "JBpVAih3dET0"
   },
   "source": [
    "### Comments\n",
    "\n",
    "\n",
    "- Our original model test accuracy is 0.8656 while GridSearch CV accuracy is 0.8657.\n",
    "\n",
    "\n",
    "- We can see that GridSearch CV does not improve the performance much for this particular model."
   ]
  },
  {
   "cell_type": "markdown",
   "metadata": {
    "id": "JZJm8Rhi7ysL"
   },
   "source": [
    "## Random Forest Classifier"
   ]
  },
  {
   "cell_type": "code",
   "execution_count": 471,
   "metadata": {
    "colab": {
     "base_uri": "https://localhost:8080/"
    },
    "id": "oZjlMdf374cl",
    "outputId": "4a24e50c-b9b7-427a-e2ef-a263c37c8d7e"
   },
   "outputs": [
    {
     "data": {
      "text/plain": [
       "RandomForestClassifier(n_estimators=10)"
      ]
     },
     "execution_count": 471,
     "metadata": {},
     "output_type": "execute_result"
    }
   ],
   "source": [
    "from sklearn.ensemble import RandomForestClassifier\n",
    "from sklearn.metrics import confusion_matrix, accuracy_score, classification_report # To get models info.\n",
    "\n",
    "Randfor = RandomForestClassifier(n_estimators=10)\n",
    "Randfor.fit(X_train, y_train)"
   ]
  },
  {
   "cell_type": "code",
   "execution_count": 472,
   "metadata": {
    "colab": {
     "base_uri": "https://localhost:8080/"
    },
    "id": "8dRiGtnz8UdC",
    "outputId": "d95e2f1d-1321-4fca-cf3b-21e73cfd312b"
   },
   "outputs": [
    {
     "data": {
      "text/plain": [
       "array([0, 0, 0, ..., 0, 0, 0])"
      ]
     },
     "execution_count": 472,
     "metadata": {},
     "output_type": "execute_result"
    }
   ],
   "source": [
    "y_pred_test = Randfor.predict(X_test)\n",
    "y_pred_test"
   ]
  },
  {
   "cell_type": "code",
   "execution_count": 473,
   "metadata": {
    "colab": {
     "base_uri": "https://localhost:8080/"
    },
    "id": "qJMLn2wT833A",
    "outputId": "12eb6960-ba71-4e1e-ea67-4f02d86bb7f0"
   },
   "outputs": [
    {
     "name": "stdout",
     "output_type": "stream",
     "text": [
      "Model accuracy score: 0.8591\n"
     ]
    }
   ],
   "source": [
    "print('Model accuracy score: {0:0.4f}'. format(accuracy_score(y_test, y_pred_test)))"
   ]
  },
  {
   "cell_type": "code",
   "execution_count": 474,
   "metadata": {
    "colab": {
     "base_uri": "https://localhost:8080/"
    },
    "id": "xHGbFfVOBE7U",
    "outputId": "bf64d527-2943-40fc-db78-6f484971621e"
   },
   "outputs": [
    {
     "name": "stdout",
     "output_type": "stream",
     "text": [
      "              precision    recall  f1-score   support\n",
      "\n",
      "           0       0.88      0.96      0.92     29776\n",
      "           1       0.72      0.45      0.55      7139\n",
      "\n",
      "    accuracy                           0.86     36915\n",
      "   macro avg       0.80      0.70      0.73     36915\n",
      "weighted avg       0.85      0.86      0.85     36915\n",
      "\n"
     ]
    }
   ],
   "source": [
    "print(classification_report(y_test, y_pred_test))"
   ]
  },
  {
   "cell_type": "markdown",
   "metadata": {
    "id": "HStvkyOlDppf"
   },
   "source": [
    "## Decision Trees\n"
   ]
  },
  {
   "cell_type": "code",
   "execution_count": 475,
   "metadata": {
    "colab": {
     "base_uri": "https://localhost:8080/"
    },
    "id": "7ibNHH6QDu3r",
    "outputId": "8396adea-db77-42a9-c99f-2833dfe7c662"
   },
   "outputs": [
    {
     "data": {
      "text/plain": [
       "DecisionTreeClassifier()"
      ]
     },
     "execution_count": 475,
     "metadata": {},
     "output_type": "execute_result"
    }
   ],
   "source": [
    "from sklearn.tree import DecisionTreeClassifier\n",
    "Dectree = DecisionTreeClassifier()\n",
    "Dectree.fit(X_train, y_train)"
   ]
  },
  {
   "cell_type": "code",
   "execution_count": 476,
   "metadata": {
    "colab": {
     "base_uri": "https://localhost:8080/"
    },
    "id": "pTCcNI0lEMDR",
    "outputId": "d1d5f05f-9dc7-4dbe-80e7-c8501b723f92"
   },
   "outputs": [
    {
     "data": {
      "text/plain": [
       "array([0, 0, 1, ..., 0, 0, 0])"
      ]
     },
     "execution_count": 476,
     "metadata": {},
     "output_type": "execute_result"
    }
   ],
   "source": [
    "y_pred_test = Dectree.predict(X_test)\n",
    "y_pred_test"
   ]
  },
  {
   "cell_type": "code",
   "execution_count": 477,
   "metadata": {
    "colab": {
     "base_uri": "https://localhost:8080/"
    },
    "id": "ycshQMCbEOLM",
    "outputId": "fa85a99f-dbb3-4fd2-9007-364a0b8a58d2"
   },
   "outputs": [
    {
     "name": "stdout",
     "output_type": "stream",
     "text": [
      "Model accuracy score: 0.7932\n"
     ]
    }
   ],
   "source": [
    "print('Model accuracy score: {0:0.4f}'. format(accuracy_score(y_test, y_pred_test)))"
   ]
  },
  {
   "cell_type": "code",
   "execution_count": 478,
   "metadata": {
    "colab": {
     "base_uri": "https://localhost:8080/"
    },
    "id": "Y7ZQAXyFBC1h",
    "outputId": "58fe032f-4e15-4593-b118-5ecee43b8753"
   },
   "outputs": [
    {
     "name": "stdout",
     "output_type": "stream",
     "text": [
      "              precision    recall  f1-score   support\n",
      "\n",
      "           0       0.88      0.86      0.87     29776\n",
      "           1       0.47      0.51      0.49      7139\n",
      "\n",
      "    accuracy                           0.79     36915\n",
      "   macro avg       0.67      0.69      0.68     36915\n",
      "weighted avg       0.80      0.79      0.80     36915\n",
      "\n"
     ]
    }
   ],
   "source": [
    "print(classification_report(y_test, y_pred_test))"
   ]
  },
  {
   "cell_type": "markdown",
   "metadata": {
    "id": "169ijaM11hhD"
   },
   "source": [
    "## 22. Dense Neural Network"
   ]
  },
  {
   "cell_type": "code",
   "execution_count": 479,
   "metadata": {
    "colab": {
     "base_uri": "https://localhost:8080/"
    },
    "id": "ML7Wd0Or1rgV",
    "outputId": "f31a1a18-2bfc-48c1-db38-6cd0b9a6a39c"
   },
   "outputs": [
    {
     "data": {
      "text/plain": [
       "((147658, 21), (36915, 21), (147658,), (36915,), (147658,), (36915,))"
      ]
     },
     "execution_count": 479,
     "metadata": {},
     "output_type": "execute_result"
    }
   ],
   "source": [
    "X_train.shape, X_test.shape, y_train.shape, y_test.shape, y_pred_train.shape, y_pred_test.shape"
   ]
  },
  {
   "cell_type": "code",
   "execution_count": 480,
   "metadata": {
    "id": "iNBGObKk5dYG"
   },
   "outputs": [],
   "source": [
    "X_train_old=X_train.copy()\n",
    "X_test_old=X_test.copy()\n",
    "y_train_old=y_train.copy()\n",
    "y_test_old=y_test.copy()"
   ]
  },
  {
   "cell_type": "markdown",
   "metadata": {
    "id": "LjuSQUUccCMV"
   },
   "source": [
    "#### Formatting Date.\n",
    "\n",
    "Encoding dates appropriately, the months and days format in a cyclic continuous feature. As, date and time are inherently cyclical. To let the ANN model know that a feature is cyclical, splitting them into periodic subsections such as years, months and days and creating two new features, deriving a sine transform and cosine transform of the each subsection feature. Thus we obtain Month_sin, Month_cos, Day_sin, Day_cos."
   ]
  },
  {
   "cell_type": "code",
   "execution_count": 481,
   "metadata": {
    "colab": {
     "base_uri": "https://localhost:8080/",
     "height": 309
    },
    "id": "iMOt5gJbRwOM",
    "outputId": "1a1d11d6-1201-4a12-ea4f-3e2931b7b35c"
   },
   "outputs": [
    {
     "data": {
      "text/html": [
       "<div>\n",
       "<style scoped>\n",
       "    .dataframe tbody tr th:only-of-type {\n",
       "        vertical-align: middle;\n",
       "    }\n",
       "\n",
       "    .dataframe tbody tr th {\n",
       "        vertical-align: top;\n",
       "    }\n",
       "\n",
       "    .dataframe thead th {\n",
       "        text-align: right;\n",
       "    }\n",
       "</style>\n",
       "<table border=\"1\" class=\"dataframe\">\n",
       "  <thead>\n",
       "    <tr style=\"text-align: right;\">\n",
       "      <th></th>\n",
       "      <th>Location</th>\n",
       "      <th>MinTemp</th>\n",
       "      <th>MaxTemp</th>\n",
       "      <th>Rainfall</th>\n",
       "      <th>Evaporation</th>\n",
       "      <th>Sunshine</th>\n",
       "      <th>WindGustDir</th>\n",
       "      <th>WindGustSpeed</th>\n",
       "      <th>WindDir9am</th>\n",
       "      <th>WindDir3pm</th>\n",
       "      <th>...</th>\n",
       "      <th>Cloud3pm</th>\n",
       "      <th>RainToday</th>\n",
       "      <th>RainTomorrow</th>\n",
       "      <th>Year</th>\n",
       "      <th>Month</th>\n",
       "      <th>Day</th>\n",
       "      <th>Month_sin</th>\n",
       "      <th>Month_cos</th>\n",
       "      <th>Day_sin</th>\n",
       "      <th>Day_cos</th>\n",
       "    </tr>\n",
       "  </thead>\n",
       "  <tbody>\n",
       "    <tr>\n",
       "      <th>0</th>\n",
       "      <td>2</td>\n",
       "      <td>13.4</td>\n",
       "      <td>22.9</td>\n",
       "      <td>0.6</td>\n",
       "      <td>NaN</td>\n",
       "      <td>NaN</td>\n",
       "      <td>13</td>\n",
       "      <td>44.0</td>\n",
       "      <td>13</td>\n",
       "      <td>14</td>\n",
       "      <td>...</td>\n",
       "      <td>NaN</td>\n",
       "      <td>0</td>\n",
       "      <td>0</td>\n",
       "      <td>2008</td>\n",
       "      <td>12</td>\n",
       "      <td>1</td>\n",
       "      <td>-2.449294e-16</td>\n",
       "      <td>1.0</td>\n",
       "      <td>0.201299</td>\n",
       "      <td>0.979530</td>\n",
       "    </tr>\n",
       "    <tr>\n",
       "      <th>1</th>\n",
       "      <td>2</td>\n",
       "      <td>7.4</td>\n",
       "      <td>25.1</td>\n",
       "      <td>0.0</td>\n",
       "      <td>NaN</td>\n",
       "      <td>NaN</td>\n",
       "      <td>14</td>\n",
       "      <td>44.0</td>\n",
       "      <td>6</td>\n",
       "      <td>15</td>\n",
       "      <td>...</td>\n",
       "      <td>NaN</td>\n",
       "      <td>0</td>\n",
       "      <td>0</td>\n",
       "      <td>2008</td>\n",
       "      <td>12</td>\n",
       "      <td>2</td>\n",
       "      <td>-2.449294e-16</td>\n",
       "      <td>1.0</td>\n",
       "      <td>0.394356</td>\n",
       "      <td>0.918958</td>\n",
       "    </tr>\n",
       "    <tr>\n",
       "      <th>2</th>\n",
       "      <td>2</td>\n",
       "      <td>12.9</td>\n",
       "      <td>25.7</td>\n",
       "      <td>0.0</td>\n",
       "      <td>NaN</td>\n",
       "      <td>NaN</td>\n",
       "      <td>15</td>\n",
       "      <td>46.0</td>\n",
       "      <td>13</td>\n",
       "      <td>15</td>\n",
       "      <td>...</td>\n",
       "      <td>2.0</td>\n",
       "      <td>0</td>\n",
       "      <td>0</td>\n",
       "      <td>2008</td>\n",
       "      <td>12</td>\n",
       "      <td>3</td>\n",
       "      <td>-2.449294e-16</td>\n",
       "      <td>1.0</td>\n",
       "      <td>0.571268</td>\n",
       "      <td>0.820763</td>\n",
       "    </tr>\n",
       "    <tr>\n",
       "      <th>3</th>\n",
       "      <td>2</td>\n",
       "      <td>9.2</td>\n",
       "      <td>28.0</td>\n",
       "      <td>0.0</td>\n",
       "      <td>NaN</td>\n",
       "      <td>NaN</td>\n",
       "      <td>4</td>\n",
       "      <td>24.0</td>\n",
       "      <td>9</td>\n",
       "      <td>0</td>\n",
       "      <td>...</td>\n",
       "      <td>NaN</td>\n",
       "      <td>0</td>\n",
       "      <td>0</td>\n",
       "      <td>2008</td>\n",
       "      <td>12</td>\n",
       "      <td>4</td>\n",
       "      <td>-2.449294e-16</td>\n",
       "      <td>1.0</td>\n",
       "      <td>0.724793</td>\n",
       "      <td>0.688967</td>\n",
       "    </tr>\n",
       "    <tr>\n",
       "      <th>4</th>\n",
       "      <td>2</td>\n",
       "      <td>17.5</td>\n",
       "      <td>32.3</td>\n",
       "      <td>1.0</td>\n",
       "      <td>NaN</td>\n",
       "      <td>NaN</td>\n",
       "      <td>13</td>\n",
       "      <td>41.0</td>\n",
       "      <td>1</td>\n",
       "      <td>7</td>\n",
       "      <td>...</td>\n",
       "      <td>8.0</td>\n",
       "      <td>0</td>\n",
       "      <td>0</td>\n",
       "      <td>2008</td>\n",
       "      <td>12</td>\n",
       "      <td>5</td>\n",
       "      <td>-2.449294e-16</td>\n",
       "      <td>1.0</td>\n",
       "      <td>0.848644</td>\n",
       "      <td>0.528964</td>\n",
       "    </tr>\n",
       "  </tbody>\n",
       "</table>\n",
       "<p>5 rows × 26 columns</p>\n",
       "</div>"
      ],
      "text/plain": [
       "   Location  MinTemp  MaxTemp  Rainfall  Evaporation  Sunshine  WindGustDir  \\\n",
       "0         2     13.4     22.9       0.6          NaN       NaN           13   \n",
       "1         2      7.4     25.1       0.0          NaN       NaN           14   \n",
       "2         2     12.9     25.7       0.0          NaN       NaN           15   \n",
       "3         2      9.2     28.0       0.0          NaN       NaN            4   \n",
       "4         2     17.5     32.3       1.0          NaN       NaN           13   \n",
       "\n",
       "   WindGustSpeed  WindDir9am  WindDir3pm  ...  Cloud3pm  RainToday  \\\n",
       "0           44.0          13          14  ...       NaN          0   \n",
       "1           44.0           6          15  ...       NaN          0   \n",
       "2           46.0          13          15  ...       2.0          0   \n",
       "3           24.0           9           0  ...       NaN          0   \n",
       "4           41.0           1           7  ...       8.0          0   \n",
       "\n",
       "   RainTomorrow  Year  Month  Day     Month_sin  Month_cos   Day_sin   Day_cos  \n",
       "0             0  2008     12    1 -2.449294e-16        1.0  0.201299  0.979530  \n",
       "1             0  2008     12    2 -2.449294e-16        1.0  0.394356  0.918958  \n",
       "2             0  2008     12    3 -2.449294e-16        1.0  0.571268  0.820763  \n",
       "3             0  2008     12    4 -2.449294e-16        1.0  0.724793  0.688967  \n",
       "4             0  2008     12    5 -2.449294e-16        1.0  0.848644  0.528964  \n",
       "\n",
       "[5 rows x 26 columns]"
      ]
     },
     "execution_count": 481,
     "metadata": {},
     "output_type": "execute_result"
    }
   ],
   "source": [
    "# Below is the fucntion to encode datetime into cyclic parameters. \n",
    "# We prefer the months and days in a cyclic continuous feature as we plan to use this data in a neural network  \n",
    "def encode(data, col, max_val):\n",
    "    data[col + '_sin'] = np.sin(2 * np.pi * data[col]/max_val)\n",
    "    data[col + '_cos'] = np.cos(2 * np.pi * data[col]/max_val)\n",
    "    return data\n",
    "\n",
    "\n",
    "df = encode(df, 'Month', 12)\n",
    "\n",
    "df = encode(df,  'Day', 31)\n",
    "\n",
    "df.head()"
   ]
  },
  {
   "cell_type": "code",
   "execution_count": 482,
   "metadata": {
    "colab": {
     "base_uri": "https://localhost:8080/",
     "height": 312
    },
    "id": "iSBZunXrSljt",
    "outputId": "874197db-af76-4170-a68b-03e30557e83e"
   },
   "outputs": [
    {
     "data": {
      "text/plain": [
       "Text(0.5, 0, 'Sine Encoded Months')"
      ]
     },
     "execution_count": 482,
     "metadata": {},
     "output_type": "execute_result"
    },
    {
     "data": {
      "image/png": "[encoded data removed]",
      "text/plain": [
       "<Figure size 432x288 with 1 Axes>"
      ]
     },
     "metadata": {
      "needs_background": "light"
     },
     "output_type": "display_data"
    }
   ],
   "source": [
    "# # Plotting Encoded Months\n",
    "cyclic_month = sns.scatterplot(x=\"Month_sin\",y=\"Month_cos\",data=df, color=\"#C2C4E2\")\n",
    "cyclic_month.set_title(\"Cyclic Encoding of Month\")\n",
    "cyclic_month.set_ylabel(\"Cosine Encoded Months\")\n",
    "cyclic_month.set_xlabel(\"Sine Encoded Months\")"
   ]
  },
  {
   "cell_type": "code",
   "execution_count": 483,
   "metadata": {
    "colab": {
     "base_uri": "https://localhost:8080/",
     "height": 312
    },
    "id": "hRVd97gtSqMD",
    "outputId": "42e9dad9-cbd6-4d5d-bb3f-8b138955f87c",
    "scrolled": true
   },
   "outputs": [
    {
     "data": {
      "text/plain": [
       "Text(0.5, 0, 'Sine Encoded Day')"
      ]
     },
     "execution_count": 483,
     "metadata": {},
     "output_type": "execute_result"
    },
    {
     "data": {
      "image/png": "[encoded data removed]",
      "text/plain": [
       "<Figure size 432x288 with 1 Axes>"
      ]
     },
     "metadata": {
      "needs_background": "light"
     },
     "output_type": "display_data"
    }
   ],
   "source": [
    "# # Plotting Encoded days\n",
    "cyclic_day = sns.scatterplot(x='Day_sin',y='Day_cos',data=df, color=\"#C2C4E2\")\n",
    "cyclic_day.set_title(\"Cyclic Encoding of Day\")\n",
    "cyclic_day.set_ylabel(\"Cosine Encoded Day\")\n",
    "cyclic_day.set_xlabel(\"Sine Encoded Day\")"
   ]
  },
  {
   "cell_type": "code",
   "execution_count": 484,
   "metadata": {
    "id": "pIVpyTouSuqG"
   },
   "outputs": [],
   "source": [
    "# Removing Extra Features before splitting\n",
    "X = df.drop([\"RainTomorrow\", 'Day', 'Month'], axis=1)\n",
    "#X = df.drop([\"RainTomorrow\"], axis=1)\n",
    "y = df[\"RainTomorrow\"]"
   ]
  },
  {
   "cell_type": "code",
   "execution_count": 485,
   "metadata": {
    "colab": {
     "base_uri": "https://localhost:8080/"
    },
    "id": "2Hk5DE5hSuxi",
    "outputId": "b522e302-7b08-4117-87d7-874c4fc94c65"
   },
   "outputs": [
    {
     "data": {
      "text/plain": [
       "((147658, 23), (36915, 23), (147658,), (36915,))"
      ]
     },
     "execution_count": 485,
     "metadata": {},
     "output_type": "execute_result"
    }
   ],
   "source": [
    "X_train, X_test, y_train, y_test = train_test_split(X, y, test_size = 0.2, random_state = 0, shuffle = False, stratify = None)\n",
    "\n",
    "X_train.shape, X_test.shape, y_train.shape, y_test.shape"
   ]
  },
  {
   "cell_type": "code",
   "execution_count": 486,
   "metadata": {
    "id": "du2_-r1jSu0Y"
   },
   "outputs": [],
   "source": [
    "# impute missing values in X_train and X_test with respective column median in X_train\n",
    "\n",
    "for df1 in [X_train, X_test]:\n",
    "    for col in X_train.columns:\n",
    "        col_median=X_train[col].median()\n",
    "        df1[col].fillna(col_median, inplace=True)           \n",
    "      "
   ]
  },
  {
   "cell_type": "code",
   "execution_count": 487,
   "metadata": {
    "colab": {
     "base_uri": "https://localhost:8080/"
    },
    "id": "dHc6SycPSu3D",
    "outputId": "a27f2dd1-5106-481b-ce98-6fad90523335"
   },
   "outputs": [
    {
     "data": {
      "text/plain": [
       "Location         0\n",
       "MinTemp          0\n",
       "MaxTemp          0\n",
       "Rainfall         0\n",
       "Evaporation      0\n",
       "Sunshine         0\n",
       "WindGustDir      0\n",
       "WindGustSpeed    0\n",
       "WindDir9am       0\n",
       "WindDir3pm       0\n",
       "WindSpeed9am     0\n",
       "WindSpeed3pm     0\n",
       "Humidity9am      0\n",
       "Humidity3pm      0\n",
       "Pressure3pm      0\n",
       "Cloud9am         0\n",
       "Cloud3pm         0\n",
       "RainToday        0\n",
       "Year             0\n",
       "Month_sin        0\n",
       "Month_cos        0\n",
       "Day_sin          0\n",
       "Day_cos          0\n",
       "dtype: int64"
      ]
     },
     "execution_count": 487,
     "metadata": {},
     "output_type": "execute_result"
    }
   ],
   "source": [
    "X_train.isnull().sum()"
   ]
  },
  {
   "cell_type": "code",
   "execution_count": 488,
   "metadata": {
    "colab": {
     "base_uri": "https://localhost:8080/"
    },
    "id": "z9KXvOfSVZUv",
    "outputId": "ae768968-dd81-49db-a9da-7ffd6ae07a4d"
   },
   "outputs": [
    {
     "data": {
      "text/plain": [
       "((147658, 23), (36915, 23))"
      ]
     },
     "execution_count": 488,
     "metadata": {},
     "output_type": "execute_result"
    }
   ],
   "source": [
    "X_train.shape, X_test.shape"
   ]
  },
  {
   "cell_type": "code",
   "execution_count": 489,
   "metadata": {
    "id": "n2bWj_aFVZU2"
   },
   "outputs": [],
   "source": [
    "cols = X_train.columns"
   ]
  },
  {
   "cell_type": "code",
   "execution_count": 490,
   "metadata": {
    "id": "_sl_Y5g_VZU2"
   },
   "outputs": [],
   "source": [
    "#Set up a MinMax scaler for the features\n",
    "from sklearn.preprocessing import MinMaxScaler\n",
    "\n",
    "scaler = MinMaxScaler()\n",
    "\n",
    "X_train = scaler.fit_transform(X_train)\n",
    "\n",
    "X_test = scaler.transform(X_test)\n"
   ]
  },
  {
   "cell_type": "code",
   "execution_count": 491,
   "metadata": {
    "id": "vZ42QfpjVZU2"
   },
   "outputs": [],
   "source": [
    "X_train = pd.DataFrame(X_train, columns=[cols])"
   ]
  },
  {
   "cell_type": "code",
   "execution_count": 492,
   "metadata": {
    "id": "2jbRfHuIVZU3"
   },
   "outputs": [],
   "source": [
    "X_test = pd.DataFrame(X_test, columns=[cols])"
   ]
  },
  {
   "cell_type": "code",
   "execution_count": 493,
   "metadata": {
    "colab": {
     "base_uri": "https://localhost:8080/",
     "height": 317
    },
    "id": "io0wzkpVVZU3",
    "outputId": "c5a03bbb-6ca4-4078-e711-0a9b1304cae5"
   },
   "outputs": [
    {
     "data": {
      "text/html": [
       "<div>\n",
       "<style scoped>\n",
       "    .dataframe tbody tr th:only-of-type {\n",
       "        vertical-align: middle;\n",
       "    }\n",
       "\n",
       "    .dataframe tbody tr th {\n",
       "        vertical-align: top;\n",
       "    }\n",
       "\n",
       "    .dataframe thead tr th {\n",
       "        text-align: left;\n",
       "    }\n",
       "</style>\n",
       "<table border=\"1\" class=\"dataframe\">\n",
       "  <thead>\n",
       "    <tr>\n",
       "      <th></th>\n",
       "      <th>Location</th>\n",
       "      <th>MinTemp</th>\n",
       "      <th>MaxTemp</th>\n",
       "      <th>Rainfall</th>\n",
       "      <th>Evaporation</th>\n",
       "      <th>Sunshine</th>\n",
       "      <th>WindGustDir</th>\n",
       "      <th>WindGustSpeed</th>\n",
       "      <th>WindDir9am</th>\n",
       "      <th>WindDir3pm</th>\n",
       "      <th>...</th>\n",
       "      <th>Humidity3pm</th>\n",
       "      <th>Pressure3pm</th>\n",
       "      <th>Cloud9am</th>\n",
       "      <th>Cloud3pm</th>\n",
       "      <th>RainToday</th>\n",
       "      <th>Year</th>\n",
       "      <th>Month_sin</th>\n",
       "      <th>Month_cos</th>\n",
       "      <th>Day_sin</th>\n",
       "      <th>Day_cos</th>\n",
       "    </tr>\n",
       "  </thead>\n",
       "  <tbody>\n",
       "    <tr>\n",
       "      <th>count</th>\n",
       "      <td>147658.000000</td>\n",
       "      <td>147658.000000</td>\n",
       "      <td>147658.000000</td>\n",
       "      <td>147658.000000</td>\n",
       "      <td>147658.000000</td>\n",
       "      <td>147658.000000</td>\n",
       "      <td>147658.000000</td>\n",
       "      <td>147658.000000</td>\n",
       "      <td>147658.000000</td>\n",
       "      <td>147658.000000</td>\n",
       "      <td>...</td>\n",
       "      <td>147658.000000</td>\n",
       "      <td>147658.000000</td>\n",
       "      <td>147658.000000</td>\n",
       "      <td>147658.000000</td>\n",
       "      <td>147658.000000</td>\n",
       "      <td>147658.000000</td>\n",
       "      <td>147658.000000</td>\n",
       "      <td>147658.000000</td>\n",
       "      <td>147658.000000</td>\n",
       "      <td>147658.000000</td>\n",
       "    </tr>\n",
       "    <tr>\n",
       "      <th>mean</th>\n",
       "      <td>0.493035</td>\n",
       "      <td>0.482723</td>\n",
       "      <td>0.507326</td>\n",
       "      <td>0.004858</td>\n",
       "      <td>0.037209</td>\n",
       "      <td>0.542021</td>\n",
       "      <td>0.534856</td>\n",
       "      <td>0.284975</td>\n",
       "      <td>0.519729</td>\n",
       "      <td>0.508136</td>\n",
       "      <td>...</td>\n",
       "      <td>0.522283</td>\n",
       "      <td>0.622384</td>\n",
       "      <td>0.582161</td>\n",
       "      <td>0.537530</td>\n",
       "      <td>0.221051</td>\n",
       "      <td>0.528648</td>\n",
       "      <td>0.491376</td>\n",
       "      <td>0.499620</td>\n",
       "      <td>0.500759</td>\n",
       "      <td>0.488837</td>\n",
       "    </tr>\n",
       "    <tr>\n",
       "      <th>std</th>\n",
       "      <td>0.303268</td>\n",
       "      <td>0.147593</td>\n",
       "      <td>0.130442</td>\n",
       "      <td>0.017954</td>\n",
       "      <td>0.022553</td>\n",
       "      <td>0.176276</td>\n",
       "      <td>0.311401</td>\n",
       "      <td>0.099531</td>\n",
       "      <td>0.305004</td>\n",
       "      <td>0.301797</td>\n",
       "      <td>...</td>\n",
       "      <td>0.204419</td>\n",
       "      <td>0.110576</td>\n",
       "      <td>0.255315</td>\n",
       "      <td>0.225914</td>\n",
       "      <td>0.414956</td>\n",
       "      <td>0.263938</td>\n",
       "      <td>0.351773</td>\n",
       "      <td>0.355222</td>\n",
       "      <td>0.356966</td>\n",
       "      <td>0.351338</td>\n",
       "    </tr>\n",
       "    <tr>\n",
       "      <th>min</th>\n",
       "      <td>0.000000</td>\n",
       "      <td>0.000000</td>\n",
       "      <td>0.000000</td>\n",
       "      <td>0.000000</td>\n",
       "      <td>0.000000</td>\n",
       "      <td>0.000000</td>\n",
       "      <td>0.000000</td>\n",
       "      <td>0.000000</td>\n",
       "      <td>0.000000</td>\n",
       "      <td>0.000000</td>\n",
       "      <td>...</td>\n",
       "      <td>0.000000</td>\n",
       "      <td>0.000000</td>\n",
       "      <td>0.000000</td>\n",
       "      <td>0.000000</td>\n",
       "      <td>0.000000</td>\n",
       "      <td>0.000000</td>\n",
       "      <td>0.000000</td>\n",
       "      <td>0.000000</td>\n",
       "      <td>0.000000</td>\n",
       "      <td>0.000000</td>\n",
       "    </tr>\n",
       "    <tr>\n",
       "      <th>25%</th>\n",
       "      <td>0.208333</td>\n",
       "      <td>0.377934</td>\n",
       "      <td>0.411321</td>\n",
       "      <td>0.000000</td>\n",
       "      <td>0.034354</td>\n",
       "      <td>0.565517</td>\n",
       "      <td>0.250000</td>\n",
       "      <td>0.218045</td>\n",
       "      <td>0.250000</td>\n",
       "      <td>0.250000</td>\n",
       "      <td>...</td>\n",
       "      <td>0.380000</td>\n",
       "      <td>0.554054</td>\n",
       "      <td>0.444444</td>\n",
       "      <td>0.555556</td>\n",
       "      <td>0.000000</td>\n",
       "      <td>0.285714</td>\n",
       "      <td>0.066987</td>\n",
       "      <td>0.066987</td>\n",
       "      <td>0.137138</td>\n",
       "      <td>0.118359</td>\n",
       "    </tr>\n",
       "    <tr>\n",
       "      <th>50%</th>\n",
       "      <td>0.500000</td>\n",
       "      <td>0.481221</td>\n",
       "      <td>0.500000</td>\n",
       "      <td>0.000000</td>\n",
       "      <td>0.034354</td>\n",
       "      <td>0.565517</td>\n",
       "      <td>0.562500</td>\n",
       "      <td>0.278195</td>\n",
       "      <td>0.500000</td>\n",
       "      <td>0.500000</td>\n",
       "      <td>...</td>\n",
       "      <td>0.530000</td>\n",
       "      <td>0.621622</td>\n",
       "      <td>0.666667</td>\n",
       "      <td>0.555556</td>\n",
       "      <td>0.000000</td>\n",
       "      <td>0.500000</td>\n",
       "      <td>0.500000</td>\n",
       "      <td>0.500000</td>\n",
       "      <td>0.500000</td>\n",
       "      <td>0.473324</td>\n",
       "    </tr>\n",
       "    <tr>\n",
       "      <th>75%</th>\n",
       "      <td>0.770833</td>\n",
       "      <td>0.593897</td>\n",
       "      <td>0.596226</td>\n",
       "      <td>0.001266</td>\n",
       "      <td>0.034354</td>\n",
       "      <td>0.565517</td>\n",
       "      <td>0.812500</td>\n",
       "      <td>0.330827</td>\n",
       "      <td>0.750000</td>\n",
       "      <td>0.750000</td>\n",
       "      <td>...</td>\n",
       "      <td>0.660000</td>\n",
       "      <td>0.692568</td>\n",
       "      <td>0.777778</td>\n",
       "      <td>0.666667</td>\n",
       "      <td>0.000000</td>\n",
       "      <td>0.785714</td>\n",
       "      <td>0.750000</td>\n",
       "      <td>0.933013</td>\n",
       "      <td>0.862862</td>\n",
       "      <td>0.844083</td>\n",
       "    </tr>\n",
       "    <tr>\n",
       "      <th>max</th>\n",
       "      <td>1.000000</td>\n",
       "      <td>1.000000</td>\n",
       "      <td>1.000000</td>\n",
       "      <td>1.000000</td>\n",
       "      <td>1.000000</td>\n",
       "      <td>1.000000</td>\n",
       "      <td>1.000000</td>\n",
       "      <td>1.000000</td>\n",
       "      <td>1.000000</td>\n",
       "      <td>1.000000</td>\n",
       "      <td>...</td>\n",
       "      <td>1.000000</td>\n",
       "      <td>1.000000</td>\n",
       "      <td>1.000000</td>\n",
       "      <td>1.000000</td>\n",
       "      <td>1.000000</td>\n",
       "      <td>1.000000</td>\n",
       "      <td>1.000000</td>\n",
       "      <td>1.000000</td>\n",
       "      <td>1.000000</td>\n",
       "      <td>1.000000</td>\n",
       "    </tr>\n",
       "  </tbody>\n",
       "</table>\n",
       "<p>8 rows × 23 columns</p>\n",
       "</div>"
      ],
      "text/plain": [
       "            Location        MinTemp        MaxTemp       Rainfall  \\\n",
       "count  147658.000000  147658.000000  147658.000000  147658.000000   \n",
       "mean        0.493035       0.482723       0.507326       0.004858   \n",
       "std         0.303268       0.147593       0.130442       0.017954   \n",
       "min         0.000000       0.000000       0.000000       0.000000   \n",
       "25%         0.208333       0.377934       0.411321       0.000000   \n",
       "50%         0.500000       0.481221       0.500000       0.000000   \n",
       "75%         0.770833       0.593897       0.596226       0.001266   \n",
       "max         1.000000       1.000000       1.000000       1.000000   \n",
       "\n",
       "         Evaporation       Sunshine    WindGustDir  WindGustSpeed  \\\n",
       "count  147658.000000  147658.000000  147658.000000  147658.000000   \n",
       "mean        0.037209       0.542021       0.534856       0.284975   \n",
       "std         0.022553       0.176276       0.311401       0.099531   \n",
       "min         0.000000       0.000000       0.000000       0.000000   \n",
       "25%         0.034354       0.565517       0.250000       0.218045   \n",
       "50%         0.034354       0.565517       0.562500       0.278195   \n",
       "75%         0.034354       0.565517       0.812500       0.330827   \n",
       "max         1.000000       1.000000       1.000000       1.000000   \n",
       "\n",
       "          WindDir9am     WindDir3pm  ...    Humidity3pm    Pressure3pm  \\\n",
       "count  147658.000000  147658.000000  ...  147658.000000  147658.000000   \n",
       "mean        0.519729       0.508136  ...       0.522283       0.622384   \n",
       "std         0.305004       0.301797  ...       0.204419       0.110576   \n",
       "min         0.000000       0.000000  ...       0.000000       0.000000   \n",
       "25%         0.250000       0.250000  ...       0.380000       0.554054   \n",
       "50%         0.500000       0.500000  ...       0.530000       0.621622   \n",
       "75%         0.750000       0.750000  ...       0.660000       0.692568   \n",
       "max         1.000000       1.000000  ...       1.000000       1.000000   \n",
       "\n",
       "            Cloud9am       Cloud3pm      RainToday           Year  \\\n",
       "count  147658.000000  147658.000000  147658.000000  147658.000000   \n",
       "mean        0.582161       0.537530       0.221051       0.528648   \n",
       "std         0.255315       0.225914       0.414956       0.263938   \n",
       "min         0.000000       0.000000       0.000000       0.000000   \n",
       "25%         0.444444       0.555556       0.000000       0.285714   \n",
       "50%         0.666667       0.555556       0.000000       0.500000   \n",
       "75%         0.777778       0.666667       0.000000       0.785714   \n",
       "max         1.000000       1.000000       1.000000       1.000000   \n",
       "\n",
       "           Month_sin      Month_cos        Day_sin        Day_cos  \n",
       "count  147658.000000  147658.000000  147658.000000  147658.000000  \n",
       "mean        0.491376       0.499620       0.500759       0.488837  \n",
       "std         0.351773       0.355222       0.356966       0.351338  \n",
       "min         0.000000       0.000000       0.000000       0.000000  \n",
       "25%         0.066987       0.066987       0.137138       0.118359  \n",
       "50%         0.500000       0.500000       0.500000       0.473324  \n",
       "75%         0.750000       0.933013       0.862862       0.844083  \n",
       "max         1.000000       1.000000       1.000000       1.000000  \n",
       "\n",
       "[8 rows x 23 columns]"
      ]
     },
     "execution_count": 493,
     "metadata": {},
     "output_type": "execute_result"
    }
   ],
   "source": [
    "X_train.describe()"
   ]
  },
  {
   "cell_type": "code",
   "execution_count": 494,
   "metadata": {
    "colab": {
     "base_uri": "https://localhost:8080/"
    },
    "id": "tA3vL-6ZWCJV",
    "outputId": "970a44d4-7285-4ecd-e401-20ce16b52bec"
   },
   "outputs": [
    {
     "name": "stdout",
     "output_type": "stream",
     "text": [
      "Epoch 1/150\n",
      "3692/3692 [==============================] - 3s 889us/step - loss: 0.4347 - accuracy: 0.7942 - val_loss: 0.3632 - val_accuracy: 0.8519\n",
      "Epoch 2/150\n",
      "3692/3692 [==============================] - 3s 857us/step - loss: 0.4085 - accuracy: 0.8344 - val_loss: 0.3562 - val_accuracy: 0.8519\n",
      "Epoch 3/150\n",
      "3692/3692 [==============================] - 3s 855us/step - loss: 0.4067 - accuracy: 0.8344 - val_loss: 0.3529 - val_accuracy: 0.8563\n",
      "Epoch 4/150\n",
      "3692/3692 [==============================] - 3s 855us/step - loss: 0.4054 - accuracy: 0.8341 - val_loss: 0.3578 - val_accuracy: 0.8541\n",
      "Epoch 5/150\n",
      "3692/3692 [==============================] - 3s 874us/step - loss: 0.4045 - accuracy: 0.8352 - val_loss: 0.3645 - val_accuracy: 0.8496\n",
      "Epoch 6/150\n",
      "3692/3692 [==============================] - 3s 860us/step - loss: 0.4035 - accuracy: 0.8348 - val_loss: 0.3682 - val_accuracy: 0.8513\n",
      "Epoch 7/150\n",
      "3692/3692 [==============================] - 3s 833us/step - loss: 0.4044 - accuracy: 0.8349 - val_loss: 0.3609 - val_accuracy: 0.8523\n",
      "Epoch 8/150\n",
      "3692/3692 [==============================] - 3s 838us/step - loss: 0.4021 - accuracy: 0.8359 - val_loss: 0.3615 - val_accuracy: 0.8519\n",
      "Epoch 9/150\n",
      "3692/3692 [==============================] - 3s 843us/step - loss: 0.4020 - accuracy: 0.8353 - val_loss: 0.3541 - val_accuracy: 0.8528\n",
      "Epoch 10/150\n",
      "3692/3692 [==============================] - 3s 854us/step - loss: 0.4014 - accuracy: 0.8357 - val_loss: 0.3526 - val_accuracy: 0.8524\n",
      "Epoch 11/150\n",
      "3692/3692 [==============================] - 3s 864us/step - loss: 0.4007 - accuracy: 0.8366 - val_loss: 0.3621 - val_accuracy: 0.8538\n",
      "Epoch 12/150\n",
      "3692/3692 [==============================] - 3s 859us/step - loss: 0.3997 - accuracy: 0.8361 - val_loss: 0.3524 - val_accuracy: 0.8507\n",
      "Epoch 13/150\n",
      "3692/3692 [==============================] - 3s 859us/step - loss: 0.4013 - accuracy: 0.8360 - val_loss: 0.3641 - val_accuracy: 0.8532\n",
      "Epoch 14/150\n",
      "3692/3692 [==============================] - 3s 860us/step - loss: 0.3993 - accuracy: 0.8363 - val_loss: 0.3636 - val_accuracy: 0.8533\n",
      "Epoch 15/150\n",
      "3692/3692 [==============================] - 3s 872us/step - loss: 0.3996 - accuracy: 0.8371 - val_loss: 0.3511 - val_accuracy: 0.8533\n",
      "Epoch 16/150\n",
      "3692/3692 [==============================] - 3s 855us/step - loss: 0.3983 - accuracy: 0.8366 - val_loss: 0.3568 - val_accuracy: 0.8550\n",
      "Epoch 17/150\n",
      "3692/3692 [==============================] - 3s 854us/step - loss: 0.3991 - accuracy: 0.8369 - val_loss: 0.3542 - val_accuracy: 0.8533\n",
      "Epoch 18/150\n",
      "3692/3692 [==============================] - 3s 862us/step - loss: 0.3981 - accuracy: 0.8377 - val_loss: 0.3533 - val_accuracy: 0.8519\n",
      "Epoch 19/150\n",
      "3692/3692 [==============================] - 3s 857us/step - loss: 0.3991 - accuracy: 0.8366 - val_loss: 0.3519 - val_accuracy: 0.8531\n",
      "Epoch 20/150\n",
      "3692/3692 [==============================] - 3s 859us/step - loss: 0.3989 - accuracy: 0.8372 - val_loss: 0.3576 - val_accuracy: 0.8536\n",
      "Epoch 21/150\n",
      "3692/3692 [==============================] - 3s 866us/step - loss: 0.3980 - accuracy: 0.8372 - val_loss: 0.3543 - val_accuracy: 0.8529\n",
      "Epoch 22/150\n",
      "3692/3692 [==============================] - 3s 881us/step - loss: 0.3967 - accuracy: 0.8378 - val_loss: 0.3493 - val_accuracy: 0.8507\n",
      "Epoch 23/150\n",
      "3692/3692 [==============================] - 3s 864us/step - loss: 0.3975 - accuracy: 0.8380 - val_loss: 0.3492 - val_accuracy: 0.8552\n",
      "Epoch 24/150\n",
      "3692/3692 [==============================] - 3s 868us/step - loss: 0.3970 - accuracy: 0.8380 - val_loss: 0.3512 - val_accuracy: 0.8532\n",
      "Epoch 25/150\n",
      "3692/3692 [==============================] - 3s 869us/step - loss: 0.3967 - accuracy: 0.8389 - val_loss: 0.3500 - val_accuracy: 0.8523\n",
      "Epoch 26/150\n",
      "3692/3692 [==============================] - 3s 846us/step - loss: 0.3959 - accuracy: 0.8381 - val_loss: 0.3497 - val_accuracy: 0.8525\n",
      "Epoch 27/150\n",
      "3692/3692 [==============================] - 3s 859us/step - loss: 0.3969 - accuracy: 0.8370 - val_loss: 0.3546 - val_accuracy: 0.8519\n",
      "Epoch 28/150\n",
      "3692/3692 [==============================] - 3s 857us/step - loss: 0.3967 - accuracy: 0.8381 - val_loss: 0.3474 - val_accuracy: 0.8555\n",
      "Epoch 29/150\n",
      "3692/3692 [==============================] - 3s 863us/step - loss: 0.3966 - accuracy: 0.8390 - val_loss: 0.3497 - val_accuracy: 0.8513\n",
      "Epoch 30/150\n",
      "3692/3692 [==============================] - 3s 858us/step - loss: 0.3969 - accuracy: 0.8388 - val_loss: 0.3527 - val_accuracy: 0.8511\n",
      "Epoch 31/150\n",
      "3692/3692 [==============================] - 3s 858us/step - loss: 0.3954 - accuracy: 0.8389 - val_loss: 0.3585 - val_accuracy: 0.8506\n",
      "Epoch 32/150\n",
      "3692/3692 [==============================] - 3s 865us/step - loss: 0.3959 - accuracy: 0.8389 - val_loss: 0.3527 - val_accuracy: 0.8526\n",
      "Epoch 33/150\n",
      "3692/3692 [==============================] - 3s 858us/step - loss: 0.3953 - accuracy: 0.8390 - val_loss: 0.3577 - val_accuracy: 0.8503\n",
      "Epoch 34/150\n",
      "3692/3692 [==============================] - 3s 871us/step - loss: 0.3960 - accuracy: 0.8379 - val_loss: 0.3470 - val_accuracy: 0.8545\n",
      "Epoch 35/150\n",
      "3692/3692 [==============================] - 3s 864us/step - loss: 0.3946 - accuracy: 0.8396 - val_loss: 0.3749 - val_accuracy: 0.8502\n",
      "Epoch 36/150\n",
      "3692/3692 [==============================] - 3s 866us/step - loss: 0.3952 - accuracy: 0.8384 - val_loss: 0.3523 - val_accuracy: 0.8513\n",
      "Epoch 37/150\n",
      "3692/3692 [==============================] - 3s 885us/step - loss: 0.3947 - accuracy: 0.8390 - val_loss: 0.3512 - val_accuracy: 0.8540\n",
      "Epoch 38/150\n",
      "3692/3692 [==============================] - 3s 876us/step - loss: 0.3950 - accuracy: 0.8388 - val_loss: 0.3478 - val_accuracy: 0.8538\n",
      "Epoch 39/150\n",
      "3692/3692 [==============================] - 3s 867us/step - loss: 0.3945 - accuracy: 0.8391 - val_loss: 0.3579 - val_accuracy: 0.8513\n",
      "Epoch 40/150\n",
      "3692/3692 [==============================] - 3s 852us/step - loss: 0.3956 - accuracy: 0.8400 - val_loss: 0.3488 - val_accuracy: 0.8550\n",
      "Epoch 41/150\n",
      "3692/3692 [==============================] - 3s 884us/step - loss: 0.3945 - accuracy: 0.8403 - val_loss: 0.3517 - val_accuracy: 0.8550\n",
      "Epoch 42/150\n",
      "3692/3692 [==============================] - 3s 869us/step - loss: 0.3952 - accuracy: 0.8393 - val_loss: 0.3606 - val_accuracy: 0.8507\n",
      "Epoch 43/150\n",
      "3692/3692 [==============================] - 3s 875us/step - loss: 0.3939 - accuracy: 0.8389 - val_loss: 0.3548 - val_accuracy: 0.8517\n",
      "Epoch 44/150\n",
      "3692/3692 [==============================] - 3s 857us/step - loss: 0.3943 - accuracy: 0.8386 - val_loss: 0.3502 - val_accuracy: 0.8541\n",
      "Epoch 45/150\n",
      "3692/3692 [==============================] - 3s 874us/step - loss: 0.3943 - accuracy: 0.8390 - val_loss: 0.3522 - val_accuracy: 0.8521\n",
      "Epoch 46/150\n",
      "3692/3692 [==============================] - 3s 871us/step - loss: 0.3947 - accuracy: 0.8394 - val_loss: 0.3465 - val_accuracy: 0.8547\n",
      "Epoch 47/150\n",
      "3692/3692 [==============================] - 3s 919us/step - loss: 0.3941 - accuracy: 0.8383 - val_loss: 0.3496 - val_accuracy: 0.8531\n",
      "Epoch 48/150\n",
      "3692/3692 [==============================] - 4s 1ms/step - loss: 0.3929 - accuracy: 0.8397 - val_loss: 0.3475 - val_accuracy: 0.8522\n"
     ]
    }
   ],
   "source": [
    "#Dense Neural Network with 5 Layers and additional dropout layers to avoid overfitting\n",
    "\n",
    "#Early stopping\n",
    "early_stopping = callbacks.EarlyStopping(\n",
    "    min_delta=0.001, # minimium amount of change to count as an improvement\n",
    "    patience=20, # how many epochs to wait before stopping\n",
    "    restore_best_weights=True,\n",
    ")\n",
    "\n",
    "# Initialising the NN\n",
    "model = Sequential()\n",
    "\n",
    "# layers\n",
    "model.add(Dense(units = 64, kernel_initializer = 'uniform', input_dim = X_train.shape[1]))\n",
    "model.add(tf.keras.layers.LeakyReLU(alpha=0.3))\n",
    "model.add(tf.keras.layers.Dropout(0.3))\n",
    "model.add(Dense(units = 32, kernel_initializer = 'uniform', activation = 'relu'))\n",
    "model.add(tf.keras.layers.Dropout(0.3))\n",
    "model.add(Dense(units = 16, kernel_initializer = 'uniform', activation = 'relu'))\n",
    "model.add(tf.keras.layers.Dropout(0.3))\n",
    "model.add(Dense(units = 5, kernel_initializer = 'uniform', activation = 'relu'))\n",
    "model.add(tf.keras.layers.Dropout(0.3))\n",
    "model.add(Dense(units = 1, kernel_initializer = 'uniform', activation = 'sigmoid'))\n",
    "\n",
    "# Compiling the ANN\n",
    "model.compile(optimizer = 'adam', loss = 'binary_crossentropy', metrics = ['accuracy'])\n",
    "\n",
    "# Train the ANN\n",
    "history = model.fit(X_train, y_train, batch_size = 32, epochs = 150, callbacks=[early_stopping], validation_split=0.2)"
   ]
  },
  {
   "cell_type": "code",
   "execution_count": 495,
   "metadata": {
    "id": "qIPnP4AtaYE1"
   },
   "outputs": [],
   "source": [
    "# Predicting the test set results\n",
    "y_pred = model.predict(X_test)\n",
    "y_pred = (y_pred > 0.5)\n",
    "\n"
   ]
  },
  {
   "cell_type": "code",
   "execution_count": 496,
   "metadata": {
    "colab": {
     "base_uri": "https://localhost:8080/",
     "height": 500
    },
    "id": "YJEyuqZTab-N",
    "outputId": "fe068e46-504d-49e1-df5f-6a774f7bea9e"
   },
   "outputs": [
    {
     "data": {
      "text/plain": [
       "<AxesSubplot:>"
      ]
     },
     "execution_count": 496,
     "metadata": {},
     "output_type": "execute_result"
    },
    {
     "data": {
      "image/png": "[encoded data removed]",
      "text/plain": [
       "<Figure size 864x576 with 2 Axes>"
      ]
     },
     "metadata": {
      "needs_background": "light"
     },
     "output_type": "display_data"
    }
   ],
   "source": [
    "# confusion matrix\n",
    "cmap1 = sns.diverging_palette(260,-10,s=50, l=75, n=5, as_cmap=True)\n",
    "plt.subplots(figsize=(12,8))\n",
    "cf_matrix = confusion_matrix(y_test, y_pred)\n",
    "sns.heatmap(cf_matrix/np.sum(cf_matrix), cmap = cmap1, annot = True, annot_kws = {'size':15})\n"
   ]
  },
  {
   "cell_type": "code",
   "execution_count": 497,
   "metadata": {
    "colab": {
     "base_uri": "https://localhost:8080/"
    },
    "id": "CRRxhBm3nf23",
    "outputId": "793bb94f-1fc1-4b29-95d2-be3ad6aeb9b8"
   },
   "outputs": [
    {
     "name": "stdout",
     "output_type": "stream",
     "text": [
      "              precision    recall  f1-score   support\n",
      "\n",
      "           0       0.89      0.96      0.92     29776\n",
      "           1       0.74      0.50      0.60      7139\n",
      "\n",
      "    accuracy                           0.87     36915\n",
      "   macro avg       0.81      0.73      0.76     36915\n",
      "weighted avg       0.86      0.87      0.86     36915\n",
      "\n"
     ]
    }
   ],
   "source": [
    "\n",
    "print(classification_report(y_test, y_pred))"
   ]
  },
  {
   "cell_type": "code",
   "execution_count": 498,
   "metadata": {
    "id": "DM_vj-lpCqeT"
   },
   "outputs": [
    {
     "name": "stdout",
     "output_type": "stream",
     "text": [
      "Model accuracy score: 0.8690\n"
     ]
    }
   ],
   "source": [
    "print('Model accuracy score: {0:0.4f}'. format(accuracy_score(y_test, y_pred)))"
   ]
  },
  {
   "cell_type": "markdown",
   "metadata": {
    "id": "vo8rNnKmdET0"
   },
   "source": [
    "## 23. Results and Conclusion <a class=\"anchor\" id=\"22\"></a>"
   ]
  },
  {
   "cell_type": "markdown",
   "metadata": {
    "id": "QY2dX2Yn0OD5"
   },
   "source": [
    "Since the sensitivity to wrong predictions of rainfall requires a specific use case, we can relax the model comparisons to just Accuracy here and not other measures like Precison and Recall. The other measures are more suitable when a particular FN or a FP is highly undesired in the use case.\n",
    "\n",
    "Accuracy of models:\n",
    "\n",
    "*   Logistic Regression : 0.8656\n",
    "-   Decision Trees      : 0.7931\n",
    "-   Randon Forests      : 0.8580\n",
    "*   Neural Nets         : 0.8690\n",
    "\n",
    "We pick Neural Networks as the best among all and we can further train the entire data to fit this model.\n"
   ]
  },
  {
   "cell_type": "code",
   "execution_count": null,
   "metadata": {},
   "outputs": [],
   "source": []
  }
 ],
 "metadata": {
  "colab": {
   "collapsed_sections": [],
   "name": "Australia_Rainfall_Prediction.ipynb",
   "provenance": [],
   "toc_visible": true
  },
  "kernelspec": {
   "display_name": "Python 3",
   "language": "python",
   "name": "python3"
  },
  "language_info": {
   "codemirror_mode": {
    "name": "ipython",
    "version": 3
   },
   "file_extension": ".py",
   "mimetype": "text/x-python",
   "name": "python",
   "nbconvert_exporter": "python",
   "pygments_lexer": "ipython3",
   "version": "3.8.3"
  }
 },
 "nbformat": 4,
 "nbformat_minor": 1
}
